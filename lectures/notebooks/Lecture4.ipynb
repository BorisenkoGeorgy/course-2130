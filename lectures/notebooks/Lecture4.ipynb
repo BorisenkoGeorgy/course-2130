{
 "nbformat": 4,
 "nbformat_minor": 0,
 "metadata": {
  "colab": {
   "provenance": [],
   "collapsed_sections": []
  },
  "kernelspec": {
   "name": "python3",
   "display_name": "Python 3"
  },
  "language_info": {
   "name": "python"
  }
 },
 "cells": [
  {
   "cell_type": "markdown",
   "metadata": {
    "id": "BzTUg94H2AmK"
   },
   "source": [
    "# Классы\n",
    "\n",
    "1. Классы предоставляют средства объединения данных и функциональности вместе.\n",
    "2. Создание нового класса создает новый тип объекта, позволяя создавать новые экземпляры этого типа.\n",
    "3. К каждому экземпляру класса могут быть прикреплены атрибуты для поддержания его состояния.\n",
    "4. Экземпляры класса также могут иметь методы (определяемые его классом) для изменения его состояния."
   ]
  },
  {
   "cell_type": "markdown",
   "source": [
    "Атрибуты класса могут быть индивидуальными для экземпляра или для типа."
   ],
   "metadata": {
    "collapsed": false
   }
  },
  {
   "cell_type": "code",
   "execution_count": null,
   "outputs": [],
   "source": [
    "# Общий атрибут для всех экземпляров типа А\n",
    "class A:\n",
    "    a = 1\n",
    "\n",
    "\n",
    "# Локальный атрибут для экземпляров типа А\n",
    "class A:\n",
    "    # ...\n",
    "    def __init__(self):\n",
    "        self.a = 1"
   ],
   "metadata": {
    "collapsed": false
   }
  },
  {
   "cell_type": "markdown",
   "source": [
    "Для создания класса необходимо вызвать конструктор."
   ],
   "metadata": {
    "collapsed": false
   }
  },
  {
   "cell_type": "code",
   "execution_count": null,
   "outputs": [],
   "source": [
    "var1 = A()\n",
    "var2 = A()\n",
    "print(id(var1), id(var2))\n",
    "print(type(var1))\n",
    "print(type(10))"
   ],
   "metadata": {
    "collapsed": false
   }
  },
  {
   "cell_type": "markdown",
   "source": [
    "Доступ к атрибутам класс будет осуществляться через `объект.имя_атрибута`"
   ],
   "metadata": {
    "collapsed": false
   }
  },
  {
   "cell_type": "code",
   "execution_count": null,
   "outputs": [],
   "source": [
    "print(var1.a)"
   ],
   "metadata": {
    "collapsed": false
   }
  },
  {
   "cell_type": "markdown",
   "source": [
    "За создание экземпляров класс отвечает функция `__init__`.\n",
    "\n",
    "`self` - текущий экземпляр класса после создания."
   ],
   "metadata": {
    "collapsed": false
   }
  },
  {
   "cell_type": "code",
   "metadata": {
    "id": "HYwEdGDf3SjB"
   },
   "source": [
    "class Dog:\n",
    "\n",
    "    kind = 'canine'  # переменная класса, общая для всех экземпляров\n",
    "\n",
    "    def __init__(self, name):\n",
    "        self.name = name  # переменная экземпляра, уникальная для каждого экземпляра"
   ],
   "execution_count": 33,
   "outputs": []
  },
  {
   "cell_type": "code",
   "execution_count": 34,
   "outputs": [
    {
     "name": "stdout",
     "output_type": "stream",
     "text": [
      "ABC canine\n"
     ]
    }
   ],
   "source": [
    "dog1 = Dog(\"a\")\n",
    "dog2 = Dog(\"b\")\n",
    "dog1.kind = \"ABC\"\n",
    "print(dog1.kind, dog2.kind)"
   ],
   "metadata": {
    "collapsed": false
   }
  },
  {
   "cell_type": "code",
   "metadata": {
    "id": "3zYldAyy3Xwv"
   },
   "source": [
    "class Dog:\n",
    "\n",
    "    tricks = []  # ошибочное использование переменной класса\n",
    "\n",
    "    def __init__(self, name):\n",
    "        self.name = name\n",
    "\n",
    "    def add_trick(self, trick):\n",
    "        self.tricks.append(trick)"
   ],
   "execution_count": 29,
   "outputs": []
  },
  {
   "cell_type": "markdown",
   "source": [
    "Теперь научим каждую собаку разным трюкам."
   ],
   "metadata": {
    "collapsed": false
   }
  },
  {
   "cell_type": "code",
   "execution_count": 30,
   "outputs": [],
   "source": [
    "fido = Dog('Fido')\n",
    "buddy = Dog('Buddy')"
   ],
   "metadata": {
    "collapsed": false
   }
  },
  {
   "cell_type": "code",
   "metadata": {
    "colab": {
     "base_uri": "https://localhost:8080/"
    },
    "id": "Iacobroo3XUE",
    "outputId": "467b78d8-994b-480d-f694-d6418d439def"
   },
   "source": [
    "fido.add_trick('roll over')\n",
    "buddy.add_trick('play dead')"
   ],
   "execution_count": 31,
   "outputs": []
  },
  {
   "cell_type": "code",
   "execution_count": 32,
   "outputs": [
    {
     "name": "stdout",
     "output_type": "stream",
     "text": [
      "Fido tricks: ['roll over', 'play dead']\n",
      "Buddy tricks: ['roll over', 'play dead']\n"
     ]
    }
   ],
   "source": [
    "print(f\"Fido tricks: {fido.tricks}\")\n",
    "print(f\"Buddy tricks: {buddy.tricks}\")"
   ],
   "metadata": {
    "collapsed": false
   }
  },
  {
   "cell_type": "markdown",
   "source": [
    "Таким образом, правило, которые мы изучили для функций (все переменные создаются не при вызове, а при инициализации функции) работает и для классов."
   ],
   "metadata": {
    "collapsed": false
   }
  },
  {
   "cell_type": "code",
   "execution_count": 35,
   "outputs": [
    {
     "name": "stdout",
     "output_type": "stream",
     "text": [
      "[repr] my list: [1, 2, 3] [str] my list: [1, 2, 3]\n"
     ]
    }
   ],
   "source": [
    "class MyList:\n",
    "    def __init__(self, input_list):\n",
    "        self.input_list = input_list\n",
    "\n",
    "    def __repr__(self):\n",
    "        return f\"[repr] my list: {self.input_list}\"\n",
    "\n",
    "    def __str__(self):\n",
    "        return f\"[str] my list: {self.input_list}\"\n",
    "\n",
    "\n",
    "my_list = MyList([1, 2, 3])\n",
    "a = repr(my_list)\n",
    "b = str(my_list)\n",
    "print(a, b)"
   ],
   "metadata": {
    "collapsed": false
   }
  },
  {
   "cell_type": "code",
   "execution_count": 36,
   "outputs": [
    {
     "name": "stdout",
     "output_type": "stream",
     "text": [
      "What is Lorem Ipsum?\n",
      "Lorem Ipsum is simply dummy text of the printing and typesetting industry.\n",
      "Lorem Ipsum has been the industry's standard dummy text ever since the 1500s,\n",
      "when an unknown printer took a galley of type and scrambled it to make a type specimen book.\n",
      "It has survived not only five centuries, but also the leap into electronic typesetting, remaining essentially unchanged.\n",
      "It was popularised in the 1960s with the release of Letraset sheets containing Lorem Ipsum passages, and more recently with\n",
      "desktop publishing software like Aldus PageMaker including versions of Lorem Ipsum.\n"
     ]
    }
   ],
   "source": [
    "class Door:\n",
    "    def close(self):\n",
    "        pass\n",
    "\n",
    "    def open(self):\n",
    "        pass\n",
    "\n",
    "\n",
    "class _open:\n",
    "    def __init__(self, file_path: str):\n",
    "        self.f = open(file_path)\n",
    "\n",
    "    def close(self):\n",
    "        self.f.close()\n",
    "\n",
    "    def read(self):\n",
    "        result = self.f.read()\n",
    "        self.f.seek(0)\n",
    "        return result\n",
    "\n",
    "\n",
    "F = _open(\"test.txt\")\n",
    "print(F.read())\n",
    "\n",
    "\n",
    "class Fractions:\n",
    "    def __init__(self):\n",
    "        self.nominator = 0\n",
    "        self.denominator = 1\n",
    "\n",
    "    def __add__(self, other):\n",
    "        pass\n",
    "\n",
    "# инкапсуляция\n",
    "# наследование\n",
    "# полиморфизм"
   ],
   "metadata": {
    "collapsed": false
   }
  },
  {
   "cell_type": "markdown",
   "source": [
    "http://www.codenet.ru/progr/cpp/ipn.php\n",
    "\n",
    "> Инкапсуляция (encapsulation) - это механизм, который объединяет данные и код, манипулирующий зтими данными, а также защищает и то, и другое от внешнего вмешательства или неправильного использования. В объектно-ориентированном программировании код и данные могут быть объединены вместе; в этом случае говорят, что создаётся так называемый \"чёрный ящик\". Когда коды и данные объединяются таким способом, создаётся объект (object). Другими словами, объект - это то, что поддерживает инкапсуляцию.\n",
    "\n",
    "> Полиморфизм (polymorphism) (от греческого polymorphos) - это свойство, которое позволяет одно и то же имя использовать для решения двух или более схожих, но технически разных задач. Целью полиморфизма, применительно к объектно-ориентированному программированию, является использование одного имени для задания общих для класса действий. Выполнение каждого конкретного действия будет определяться типом данных. Например для языка Си, в котором полиморфизм поддерживается недостаточно, нахождение абсолютной величины числа требует трёх различных функций: abs(), labs() и fabs(). Эти функции подсчитывают и возвращают абсолютную величину целых, длинных целых и чисел с плавающей точкой соответственно. В С++ каждая из этих функций может быть названа abs(). Тип данных, который используется при вызове функции, определяет, какая конкретная версия функции действительно выполняется. В С++ можно использовать одно имя функции для множества различных действий. Это называется перегрузкой функций (function overloading).\n",
    "\n",
    "> Наследование (inheritance) - это процесс, посредством которого один объект может приобретать свойства другого. Точнее, объект может наследовать основные свойства другого объекта и добавлять к ним черты, характерные только для него. Наследование является важным, поскольку оно позволяет поддерживать концепцию иерархии классов (hierarchical classification). Применение иерархии классов делает управляемыми большие потоки информации. Например, подумайте об описании жилого дома. Дом - это часть общего класса, называемого строением. С другой стороны, строение - это часть более общего класса - конструкции, который является частью ещё более общего класса объектов, который можно назвать созданием рук человека. В каждом случае порождённый класс наследует все, связанные с родителем, качества и добавляет к ним свои собственные определяющие характеристики. Без использования иерархии классов, для каждого объекта пришлось бы задать все характеристики, которые бы исчерпывающи его определяли. Однако при использовании наследования можно описать объект путём определения того общего класса (или классов), к которому он относится, с теми специальными чертами, которые делают объект уникальным. Наследование играет очень важную роль в OOP."
   ],
   "metadata": {
    "collapsed": false
   }
  },
  {
   "cell_type": "markdown",
   "metadata": {
    "id": "61YrCeP38SZV"
   },
   "source": [
    "## Наследование\n",
    "\n",
    "\n",
    "```\n",
    "class DerivedClassName(BaseClassName):\n",
    "    <statement-1>\n",
    "    .\n",
    "    .\n",
    "    .\n",
    "    <statement-N>\n",
    "```\n",
    "\n",
    "Выполнение определения производного класса происходит так же, как и для базового класса. Когда создается объект класса, запоминается базовый класс. Это используется для разрешения ссылок на атрибуты:\n",
    "1. если запрошенный атрибут не найден в классе, поиск продолжается в базовом классе.\n",
    "2. Это правило применяется рекурсивно, если сам базовый класс является производным от какого-либо другого класса.\n",
    "\n"
   ]
  },
  {
   "cell_type": "code",
   "execution_count": 2,
   "outputs": [
    {
     "name": "stdout",
     "output_type": "stream",
     "text": [
      "I am second base\n"
     ]
    },
    {
     "data": {
      "text/plain": "10"
     },
     "execution_count": 2,
     "metadata": {},
     "output_type": "execute_result"
    }
   ],
   "source": [
    "class Base:\n",
    "    base_attr = 10\n",
    "\n",
    "    def print(self):\n",
    "        print(\"I am base class\")\n",
    "\n",
    "\n",
    "class SecondBase(Base):\n",
    "\n",
    "    def print(self):\n",
    "        print(\"I am second base\")\n",
    "\n",
    "\n",
    "second_base = SecondBase()\n",
    "\n",
    "second_base.print()\n",
    "second_base.base_attr"
   ],
   "metadata": {
    "collapsed": false
   }
  },
  {
   "cell_type": "code",
   "metadata": {
    "id": "My7TfkRZ8Rux"
   },
   "source": [
    "class A:\n",
    "    a = 2\n",
    "\n",
    "    def a_print(self):\n",
    "        print('aaaaaa')\n",
    "\n",
    "\n",
    "class B(A):\n",
    "    def b_print(self):\n",
    "        print('bbbbbb')"
   ],
   "execution_count": null,
   "outputs": []
  },
  {
   "cell_type": "code",
   "metadata": {
    "colab": {
     "base_uri": "https://localhost:8080/"
    },
    "id": "aROUi850ALRS",
    "outputId": "4cf30964-93a5-492e-c89f-c65605545190"
   },
   "source": [
    "b = B()\n",
    "b.a_print()\n",
    "b.b_print()\n",
    "print(B.a)"
   ],
   "execution_count": null,
   "outputs": []
  },
  {
   "cell_type": "markdown",
   "metadata": {
    "id": "a9IDFcAN9Dt7"
   },
   "source": [
    "## Множественное наследование\n",
    "\n",
    "```\n",
    "class DerivedClassName(Base1, Base2, Base3):\n",
    "    <statement-1>\n",
    "    .\n",
    "    .\n",
    "    .\n",
    "    <statement-N>\n",
    "```\n",
    "\n",
    "В большинстве случаев в простейших случаях вы можете рассматривать поиск атрибутов, унаследованных от родительского класса, как поиск в глубину слева направо, а не двойной поиск в одном и том же классе, где есть перекрытие в иерархии. Таким образом, если атрибут не найден в DerivedClassName, он ищется в Base1, затем (рекурсивно) в базовых классах Base1, и, если он не был найден там, он искался в Base2, и так далее."
   ]
  },
  {
   "cell_type": "markdown",
   "metadata": {
    "id": "uUGMapH19LTk"
   },
   "source": [
    "## Частные (private) переменные\n",
    "\n",
    "«Частные» переменные экземпляра, к которым нельзя получить доступ, кроме как изнутри объекта, в Python не существует. Однако существует соглашение, которому следует большая часть кода Python: имя с префиксом подчеркивания (например `_spam`) должно рассматриваться как закрытая часть API (будь то функция, метод или член данных). Это следует рассматривать как деталь реализации и может быть изменено без предварительного уведомления.\n",
    "\n",
    "Поскольку существует допустимый вариант использования для частных членов класса (а именно, чтобы избежать конфликтов имен с именами, определенными подклассами), существует ограниченная поддержка такого механизма, называемого искажением имен. Любой идентификатор формы `__spam`(не менее двух ведущих подчеркиваний, не более одного подчеркивания в конце) текстуально заменяется на `_classname__spam`, где `classname` - текущее имя класса с удаленными ведущими подчеркиваниями. Это изменение выполняется без учета синтаксической позиции идентификатора, если оно встречается в определении класса."
   ]
  },
  {
   "cell_type": "code",
   "metadata": {
    "id": "JTB44OxoYEsZ"
   },
   "source": [
    "class A:\n",
    "    def _foo(self):\n",
    "        # You are not allowed to use this method\n",
    "        print('foo')\n",
    "\n",
    "    def public_method(self):\n",
    "        print('some public method')\n",
    "        self._foo()\n",
    "\n",
    "\n",
    "a = A()\n",
    "dir(a)\n",
    "a._foo()"
   ],
   "execution_count": 6,
   "outputs": [
    {
     "name": "stdout",
     "output_type": "stream",
     "text": [
      "foo\n"
     ]
    }
   ]
  },
  {
   "cell_type": "code",
   "metadata": {
    "id": "NgYQGYMp9AWP"
   },
   "source": [
    "class B:\n",
    "    def __foo(self):\n",
    "        print('foo')\n",
    "\n",
    "\n",
    "o = B()"
   ],
   "execution_count": 4,
   "outputs": []
  },
  {
   "cell_type": "code",
   "metadata": {
    "colab": {
     "base_uri": "https://localhost:8080/",
     "height": 164
    },
    "id": "kIbWa2zJHGox",
    "outputId": "3b41a7ba-92f8-497c-e540-86785d7727d5"
   },
   "source": [
    "o.__foo()"
   ],
   "execution_count": 5,
   "outputs": [
    {
     "ename": "AttributeError",
     "evalue": "'B' object has no attribute '__foo'",
     "output_type": "error",
     "traceback": [
      "\u001B[0;31m---------------------------------------------------------------------------\u001B[0m",
      "\u001B[0;31mAttributeError\u001B[0m                            Traceback (most recent call last)",
      "Cell \u001B[0;32mIn [5], line 1\u001B[0m\n\u001B[0;32m----> 1\u001B[0m o\u001B[38;5;241m.\u001B[39m__foo()\n",
      "\u001B[0;31mAttributeError\u001B[0m: 'B' object has no attribute '__foo'"
     ]
    }
   ]
  },
  {
   "cell_type": "code",
   "metadata": {
    "colab": {
     "base_uri": "https://localhost:8080/"
    },
    "id": "JXEunc8UHJA1",
    "outputId": "7f2f3001-d16b-4536-ec28-4a4df98e598b"
   },
   "source": [
    "dir(o)"
   ],
   "execution_count": 7,
   "outputs": [
    {
     "data": {
      "text/plain": "['_B__foo',\n '__class__',\n '__delattr__',\n '__dict__',\n '__dir__',\n '__doc__',\n '__eq__',\n '__format__',\n '__ge__',\n '__getattribute__',\n '__gt__',\n '__hash__',\n '__init__',\n '__init_subclass__',\n '__le__',\n '__lt__',\n '__module__',\n '__ne__',\n '__new__',\n '__reduce__',\n '__reduce_ex__',\n '__repr__',\n '__setattr__',\n '__sizeof__',\n '__str__',\n '__subclasshook__',\n '__weakref__']"
     },
     "execution_count": 7,
     "metadata": {},
     "output_type": "execute_result"
    }
   ]
  },
  {
   "cell_type": "code",
   "metadata": {
    "colab": {
     "base_uri": "https://localhost:8080/"
    },
    "id": "Wj-7tC2XHPNb",
    "outputId": "3307bce6-16e8-4cd1-8a00-a45e5e0c7c29"
   },
   "source": [
    "o._B__foo()"
   ],
   "execution_count": 8,
   "outputs": [
    {
     "name": "stdout",
     "output_type": "stream",
     "text": [
      "foo\n"
     ]
    }
   ]
  },
  {
   "cell_type": "code",
   "execution_count": 9,
   "outputs": [
    {
     "data": {
      "text/plain": "['_Base__first',\n '__class__',\n '__delattr__',\n '__dict__',\n '__dir__',\n '__doc__',\n '__eq__',\n '__format__',\n '__ge__',\n '__getattribute__',\n '__gt__',\n '__hash__',\n '__init__',\n '__init_subclass__',\n '__le__',\n '__lt__',\n '__module__',\n '__ne__',\n '__new__',\n '__reduce__',\n '__reduce_ex__',\n '__repr__',\n '__setattr__',\n '__sizeof__',\n '__str__',\n '__subclasshook__',\n '__weakref__']"
     },
     "execution_count": 9,
     "metadata": {},
     "output_type": "execute_result"
    }
   ],
   "source": [
    "class Base:\n",
    "    def __first(self):\n",
    "        print(\"I am base class\")\n",
    "\n",
    "\n",
    "class SecondBase(Base):\n",
    "    pass\n",
    "\n",
    "\n",
    "second_base = SecondBase()\n",
    "\n",
    "dir(second_base)"
   ],
   "metadata": {
    "collapsed": false
   }
  },
  {
   "cell_type": "markdown",
   "metadata": {
    "id": "t8v-1AuG9dtU"
   },
   "source": [
    "## Итераторы\n",
    "\n",
    "\n",
    "`for` стиль доступа ясен, лаконичен и удобен. Использование итераторов пронизывает и унифицирует Python.\n",
    "За кулисами for оператор вызывает `iter()`объект-контейнер.\n",
    "Функция возвращает объект-итератор, который определяет метод, `__next__()` который обращается к элементам в контейнере по одному за раз.\n",
    "Когда элементов больше нет, `__next__()` вызывает `StopIteration` исключение, которое говорит о завершении `for` цикла.\n",
    "Вы можете вызвать `__next__()` метод с помощью `next()` встроенной функции; этот пример показывает, как все это работает:\n",
    "\n",
    "```\n",
    ">>> s = 'abc'\n",
    ">>> it = iter(s)\n",
    ">>> it\n",
    "<iterator object at 0x00A1DB50>\n",
    ">>> next(it)\n",
    "'a'\n",
    ">>> next(it)\n",
    "'b'\n",
    ">>> next(it)\n",
    "'c'\n",
    ">>> next(it)\n",
    "Traceback (most recent call last):\n",
    "  File \"<stdin>\", line 1, in <module>\n",
    "    next(it)\n",
    "StopIteration\n",
    "```"
   ]
  },
  {
   "cell_type": "code",
   "execution_count": 13,
   "outputs": [],
   "source": [
    "data = [100] * 100\n",
    "\n",
    "for item in data:\n",
    "    pass\n",
    "\n",
    "for i in range(len(data)):\n",
    "    pass"
   ],
   "metadata": {
    "collapsed": false
   }
  },
  {
   "cell_type": "code",
   "execution_count": 16,
   "outputs": [
    {
     "ename": "TypeError",
     "evalue": "'list' object is not an iterator",
     "output_type": "error",
     "traceback": [
      "\u001B[0;31m---------------------------------------------------------------------------\u001B[0m",
      "\u001B[0;31mTypeError\u001B[0m                                 Traceback (most recent call last)",
      "Cell \u001B[0;32mIn [16], line 1\u001B[0m\n\u001B[0;32m----> 1\u001B[0m \u001B[38;5;28mnext\u001B[39m(data)\n",
      "\u001B[0;31mTypeError\u001B[0m: 'list' object is not an iterator"
     ]
    }
   ],
   "source": [
    "next(data)"
   ],
   "metadata": {
    "collapsed": false
   }
  },
  {
   "cell_type": "code",
   "metadata": {
    "colab": {
     "base_uri": "https://localhost:8080/"
    },
    "id": "O8wjQthLdViV",
    "outputId": "b4e245d7-1192-4b9c-a17d-06b1826b44bc"
   },
   "source": [
    "for i in iter('avc'):\n",
    "    print(i)"
   ],
   "execution_count": null,
   "outputs": []
  },
  {
   "cell_type": "code",
   "metadata": {
    "id": "0iQHQfNy9ANM"
   },
   "source": [
    "class Reverse:\n",
    "    \"\"\"Iterator for looping over a sequence backwards.\"\"\"\n",
    "\n",
    "    def __init__(self, data):\n",
    "        self.data = data\n",
    "        self.index = len(data)\n",
    "\n",
    "    def __iter__(self):\n",
    "        return self\n",
    "\n",
    "    def __next__(self):\n",
    "        if self.index == 0:\n",
    "            raise StopIteration\n",
    "        self.index = self.index - 1\n",
    "        return self.data[self.index]"
   ],
   "execution_count": 18,
   "outputs": []
  },
  {
   "cell_type": "code",
   "metadata": {
    "colab": {
     "base_uri": "https://localhost:8080/"
    },
    "id": "_OOkWQ5NICbs",
    "outputId": "eb497275-3ab4-452f-c2c0-d759a24a78d8"
   },
   "source": [
    "rev = Reverse('spam')\n",
    "print(iter(rev))\n",
    "for char in rev:\n",
    "    print(char)"
   ],
   "execution_count": 19,
   "outputs": [
    {
     "name": "stdout",
     "output_type": "stream",
     "text": [
      "<__main__.Reverse object at 0x10a045a90>\n",
      "m\n",
      "a\n",
      "p\n",
      "s\n"
     ]
    }
   ]
  },
  {
   "cell_type": "code",
   "execution_count": 20,
   "outputs": [
    {
     "ename": "StopIteration",
     "evalue": "",
     "output_type": "error",
     "traceback": [
      "\u001B[0;31m---------------------------------------------------------------------------\u001B[0m",
      "\u001B[0;31mStopIteration\u001B[0m                             Traceback (most recent call last)",
      "Cell \u001B[0;32mIn [20], line 7\u001B[0m\n\u001B[1;32m      5\u001B[0m \u001B[38;5;28mnext\u001B[39m(example_list_iter)\n\u001B[1;32m      6\u001B[0m \u001B[38;5;28mnext\u001B[39m(example_list_iter)\n\u001B[0;32m----> 7\u001B[0m \u001B[38;5;28mnext\u001B[39m(example_list_iter)\n\u001B[1;32m      8\u001B[0m \u001B[38;5;28mnext\u001B[39m(example_list_iter)\n",
      "\u001B[0;31mStopIteration\u001B[0m: "
     ]
    }
   ],
   "source": [
    "example_list = [1, 2, 3]\n",
    "example_list_iter = iter(example_list)\n",
    "\n",
    "next(example_list_iter)\n",
    "next(example_list_iter)\n",
    "next(example_list_iter)\n",
    "next(example_list_iter)\n",
    "next(example_list_iter)\n"
   ],
   "metadata": {
    "collapsed": false
   }
  },
  {
   "cell_type": "markdown",
   "metadata": {
    "id": "CUU8CbNe9pvy"
   },
   "source": [
    "## Генераторы\n",
    "\n",
    "Генераторы - это простой и мощный инструмент для создания итераторов. Они написаны как обычные функции, но используют `yield` оператор всякий раз, когда хотят вернуть данные. Каждый раз, когда `next()` вызывается, генератор возобновляет работу с того места, где он остановился (он запоминает все значения данных и какой оператор был выполнен последним). Пример показывает, что генераторы можно тривиально легко создать\n",
    "\n",
    "```\n",
    "def reverse(data):\n",
    "    for index in range(len(data)-1, -1, -1):\n",
    "        yield data[index]\n",
    "```"
   ]
  },
  {
   "cell_type": "code",
   "metadata": {
    "id": "2M_YdjZRebhD"
   },
   "source": [
    "def foo():\n",
    "    a = 1\n",
    "    while True:\n",
    "        yield a\n",
    "        a += 1"
   ],
   "execution_count": 21,
   "outputs": []
  },
  {
   "cell_type": "code",
   "metadata": {
    "colab": {
     "base_uri": "https://localhost:8080/"
    },
    "id": "OwuhGPKSesDf",
    "outputId": "a5027d5a-ab0c-43e6-fa49-403070588f0e"
   },
   "source": [
    "my_iter = foo()\n",
    "next(my_iter)"
   ],
   "execution_count": 22,
   "outputs": [
    {
     "data": {
      "text/plain": "1"
     },
     "execution_count": 22,
     "metadata": {},
     "output_type": "execute_result"
    }
   ]
  },
  {
   "cell_type": "code",
   "metadata": {
    "colab": {
     "base_uri": "https://localhost:8080/"
    },
    "id": "zLjOwB-qe46X",
    "outputId": "966a9440-fb1d-4cde-9192-73e9885949c0"
   },
   "source": [
    "next(my_iter)"
   ],
   "execution_count": 23,
   "outputs": [
    {
     "data": {
      "text/plain": "2"
     },
     "execution_count": 23,
     "metadata": {},
     "output_type": "execute_result"
    }
   ]
  },
  {
   "cell_type": "markdown",
   "metadata": {
    "id": "2Ss7rDbvrGA3"
   },
   "source": [
    "# Декораторы\n",
    "\n",
    "Итак, фукнции в `python` это объекты. Вы можете передавать их, присваивать их в значения.\n",
    "\n",
    "https://www.python.org/dev/peps/pep-0318/"
   ]
  },
  {
   "cell_type": "code",
   "metadata": {
    "id": "flm54Mv3nq5T"
   },
   "source": [
    "prt = print"
   ],
   "execution_count": null,
   "outputs": []
  },
  {
   "cell_type": "code",
   "metadata": {
    "colab": {
     "base_uri": "https://localhost:8080/"
    },
    "id": "mwvS4GGpro4a",
    "outputId": "69e17dbc-36c5-4e4e-cebe-e866278d41c8"
   },
   "source": [
    "prt(1, 2, 3)"
   ],
   "execution_count": null,
   "outputs": []
  },
  {
   "cell_type": "code",
   "metadata": {
    "id": "9qFy_NYtrqLa"
   },
   "source": [
    "def my_sum(a, b):\n",
    "    return a + b"
   ],
   "execution_count": null,
   "outputs": []
  },
  {
   "cell_type": "code",
   "metadata": {
    "id": "UEj55Hw8rvNx"
   },
   "source": [
    "s = my_sum"
   ],
   "execution_count": null,
   "outputs": []
  },
  {
   "cell_type": "code",
   "metadata": {
    "colab": {
     "base_uri": "https://localhost:8080/"
    },
    "id": "vKBECVUmrwe1",
    "outputId": "46e588f1-9b76-4ba6-959f-a0951a3e675e"
   },
   "source": [
    "s(1, 2)"
   ],
   "execution_count": null,
   "outputs": []
  },
  {
   "cell_type": "code",
   "metadata": {
    "id": "rLXNTBMwfg_u"
   },
   "source": [
    "import random\n",
    "\n",
    "\n",
    "def foo(f1, f2):\n",
    "    if random.uniform(0, 1) > 0.5:\n",
    "        return f1()\n",
    "    else:\n",
    "        return f2()"
   ],
   "execution_count": null,
   "outputs": []
  },
  {
   "cell_type": "code",
   "metadata": {
    "colab": {
     "base_uri": "https://localhost:8080/"
    },
    "id": "1ItmIeE1fxjq",
    "outputId": "27d16e1d-f0fe-448e-ff64-6c1384d2b638"
   },
   "source": [
    "def a():\n",
    "    print('I am first')\n",
    "\n",
    "\n",
    "def b():\n",
    "    print('I am second')"
   ],
   "execution_count": null,
   "outputs": []
  },
  {
   "cell_type": "code",
   "metadata": {
    "colab": {
     "base_uri": "https://localhost:8080/"
    },
    "id": "CK5Mw_Mzf8kb",
    "outputId": "e13a40ed-973d-486e-afe7-533b1320b572"
   },
   "source": [
    "for i in range(10):\n",
    "    foo(a, b)"
   ],
   "execution_count": null,
   "outputs": []
  },
  {
   "cell_type": "markdown",
   "metadata": {
    "id": "H90mHqCgvCht"
   },
   "source": [
    "Итак вам нужно перед запуском каждой функции печатать текст `Hello`"
   ]
  },
  {
   "cell_type": "code",
   "metadata": {
    "id": "LdhOh1YlrxJ6"
   },
   "source": [
    "def foo():\n",
    "    print('foo call')"
   ],
   "execution_count": null,
   "outputs": []
  },
  {
   "cell_type": "code",
   "metadata": {
    "colab": {
     "base_uri": "https://localhost:8080/"
    },
    "id": "fEUlPlyqwQCs",
    "outputId": "323f815b-959b-46ad-dc1f-b34a2b013541"
   },
   "source": [
    "print('Hello')\n",
    "foo()"
   ],
   "execution_count": null,
   "outputs": []
  },
  {
   "cell_type": "code",
   "metadata": {
    "id": "Rf9_JcQrwlb7"
   },
   "source": [
    "def greeter(func, *args):\n",
    "    print('Hello')\n",
    "    func(*args)"
   ],
   "execution_count": null,
   "outputs": []
  },
  {
   "cell_type": "code",
   "metadata": {
    "colab": {
     "base_uri": "https://localhost:8080/"
    },
    "id": "hj9CGVu3xYZS",
    "outputId": "63f1bfbd-dc2a-459a-dc24-5db76dfd7aac"
   },
   "source": [
    "greeter(foo)"
   ],
   "execution_count": null,
   "outputs": []
  },
  {
   "cell_type": "code",
   "metadata": {
    "id": "pooKHNt9gf8J"
   },
   "source": [
    "wrapped_foo = greeter(foo)"
   ],
   "execution_count": null,
   "outputs": []
  },
  {
   "cell_type": "markdown",
   "metadata": {
    "id": "IJuh28hDyC3O"
   },
   "source": [
    "Но тут вызов произошел при вызове нашей `обертки`. Как это исправить?"
   ]
  },
  {
   "cell_type": "code",
   "metadata": {
    "id": "uJZJ0E-lyMTW"
   },
   "source": [
    "def greeter(func):\n",
    "    a = 1\n",
    "\n",
    "    def nested_func():\n",
    "        print(f'Hello {a}:{b}')\n",
    "        func()\n",
    "\n",
    "    b = 1\n",
    "    return nested_func"
   ],
   "execution_count": null,
   "outputs": []
  },
  {
   "cell_type": "code",
   "metadata": {
    "id": "QrVe9VKFyYzO"
   },
   "source": [
    "test_f = greeter(foo)"
   ],
   "execution_count": null,
   "outputs": []
  },
  {
   "cell_type": "code",
   "metadata": {
    "colab": {
     "base_uri": "https://localhost:8080/"
    },
    "id": "8n-y3noayaKL",
    "outputId": "54522b1e-7ac2-4e22-f6fb-7cab8f01fc52"
   },
   "source": [
    "test_f()"
   ],
   "execution_count": null,
   "outputs": []
  },
  {
   "cell_type": "code",
   "metadata": {
    "id": "4IlhLErLxjM-"
   },
   "source": [
    "def fancy_decorator(func):\n",
    "    def new_func():\n",
    "        print('>before')\n",
    "        func()\n",
    "        print('>after')\n",
    "\n",
    "    return new_func"
   ],
   "execution_count": null,
   "outputs": []
  },
  {
   "cell_type": "code",
   "metadata": {
    "id": "a1QXSYKhxqjW"
   },
   "source": [
    "@fancy_decorator\n",
    "def my_function():\n",
    "    \"\"\"My function\"\"\"\n",
    "    print('Hello')"
   ],
   "execution_count": null,
   "outputs": []
  },
  {
   "cell_type": "code",
   "metadata": {
    "colab": {
     "base_uri": "https://localhost:8080/"
    },
    "id": "US2rvsLaxtFs",
    "outputId": "ccd9787f-c383-45e0-af20-152642230cfe"
   },
   "source": [
    "my_function()"
   ],
   "execution_count": null,
   "outputs": []
  },
  {
   "cell_type": "code",
   "metadata": {
    "colab": {
     "base_uri": "https://localhost:8080/",
     "height": 35
    },
    "id": "pdAdJTT6haDW",
    "outputId": "b505e822-cf23-4367-fc22-b020da4264a8"
   },
   "source": [
    "def foo():\n",
    "    '''test doc'''\n",
    "    pass\n",
    "\n",
    "\n",
    "foo.__name__"
   ],
   "execution_count": null,
   "outputs": []
  },
  {
   "cell_type": "code",
   "metadata": {
    "colab": {
     "base_uri": "https://localhost:8080/"
    },
    "id": "YYaIwv8txvTl",
    "outputId": "a9c4009b-7564-4ff0-c5af-f8c8458cbe15"
   },
   "source": [
    "my_function.__doc__, my_function.__name__"
   ],
   "execution_count": null,
   "outputs": []
  },
  {
   "cell_type": "code",
   "metadata": {
    "id": "ZPbBf8d1xy7e"
   },
   "source": [
    "def fancy_decorator_1(func):\n",
    "    def new_func():\n",
    "        print('I am the first one')\n",
    "        func()\n",
    "        print('End fancy_decorator_1')\n",
    "\n",
    "    return new_func\n",
    "\n",
    "\n",
    "def fancy_decorator_2(func):\n",
    "    def new_func():\n",
    "        print('I am the second one')\n",
    "        func()\n",
    "        print('End fancy_decorator_2')\n",
    "\n",
    "    return new_func"
   ],
   "execution_count": null,
   "outputs": []
  },
  {
   "cell_type": "code",
   "metadata": {
    "id": "igmSUcb2x2PH"
   },
   "source": [
    "def my_function_v2():\n",
    "    print('Hi from my function 2')"
   ],
   "execution_count": null,
   "outputs": []
  },
  {
   "cell_type": "code",
   "metadata": {
    "id": "VwGUsT26x38Z"
   },
   "source": [
    "my_function_v2 = fancy_decorator_1(fancy_decorator_2(my_function_v2))"
   ],
   "execution_count": null,
   "outputs": []
  },
  {
   "cell_type": "code",
   "metadata": {
    "colab": {
     "base_uri": "https://localhost:8080/"
    },
    "id": "zXKMTpQbx69h",
    "outputId": "12a66172-1c94-4380-91ec-d750197190d1"
   },
   "source": [
    "print(my_function_v2())"
   ],
   "execution_count": null,
   "outputs": []
  },
  {
   "cell_type": "code",
   "metadata": {
    "id": "qC7g96PZx-8s"
   },
   "source": [
    "@fancy_decorator_1\n",
    "@fancy_decorator_2\n",
    "def my_function_v2():\n",
    "    print('Hell from my function 2')"
   ],
   "execution_count": null,
   "outputs": []
  },
  {
   "cell_type": "code",
   "metadata": {
    "colab": {
     "base_uri": "https://localhost:8080/"
    },
    "id": "JUI7qb0BylfH",
    "outputId": "1bdd0e00-9536-42de-fde0-d6d72f144b6b"
   },
   "source": [
    "my_function_v2()"
   ],
   "execution_count": null,
   "outputs": []
  },
  {
   "cell_type": "markdown",
   "metadata": {
    "id": "XiiH7763yrrE"
   },
   "source": [
    "Передача аргументов в оборачиваемую функцию"
   ]
  },
  {
   "cell_type": "code",
   "metadata": {
    "id": "kqMSSSXfyn87"
   },
   "source": [
    "def fancy_decorator_3(func):\n",
    "    def new_function(*args):\n",
    "        print(*args)\n",
    "        print('Hello')\n",
    "        return func(*args)\n",
    "\n",
    "    return new_function"
   ],
   "execution_count": null,
   "outputs": []
  },
  {
   "cell_type": "code",
   "metadata": {
    "id": "XHxMUBMzyt1v"
   },
   "source": [
    "@fancy_decorator_3\n",
    "def my_function_v3(*args):\n",
    "    print(f'>{args}')\n",
    "    return args[0]"
   ],
   "execution_count": null,
   "outputs": []
  },
  {
   "cell_type": "code",
   "metadata": {
    "colab": {
     "base_uri": "https://localhost:8080/"
    },
    "id": "NB8kPV_cywYs",
    "outputId": "8509bda6-cebe-465d-9668-77634790fa2c"
   },
   "source": [
    "fancy_decorator_3(my_function_v3)(*list(range(10)))"
   ],
   "execution_count": null,
   "outputs": []
  },
  {
   "cell_type": "code",
   "metadata": {
    "colab": {
     "base_uri": "https://localhost:8080/"
    },
    "id": "RXvLxL_pyzUi",
    "outputId": "cf66986d-00e3-4ef8-f007-2fe8f40af472"
   },
   "source": [
    "my_function_v3(*list(range(10)))"
   ],
   "execution_count": null,
   "outputs": []
  },
  {
   "cell_type": "markdown",
   "metadata": {
    "id": "Pz6v_M_qzW-8"
   },
   "source": [
    "Передача аргументов в декоратор"
   ]
  },
  {
   "cell_type": "code",
   "metadata": {
    "id": "vPnXtr1-y_IJ"
   },
   "source": [
    "def fancy_decorator_3(_type):\n",
    "    print(f'the type is decorator is <{_type}>')\n",
    "\n",
    "    def decorator(func):\n",
    "        def new_function(*args):\n",
    "            if _type == 'type1':\n",
    "                return func(*args[1:])\n",
    "            else:\n",
    "                return func(*args)\n",
    "\n",
    "        return new_function\n",
    "\n",
    "    return decorator"
   ],
   "execution_count": null,
   "outputs": []
  },
  {
   "cell_type": "code",
   "metadata": {
    "colab": {
     "base_uri": "https://localhost:8080/"
    },
    "id": "E8xphJARza-u",
    "outputId": "52ba71c1-1bf8-422a-def9-39fbe35f568e"
   },
   "source": [
    "@fancy_decorator_3('type1')\n",
    "def my_function_v4(*args):\n",
    "    print('I am the core function')\n",
    "    return args[0]"
   ],
   "execution_count": null,
   "outputs": []
  },
  {
   "cell_type": "code",
   "metadata": {
    "colab": {
     "base_uri": "https://localhost:8080/"
    },
    "id": "RzwNbAsizfUV",
    "outputId": "b36d200b-7d55-4e06-bb4c-a762e19d175d"
   },
   "source": [
    "my_function_v4(*list(range(10)))"
   ],
   "execution_count": null,
   "outputs": []
  },
  {
   "cell_type": "markdown",
   "metadata": {
    "id": "uE3ywgGYzjY-"
   },
   "source": [
    "Самыми распространенными являются `classmethod` и `staticmethod`.\n",
    "\n",
    "Рассмотрим несколько примеров:\n",
    "1. retry\n",
    "2. cache"
   ]
  },
  {
   "cell_type": "code",
   "metadata": {
    "id": "PeAEpGbazhdS"
   },
   "source": [
    "def retry(steps=10):\n",
    "    def decorator(func):\n",
    "        def new_function(*args, **kwargs):\n",
    "            for n_try in range(steps):\n",
    "                print('I am trying to run')\n",
    "                try:\n",
    "                    func(*args, **kwargs)\n",
    "                except Exception as error:\n",
    "                    print(f'I got <{error}>')\n",
    "                else:\n",
    "                    print(f'The func is ready after <{n_try}> steps')\n",
    "                    return\n",
    "\n",
    "        return new_function\n",
    "\n",
    "    return decorator"
   ],
   "execution_count": null,
   "outputs": []
  },
  {
   "cell_type": "code",
   "metadata": {
    "id": "MYXo_qsq0Fcm"
   },
   "source": [
    "import random\n",
    "\n",
    "\n",
    "@retry(15)\n",
    "def connect_to_vendor(*args, **kwargs):\n",
    "    if random.randint(1, 5) == 3:\n",
    "        print('Establish connection')\n",
    "    else:\n",
    "        raise Exception('the service is unavailable')"
   ],
   "execution_count": null,
   "outputs": []
  },
  {
   "cell_type": "code",
   "metadata": {
    "colab": {
     "base_uri": "https://localhost:8080/"
    },
    "id": "162hFDKF0HTB",
    "outputId": "22c2de28-e196-4622-fa08-769be7d97aff"
   },
   "source": [
    "connect_to_vendor()"
   ],
   "execution_count": null,
   "outputs": []
  },
  {
   "cell_type": "code",
   "metadata": {
    "colab": {
     "base_uri": "https://localhost:8080/"
    },
    "id": "FpZxhBexkIHE",
    "outputId": "ea1929bc-806b-45f8-cab8-c49a79db5ea5"
   },
   "source": [
    "@retry(5)\n",
    "def foo():\n",
    "    print('I am new one')\n",
    "\n",
    "\n",
    "foo()"
   ],
   "execution_count": null,
   "outputs": []
  },
  {
   "cell_type": "code",
   "metadata": {
    "id": "qQNnhxXV0JsQ"
   },
   "source": [
    "def stack(_size=100):\n",
    "    internal_memory = []\n",
    "\n",
    "    def decorator(func):\n",
    "        def new_function(*args, **kwargs):\n",
    "            result = func(*args, **kwargs)\n",
    "            if len(internal_memory) < _size:\n",
    "                internal_memory.append(result)\n",
    "            else:\n",
    "                del internal_memory[0]\n",
    "                internal_memory.append(result)\n",
    "            return result\n",
    "\n",
    "        return new_function\n",
    "\n",
    "    return decorator"
   ],
   "execution_count": null,
   "outputs": []
  },
  {
   "cell_type": "code",
   "metadata": {
    "id": "iyyqHObQ0VKc"
   },
   "source": [
    "@stack(100)\n",
    "def product(x, y):\n",
    "    return x * y"
   ],
   "execution_count": null,
   "outputs": []
  },
  {
   "cell_type": "code",
   "metadata": {
    "id": "DjW8PnNy0W1-"
   },
   "source": [
    "for i in range(20):\n",
    "    product(2, i)"
   ],
   "execution_count": null,
   "outputs": []
  },
  {
   "cell_type": "code",
   "metadata": {
    "colab": {
     "base_uri": "https://localhost:8080/"
    },
    "id": "uV6U9H5_klRY",
    "outputId": "4f05b70f-bd74-40d9-f9cb-d44479400bb7"
   },
   "source": [
    "product.__closure__[2].cell_contents"
   ],
   "execution_count": null,
   "outputs": []
  }
 ]
}
