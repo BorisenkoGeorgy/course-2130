{
 "nbformat": 4,
 "nbformat_minor": 0,
 "metadata": {
  "colab": {
   "provenance": [],
   "collapsed_sections": []
  },
  "kernelspec": {
   "name": "python3",
   "language": "python",
   "display_name": "Python 3 (ipykernel)"
  },
  "language_info": {
   "name": "python"
  }
 },
 "cells": [
  {
   "cell_type": "markdown",
   "metadata": {
    "id": "j-E-qrB6SX9J",
    "pycharm": {
     "name": "#%% md\n"
    }
   },
   "source": [
    "# Типы данных\n",
    "Говорим про то, какие типы данных есть в python. Повествование будет схоже с [официальной документацией](https://docs.python.org/3/library/stdtypes.html).\n",
    "\n",
    "1.   Числа (int, float, complex).\n",
    "2.   Строки.\n",
    "3.   Логический тип данных.\n",
    "4.   Переменные\n"
   ]
  },
  {
   "cell_type": "markdown",
   "metadata": {
    "id": "GBl_npYH3yt7",
    "pycharm": {
     "name": "#%% md\n"
    }
   },
   "source": [
    "## Целые числа\n",
    "Целые числа могут иметь бесконечную длину"
   ]
  },
  {
   "cell_type": "code",
   "metadata": {
    "colab": {
     "base_uri": "https://localhost:8080/"
    },
    "id": "tn61hf0832g5",
    "outputId": "5aaf88fb-82f2-414b-abb0-dd07d2b09405",
    "pycharm": {
     "name": "#%%\n"
    }
   },
   "source": [
    "print(11111111111111111111111111111111111111111111111111111111111111111111111111 + 2)"
   ],
   "execution_count": 59,
   "outputs": [
    {
     "name": "stdout",
     "output_type": "stream",
     "text": [
      "11111111111111111111111111111111111111111111111111111111111111111111111113\n"
     ]
    }
   ]
  },
  {
   "cell_type": "markdown",
   "metadata": {
    "id": "_ab_2tMtcjRY",
    "pycharm": {
     "name": "#%% md\n"
    }
   },
   "source": [
    "Python поддерживает несколько систем исчисления\n",
    "1.   Восьмеричную\n",
    "2.   Шестнадцатеричную\n",
    "3.   Двоичную\n",
    "\n",
    "Посмотрите вики [link](https://ru.wikipedia.org/wiki/%D0%A8%D0%B5%D1%81%D1%82%D0%BD%D0%B0%D0%B4%D1%86%D0%B0%D1%82%D0%B5%D1%80%D0%B8%D1%87%D0%BD%D0%B0%D1%8F_%D1%81%D0%B8%D1%81%D1%82%D0%B5%D0%BC%D0%B0_%D1%81%D1%87%D0%B8%D1%81%D0%BB%D0%B5%D0%BD%D0%B8%D1%8F)"
   ]
  },
  {
   "cell_type": "code",
   "metadata": {
    "colab": {
     "base_uri": "https://localhost:8080/"
    },
    "id": "u0FjTima3_qZ",
    "outputId": "a1cadd53-aee8-4527-aeee-2e28c243d8ab",
    "pycharm": {
     "name": "#%%\n"
    }
   },
   "source": [
    "print(0o11)  # base = 8\n",
    "print(0x1A)  # base = 16\n",
    "print(0b10)  # base = 2"
   ],
   "execution_count": 60,
   "outputs": [
    {
     "name": "stdout",
     "output_type": "stream",
     "text": [
      "9\n",
      "26\n",
      "2\n"
     ]
    }
   ]
  },
  {
   "cell_type": "code",
   "metadata": {
    "colab": {
     "base_uri": "https://localhost:8080/"
    },
    "id": "X1-V7h9i4HwU",
    "outputId": "25d291ca-37f0-40dc-c8c4-74b46a72568c",
    "pycharm": {
     "name": "#%%\n"
    }
   },
   "source": [
    "# это все тип int, над которым работает арифметика\n",
    "print(type(10))\n",
    "print(type(0o10))"
   ],
   "execution_count": 62,
   "outputs": [
    {
     "name": "stdout",
     "output_type": "stream",
     "text": [
      "<class 'int'>\n",
      "<class 'int'>\n"
     ]
    }
   ]
  },
  {
   "cell_type": "markdown",
   "metadata": {
    "id": "bs-PCS9F6x6r",
    "pycharm": {
     "name": "#%% md\n"
    }
   },
   "source": [
    "## Числа с плавающей точкой\n",
    "\n",
    "Запоминаем способы задания!\n",
    "<br>\n",
    "\n",
    "**FYI**\n",
    "\n",
    "Числа с плавающей точкой имеют ограничение (пример ниже)\n",
    "1. Бесконечность: числа больше >= 1.8e308 -> inf\n",
    "2. Ближайшие к нулю: 1e-325 -> 0\n"
   ]
  },
  {
   "cell_type": "code",
   "metadata": {
    "colab": {
     "base_uri": "https://localhost:8080/"
    },
    "id": "1RWTd3FW6sGr",
    "outputId": "313fc3f5-05ec-4928-8155-76926c2b20c1",
    "pycharm": {
     "name": "#%%\n"
    }
   },
   "source": [
    "print(4.2)\n",
    "print(type(4.2))\n",
    "print(4.)\n",
    "print(.2)\n",
    "print(.4e7)\n",
    "print(type(.4e7))\n",
    "print(4e+3)\n",
    "print(2.2e-5 == 0.000022)\n",
    "print(0.000022)"
   ],
   "execution_count": 71,
   "outputs": [
    {
     "name": "stdout",
     "output_type": "stream",
     "text": [
      "4.2\n",
      "<class 'float'>\n",
      "4.0\n",
      "0.2\n",
      "4000000.0\n",
      "<class 'float'>\n",
      "4000.0\n",
      "True\n",
      "2.2e-05\n"
     ]
    }
   ]
  },
  {
   "cell_type": "code",
   "metadata": {
    "colab": {
     "base_uri": "https://localhost:8080/"
    },
    "id": "K929v6bY7D_4",
    "outputId": "8acaa3be-92c8-493a-fd3c-8e8db7cdca28",
    "pycharm": {
     "name": "#%%\n"
    }
   },
   "source": [
    "# У вещественных чисел существует ограничение\n",
    "\n",
    "# бесконечность\n",
    "print(1.79e308)\n",
    "print(1.8e308)\n",
    "# ближайшее к нулю\n",
    "print(5e-324)\n",
    "print(1e-325)"
   ],
   "execution_count": 72,
   "outputs": [
    {
     "name": "stdout",
     "output_type": "stream",
     "text": [
      "1.79e+308\n",
      "inf\n",
      "5e-324\n",
      "0.0\n"
     ]
    }
   ]
  },
  {
   "cell_type": "code",
   "metadata": {
    "colab": {
     "base_uri": "https://localhost:8080/"
    },
    "id": "e1Z7mjPCM4Ql",
    "outputId": "6b68b902-628e-4412-cc0b-7e069cc2c7ce",
    "pycharm": {
     "name": "#%%\n"
    }
   },
   "source": [
    "# есть также константа inf, удобная для определения бесконечных\n",
    "print(-float(\"inf\"))\n",
    "print(float(\"inf\") > 10e300)\n",
    "print(float(\"inf\") > 10e400)"
   ],
   "execution_count": 74,
   "outputs": [
    {
     "name": "stdout",
     "output_type": "stream",
     "text": [
      "-inf\n",
      "True\n",
      "False\n"
     ]
    }
   ]
  },
  {
   "cell_type": "code",
   "execution_count": 77,
   "outputs": [
    {
     "data": {
      "text/plain": "True"
     },
     "execution_count": 77,
     "metadata": {},
     "output_type": "execute_result"
    }
   ],
   "source": [
    "(1.1 + 2.2) - 3.3 < 0.1"
   ],
   "metadata": {
    "collapsed": false,
    "pycharm": {
     "name": "#%%\n"
    }
   }
  },
  {
   "cell_type": "markdown",
   "metadata": {
    "id": "P4fM6dcW7rpT",
    "pycharm": {
     "name": "#%% md\n"
    }
   },
   "source": [
    "## Комплексные числа"
   ]
  },
  {
   "cell_type": "code",
   "metadata": {
    "colab": {
     "base_uri": "https://localhost:8080/"
    },
    "id": "EUp5g8Uc7er5",
    "outputId": "160e2bb2-9752-430f-898b-36da27873529",
    "pycharm": {
     "name": "#%%\n"
    }
   },
   "source": [
    "print(2 + 3j)\n",
    "print(type(2 + 3j))"
   ],
   "execution_count": 78,
   "outputs": [
    {
     "name": "stdout",
     "output_type": "stream",
     "text": [
      "(2+3j)\n",
      "<class 'complex'>\n"
     ]
    }
   ]
  },
  {
   "cell_type": "markdown",
   "metadata": {
    "id": "IvsOXfpqHaro",
    "pycharm": {
     "name": "#%% md\n"
    }
   },
   "source": [
    "## Общие операции для разных численных типов данных\n",
    "\n",
    "<table class=\"docutils align-default\">\n",
    "<colgroup>\n",
    "<col style=\"width: 25%\">\n",
    "<col style=\"width: 40%\">\n",
    "<col style=\"width: 11%\">\n",
    "<col style=\"width: 24%\">\n",
    "</colgroup>\n",
    "<thead>\n",
    "<tr class=\"row-odd\"><th class=\"head\"><p>Operation</p></th>\n",
    "<th class=\"head\"><p>Result</p></th>\n",
    "<th class=\"head\"><p>Notes</p></th>\n",
    "<th class=\"head\"><p>Full documentation</p></th>\n",
    "</tr>\n",
    "</thead>\n",
    "<tbody>\n",
    "<tr class=\"row-even\"><td><p><code class=\"docutils literal notranslate\"><span class=\"pre\">x</span> <span class=\"pre\">+</span> <span class=\"pre\">y</span></code></p></td>\n",
    "<td><p>sum of <em>x</em> and <em>y</em></p></td>\n",
    "<td></td>\n",
    "<td></td>\n",
    "</tr>\n",
    "<tr class=\"row-odd\"><td><p><code class=\"docutils literal notranslate\"><span class=\"pre\">x</span> <span class=\"pre\">-</span> <span class=\"pre\">y</span></code></p></td>\n",
    "<td><p>difference of <em>x</em> and <em>y</em></p></td>\n",
    "<td></td>\n",
    "<td></td>\n",
    "</tr>\n",
    "<tr class=\"row-even\"><td><p><code class=\"docutils literal notranslate\"><span class=\"pre\">x</span> <span class=\"pre\">*</span> <span class=\"pre\">y</span></code></p></td>\n",
    "<td><p>product of <em>x</em> and <em>y</em></p></td>\n",
    "<td></td>\n",
    "<td></td>\n",
    "</tr>\n",
    "<tr class=\"row-odd\"><td><p><code class=\"docutils literal notranslate\"><span class=\"pre\">x</span> <span class=\"pre\">/</span> <span class=\"pre\">y</span></code></p></td>\n",
    "<td><p>quotient of <em>x</em> and <em>y</em></p></td>\n",
    "<td></td>\n",
    "<td></td>\n",
    "</tr>\n",
    "<tr class=\"row-even\"><td><p><code class=\"docutils literal notranslate\"><span class=\"pre\">x</span> <span class=\"pre\">//</span> <span class=\"pre\">y</span></code></p></td>\n",
    "<td><p>floored quotient of <em>x</em> and\n",
    "<em>y</em></p></td>\n",
    "<td><p>(1)</p></td>\n",
    "<td></td>\n",
    "</tr>\n",
    "<tr class=\"row-odd\"><td><p><code class=\"docutils literal notranslate\"><span class=\"pre\">x</span> <span class=\"pre\">%</span> <span class=\"pre\">y</span></code></p></td>\n",
    "<td><p>remainder of <code class=\"docutils literal notranslate\"><span class=\"pre\">x</span> <span class=\"pre\">/</span> <span class=\"pre\">y</span></code></p></td>\n",
    "<td><p>(2)</p></td>\n",
    "<td></td>\n",
    "</tr>\n",
    "<tr class=\"row-even\"><td><p><code class=\"docutils literal notranslate\"><span class=\"pre\">-x</span></code></p></td>\n",
    "<td><p><em>x</em> negated</p></td>\n",
    "<td></td>\n",
    "<td></td>\n",
    "</tr>\n",
    "<tr class=\"row-odd\"><td><p><code class=\"docutils literal notranslate\"><span class=\"pre\">+x</span></code></p></td>\n",
    "<td><p><em>x</em> unchanged</p></td>\n",
    "<td></td>\n",
    "<td></td>\n",
    "</tr>\n",
    "<tr class=\"row-even\"><td><p><code class=\"docutils literal notranslate\"><span class=\"pre\">abs(x)</span></code></p></td>\n",
    "<td><p>absolute value or magnitude of\n",
    "<em>x</em></p></td>\n",
    "<td></td>\n",
    "<td><p><a class=\"reference internal\" href=\"functions.html#abs\" title=\"abs\"><code class=\"xref py py-func docutils literal notranslate\"><span class=\"pre\">abs()</span></code></a></p></td>\n",
    "</tr>\n",
    "<tr class=\"row-odd\"><td><p><code class=\"docutils literal notranslate\"><span class=\"pre\">int(x)</span></code></p></td>\n",
    "<td><p><em>x</em> converted to integer</p></td>\n",
    "<td><p>(3)(6)</p></td>\n",
    "<td><p><a class=\"reference internal\" href=\"functions.html#int\" title=\"int\"><code class=\"xref py py-func docutils literal notranslate\"><span class=\"pre\">int()</span></code></a></p></td>\n",
    "</tr>\n",
    "<tr class=\"row-even\"><td><p><code class=\"docutils literal notranslate\"><span class=\"pre\">float(x)</span></code></p></td>\n",
    "<td><p><em>x</em> converted to floating point</p></td>\n",
    "<td><p>(4)(6)</p></td>\n",
    "<td><p><a class=\"reference internal\" href=\"functions.html#float\" title=\"float\"><code class=\"xref py py-func docutils literal notranslate\"><span class=\"pre\">float()</span></code></a></p></td>\n",
    "</tr>\n",
    "<tr class=\"row-odd\"><td><p><code class=\"docutils literal notranslate\"><span class=\"pre\">complex(re,</span> <span class=\"pre\">im)</span></code></p></td>\n",
    "<td><p>a complex number with real part\n",
    "<em>re</em>, imaginary part <em>im</em>.\n",
    "<em>im</em> defaults to zero.</p></td>\n",
    "<td><p>(6)</p></td>\n",
    "<td><p><a class=\"reference internal\" href=\"functions.html#complex\" title=\"complex\"><code class=\"xref py py-func docutils literal notranslate\"><span class=\"pre\">complex()</span></code></a></p></td>\n",
    "</tr>\n",
    "<tr class=\"row-even\"><td><p><code class=\"docutils literal notranslate\"><span class=\"pre\">c.conjugate()</span></code></p></td>\n",
    "<td><p>conjugate of the complex number\n",
    "<em>c</em></p></td>\n",
    "<td></td>\n",
    "<td></td>\n",
    "</tr>\n",
    "<tr class=\"row-odd\"><td><p><code class=\"docutils literal notranslate\"><span class=\"pre\">divmod(x,</span> <span class=\"pre\">y)</span></code></p></td>\n",
    "<td><p>the pair <code class=\"docutils literal notranslate\"><span class=\"pre\">(x</span> <span class=\"pre\">//</span> <span class=\"pre\">y,</span> <span class=\"pre\">x</span> <span class=\"pre\">%</span> <span class=\"pre\">y)</span></code></p></td>\n",
    "<td><p>(2)</p></td>\n",
    "<td><p><a class=\"reference internal\" href=\"functions.html#divmod\" title=\"divmod\"><code class=\"xref py py-func docutils literal notranslate\"><span class=\"pre\">divmod()</span></code></a></p></td>\n",
    "</tr>\n",
    "<tr class=\"row-even\"><td><p><code class=\"docutils literal notranslate\"><span class=\"pre\">pow(x,</span> <span class=\"pre\">y)</span></code></p></td>\n",
    "<td><p><em>x</em> to the power <em>y</em></p></td>\n",
    "<td><p>(5)</p></td>\n",
    "<td><p><a class=\"reference internal\" href=\"functions.html#pow\" title=\"pow\"><code class=\"xref py py-func docutils literal notranslate\"><span class=\"pre\">pow()</span></code></a></p></td>\n",
    "</tr>\n",
    "<tr class=\"row-odd\"><td><p><code class=\"docutils literal notranslate\"><span class=\"pre\">x</span> <span class=\"pre\">**</span> <span class=\"pre\">y</span></code></p></td>\n",
    "<td><p><em>x</em> to the power <em>y</em></p></td>\n",
    "<td><p>(5)</p></td>\n",
    "<td></td>\n",
    "</tr>\n",
    "</tbody>\n",
    "</table>"
   ]
  },
  {
   "cell_type": "code",
   "metadata": {
    "colab": {
     "base_uri": "https://localhost:8080/"
    },
    "id": "kpHatVddHpyu",
    "outputId": "b6a72056-8e25-4b64-c6f8-34eb728a3ac2",
    "pycharm": {
     "name": "#%%\n"
    }
   },
   "source": [
    "print(1 + 1)\n",
    "print(1 - 1)\n",
    "print(2. * 2.)\n",
    "...\n",
    "print(5 // 2)"
   ],
   "execution_count": 82,
   "outputs": [
    {
     "name": "stdout",
     "output_type": "stream",
     "text": [
      "2\n",
      "0\n",
      "4.0\n",
      "2\n"
     ]
    }
   ]
  },
  {
   "cell_type": "markdown",
   "metadata": {
    "id": "wewarNxv77DV",
    "pycharm": {
     "name": "#%% md\n"
    }
   },
   "source": [
    "## Строки\n",
    "\n",
    "Преобразовать элемент в строку можно с помощью функции `str`"
   ]
  },
  {
   "cell_type": "code",
   "metadata": {
    "colab": {
     "base_uri": "https://localhost:8080/"
    },
    "id": "PBxCGG1c7yRG",
    "outputId": "a537b389-dfba-4cb2-f7fe-8909fe5d0e9a",
    "pycharm": {
     "name": "#%%\n"
    }
   },
   "source": [
    "print('Hello')\n",
    "print(\"Hello\")\n",
    "print(\"Hello\" == 'Hello')\n",
    "print(type('Hello'))"
   ],
   "execution_count": 83,
   "outputs": [
    {
     "name": "stdout",
     "output_type": "stream",
     "text": [
      "Hello\n",
      "Hello\n",
      "True\n",
      "<class 'str'>\n"
     ]
    }
   ]
  },
  {
   "cell_type": "code",
   "metadata": {
    "colab": {
     "base_uri": "https://localhost:8080/"
    },
    "id": "UjunLfXj8M71",
    "outputId": "18d3ec3c-05d4-417b-bd28-0dc561928080",
    "pycharm": {
     "name": "#%%\n"
    }
   },
   "source": [
    "# строка может содержать бесконечное количество символов\n",
    "\n",
    "print('')"
   ],
   "execution_count": 84,
   "outputs": [
    {
     "name": "stdout",
     "output_type": "stream",
     "text": [
      "\n"
     ]
    }
   ]
  },
  {
   "cell_type": "code",
   "metadata": {
    "colab": {
     "base_uri": "https://localhost:8080/",
     "height": 130
    },
    "id": "MtubONSQ8ajc",
    "outputId": "bd3ce26f-a80e-44fc-8e2a-6dec0e28fd25",
    "pycharm": {
     "name": "#%%\n"
    }
   },
   "source": [
    "# print('Ilya's course')"
   ],
   "execution_count": 85,
   "outputs": [
    {
     "ename": "SyntaxError",
     "evalue": "invalid syntax (<ipython-input-85-9b4c3ac9a1e4>, line 1)",
     "output_type": "error",
     "traceback": [
      "\u001B[0;36m  File \u001B[0;32m\"<ipython-input-85-9b4c3ac9a1e4>\"\u001B[0;36m, line \u001B[0;32m1\u001B[0m\n\u001B[0;31m    print('Ilya's course')\u001B[0m\n\u001B[0m                ^\u001B[0m\n\u001B[0;31mSyntaxError\u001B[0m\u001B[0;31m:\u001B[0m invalid syntax\n"
     ]
    }
   ]
  },
  {
   "cell_type": "code",
   "metadata": {
    "colab": {
     "base_uri": "https://localhost:8080/"
    },
    "id": "r0jUH5Me8gNV",
    "outputId": "a10fc26d-2d34-43af-a790-710d59c66dcb",
    "pycharm": {
     "name": "#%%\n"
    }
   },
   "source": [
    "print(\"Ilya's course\")\n",
    "print('Ilya\\'s course')"
   ],
   "execution_count": null,
   "outputs": []
  },
  {
   "cell_type": "markdown",
   "metadata": {
    "id": "qttCjDeV8wF6",
    "pycharm": {
     "name": "#%% md\n"
    }
   },
   "source": [
    "<table class=\"table table-hover\">\n",
    "<thead>\n",
    "<tr>\n",
    "<th>Escape<br>Sequence</th>\n",
    "<th>Usual Interpretation of<br>Character(s) After Backslash</th>\n",
    "<th>“Escaped” Interpretation</th>\n",
    "</tr>\n",
    "</thead>\n",
    "<tbody>\n",
    "<tr>\n",
    "<td><code>\\'</code></td>\n",
    "<td>Terminates string with single quote opening delimiter</td>\n",
    "<td>Literal single quote (<code>'</code>) character</td>\n",
    "</tr>\n",
    "<tr>\n",
    "<td><code>\\\"</code></td>\n",
    "<td>Terminates string with double quote opening delimiter</td>\n",
    "<td>Literal double quote (<code>\"</code>) character</td>\n",
    "</tr>\n",
    "<tr>\n",
    "<td><code>\\&lt;newline&gt;</code></td>\n",
    "<td>Terminates input line</td>\n",
    "<td><a href=\"https://stackoverflow.com/questions/48693600/what-does-the-newline-escape-sequence-mean-in-python\">Newline is ignored</a></td>\n",
    "</tr>\n",
    "<tr>\n",
    "<td><code>\\\\</code></td>\n",
    "<td>Introduces escape sequence</td>\n",
    "<td>Literal backslash (<code>\\</code>) character</td>\n",
    "</tr>\n",
    "</tbody>\n",
    "</table>"
   ]
  },
  {
   "cell_type": "code",
   "metadata": {
    "colab": {
     "base_uri": "https://localhost:8080/"
    },
    "id": "Vjm_g-WMjRdN",
    "outputId": "c3118339-1ff4-4201-b46a-450494953f45",
    "pycharm": {
     "name": "#%%\n"
    }
   },
   "source": [
    "print('abc\\\\cvb')"
   ],
   "execution_count": 86,
   "outputs": [
    {
     "name": "stdout",
     "output_type": "stream",
     "text": [
      "abc\\cvb\n"
     ]
    }
   ]
  },
  {
   "cell_type": "markdown",
   "source": [
    "a\\nb\\n\\c\n",
    "\n",
    "a\n",
    "b\n",
    "c\n"
   ],
   "metadata": {
    "collapsed": false,
    "pycharm": {
     "name": "#%% md\n"
    }
   }
  },
  {
   "cell_type": "code",
   "execution_count": 89,
   "outputs": [
    {
     "name": "stdout",
     "output_type": "stream",
     "text": [
      "a\n",
      "b\n"
     ]
    }
   ],
   "source": [
    "print(\"a\\\n",
    "b\")"
   ],
   "metadata": {
    "collapsed": false,
    "pycharm": {
     "name": "#%%\n"
    }
   }
  },
  {
   "cell_type": "code",
   "metadata": {
    "colab": {
     "base_uri": "https://localhost:8080/"
    },
    "id": "QY66CcmY8pO9",
    "outputId": "488317a7-8b56-4064-cc04-b2a93148d123",
    "pycharm": {
     "name": "#%%\n"
    }
   },
   "source": [
    "print('a\\\n",
    "b\\\n",
    "c\\\n",
    "d')"
   ],
   "execution_count": 87,
   "outputs": [
    {
     "name": "stdout",
     "output_type": "stream",
     "text": [
      "abcd\n"
     ]
    }
   ]
  },
  {
   "cell_type": "code",
   "metadata": {
    "colab": {
     "base_uri": "https://localhost:8080/"
    },
    "id": "nZd8HmMY9Ez2",
    "outputId": "dc779084-b574-47e9-eb89-84bde4a72f96",
    "pycharm": {
     "name": "#%%\n"
    }
   },
   "source": [
    "print('path/disk')"
   ],
   "execution_count": 90,
   "outputs": [
    {
     "name": "stdout",
     "output_type": "stream",
     "text": [
      "path\\to\\disk\n"
     ]
    }
   ]
  },
  {
   "cell_type": "markdown",
   "metadata": {
    "id": "3v0fifIQ9O8V",
    "pycharm": {
     "name": "#%% md\n"
    }
   },
   "source": [
    "Специальные символы\n",
    "\n",
    "<div class=\"table-responsive\">\n",
    "<table class=\"table table-hover\">\n",
    "<thead>\n",
    "<tr>\n",
    "<th>Escape Sequence</th>\n",
    "<th>“Escaped” Interpretation</th>\n",
    "</tr>\n",
    "</thead>\n",
    "<tbody>\n",
    "<tr>\n",
    "<td><code>\\a</code></td>\n",
    "<td>ASCII Bell (<code>BEL</code>) character</td>\n",
    "</tr>\n",
    "<tr>\n",
    "<td><code>\\b</code></td>\n",
    "<td>ASCII Backspace (<code>BS</code>) character</td>\n",
    "</tr>\n",
    "<tr>\n",
    "<td><code>\\f</code></td>\n",
    "<td>ASCII Formfeed (<code>FF</code>) character</td>\n",
    "</tr>\n",
    "<tr>\n",
    "<td><code>\\n</code></td>\n",
    "<td>ASCII Linefeed (<code>LF</code>) character</td>\n",
    "</tr>\n",
    "<tr>\n",
    "<td><code>\\N{&lt;name&gt;}</code></td>\n",
    "<td>Character from Unicode database with given <code>&lt;name&gt;</code></td>\n",
    "</tr>\n",
    "<tr>\n",
    "<td><code>\\r</code></td>\n",
    "<td>ASCII Carriage Return (<code>CR</code>) character</td>\n",
    "</tr>\n",
    "<tr>\n",
    "<td><code>\\t</code></td>\n",
    "<td>ASCII Horizontal Tab (<code>TAB</code>) character</td>\n",
    "</tr>\n",
    "<tr>\n",
    "<td><code>\\uxxxx</code></td>\n",
    "<td>Unicode character with 16-bit hex value <code>xxxx</code></td>\n",
    "</tr>\n",
    "<tr>\n",
    "<td><code>\\Uxxxxxxxx</code></td>\n",
    "<td>Unicode character with 32-bit hex value <code>xxxxxxxx</code></td>\n",
    "</tr>\n",
    "<tr>\n",
    "<td><code>\\v</code></td>\n",
    "<td>ASCII Vertical Tab (<code>VT</code>) character</td>\n",
    "</tr>\n",
    "<tr>\n",
    "<td><code>\\ooo</code></td>\n",
    "<td>Character with octal value <code>ooo</code></td>\n",
    "</tr>\n",
    "<tr>\n",
    "<td><code>\\xhh</code></td>\n",
    "<td>Character with hex value <code>hh</code></td>\n",
    "</tr>\n",
    "</tbody>\n",
    "</table>\n",
    "</div>"
   ]
  },
  {
   "cell_type": "code",
   "metadata": {
    "colab": {
     "base_uri": "https://localhost:8080/"
    },
    "id": "GZ3CpCisF0kh",
    "outputId": "cbb11f6e-3bad-42e1-93a2-d0d4e6d1f45f",
    "pycharm": {
     "name": "#%%\n"
    }
   },
   "source": [
    "print(1, 2, 3, end='', sep=\"---\")\n",
    "print(1, 2, 3)"
   ],
   "execution_count": 99,
   "outputs": [
    {
     "name": "stdout",
     "output_type": "stream",
     "text": [
      "1---2---31 2 3\n"
     ]
    }
   ]
  },
  {
   "cell_type": "code",
   "metadata": {
    "colab": {
     "base_uri": "https://localhost:8080/",
     "height": 325
    },
    "id": "c5J07pBqkV50",
    "outputId": "860c8cae-7fb7-48ae-819f-0bfc1ad9f83d",
    "pycharm": {
     "name": "#%%\n"
    }
   },
   "source": [
    "# пример использования \\r, можно сделать интерактивный счетчик\n",
    "# по умолчания print добавляет к концу вашей строки \\n\n",
    "# print('Hello') -> display 'Hello\\n'\n",
    "import time\n",
    "\n",
    "for i in range(10):\n",
    "    print(f'\\rHello {i}', end='')\n",
    "    time.sleep(0.5)\n",
    "print(f\"\\rHello 0\", end=\"\")"
   ],
   "execution_count": 102,
   "outputs": [
    {
     "name": "stdout",
     "output_type": "stream",
     "text": [
      "Hello 0"
     ]
    }
   ]
  },
  {
   "cell_type": "code",
   "metadata": {
    "colab": {
     "base_uri": "https://localhost:8080/"
    },
    "id": "1VmVXx9G9XqG",
    "outputId": "2531b7c8-29a3-47a2-8cd9-62337f1485d0",
    "pycharm": {
     "name": "#%%\n"
    }
   },
   "source": [
    "# строки без форматирования\n",
    "print('>a\\nb<')\n",
    "print(r'>a\\nb<')\n"
   ],
   "execution_count": 104,
   "outputs": [
    {
     "name": "stdout",
     "output_type": "stream",
     "text": [
      ">a\n",
      "b<\n",
      ">a\\nb<\n"
     ]
    }
   ]
  },
  {
   "cell_type": "code",
   "metadata": {
    "colab": {
     "base_uri": "https://localhost:8080/",
     "height": 126
    },
    "id": "BNKceoKpGbsg",
    "outputId": "2ad40ccf-bba0-4e3b-a973-dda7730cbf6a",
    "pycharm": {
     "name": "#%%\n"
    }
   },
   "source": [
    "'aasd\n",
    "'"
   ],
   "execution_count": null,
   "outputs": []
  },
  {
   "cell_type": "code",
   "metadata": {
    "colab": {
     "base_uri": "https://localhost:8080/",
     "height": 103
    },
    "id": "5EFZOJTr9nF4",
    "outputId": "417090e2-c32c-42cf-e2cd-0a76ddd465ac",
    "pycharm": {
     "name": "#%%\n"
    }
   },
   "source": [
    "# тройные кавычки\n",
    "print('''\n",
    "  The test str\n",
    "\n",
    "''')"
   ],
   "execution_count": 105,
   "outputs": [
    {
     "name": "stdout",
     "output_type": "stream",
     "text": [
      "\n",
      "  The test str\n",
      "\n",
      "\n"
     ]
    }
   ]
  },
  {
   "cell_type": "code",
   "metadata": {
    "colab": {
     "base_uri": "https://localhost:8080/",
     "height": 35
    },
    "id": "4a2uqqxMmV-B",
    "outputId": "c6bcc30b-3ec6-4867-e460-5f24e1717333",
    "pycharm": {
     "name": "#%%\n"
    }
   },
   "source": [
    "s = \"\"\"\n",
    "1\n",
    "2\n",
    "3\n",
    "4\n",
    "5\n",
    "\"\"\"\n",
    "s"
   ],
   "execution_count": 107,
   "outputs": [
    {
     "data": {
      "text/plain": "'\\n1\\n2\\n3\\n4\\n5\\n'"
     },
     "execution_count": 107,
     "metadata": {},
     "output_type": "execute_result"
    }
   ]
  },
  {
   "cell_type": "code",
   "metadata": {
    "colab": {
     "base_uri": "https://localhost:8080/"
    },
    "id": "zlVG6mTSGyjP",
    "outputId": "1763d7ec-459a-4617-b6c2-18c5d5419c24",
    "pycharm": {
     "name": "#%%\n"
    }
   },
   "source": [
    "s.split('\\n')"
   ],
   "execution_count": 108,
   "outputs": [
    {
     "data": {
      "text/plain": "['', '1', '2', '3', '4', '5', '']"
     },
     "execution_count": 108,
     "metadata": {},
     "output_type": "execute_result"
    }
   ]
  },
  {
   "cell_type": "code",
   "execution_count": null,
   "outputs": [],
   "source": [],
   "metadata": {
    "collapsed": false,
    "pycharm": {
     "name": "#%%\n"
    }
   }
  },
  {
   "cell_type": "markdown",
   "metadata": {
    "id": "CaTvwqpEnJN4",
    "pycharm": {
     "name": "#%% md\n"
    }
   },
   "source": [
    "## Форматирование строк, F-strings\n",
    "Иногда нам необходимо печатать значения, самый простой способ\n",
    "***\n",
    "\n",
    "**С-стиль**\n",
    "\n",
    "```\n",
    "print(1, 2, 3)\n",
    "```\n",
    "Но иногда этого бывает недостаточно, тогда на помощь приходит форматирование строк. Аналогично C:\n",
    "```\n",
    "print('the zero = %d' % 0)\n",
    "```\n",
    "Символ `%d` показывает, что передаваемое значение должно быть отображено как целое. Какие еще символы бывают можно посмотреть здесь\n",
    "\n",
    "***\n",
    "**Метод .format(...)**\n",
    "Позволяет поставить значения на выбранные позиции\n",
    "```\n",
    "'Hello, my name is {}'.format('Ilya')\n",
    "```\n",
    "\n",
    "***\n",
    "**F-строки**\n",
    "Позволяют подставлять значения из интерпретатора\n",
    "```\n",
    "f'Hello, my name is {\"Ilya\"}'\n",
    "```"
   ]
  },
  {
   "cell_type": "code",
   "metadata": {
    "colab": {
     "base_uri": "https://localhost:8080/",
     "height": 35
    },
    "id": "z7eP90peLX0r",
    "outputId": "5386b342-b3e7-4516-c777-b403f52ca955",
    "pycharm": {
     "name": "#%%\n"
    }
   },
   "source": [
    "'Welcome to course %s, you are %d with precision %.10f' % ('Ilya', 1, 12e-10)"
   ],
   "execution_count": 113,
   "outputs": [
    {
     "data": {
      "text/plain": "'Welcome to course Ilya, you are 1 with precision 0.0000000012'"
     },
     "execution_count": 113,
     "metadata": {},
     "output_type": "execute_result"
    }
   ]
  },
  {
   "cell_type": "code",
   "metadata": {
    "colab": {
     "base_uri": "https://localhost:8080/",
     "height": 35
    },
    "id": "RSM-NaHIKauQ",
    "outputId": "3189ba66-b594-4637-ebeb-0cc3a312fe3c",
    "pycharm": {
     "name": "#%%\n"
    }
   },
   "source": [
    "'Welcome to course {name}, {name} you are {number} with precision {precision:.10f}'.format(name='Ilya', precision=12e-10, number=1)"
   ],
   "execution_count": 114,
   "outputs": [
    {
     "data": {
      "text/plain": "'Welcome to course Ilya, Ilya you are 1 with precision 0.0000000012'"
     },
     "execution_count": 114,
     "metadata": {},
     "output_type": "execute_result"
    }
   ]
  },
  {
   "cell_type": "code",
   "metadata": {
    "colab": {
     "base_uri": "https://localhost:8080/",
     "height": 35
    },
    "id": "cY_lCU8CLuKF",
    "outputId": "d867de1e-72e4-4811-c249-58597c778dcb",
    "pycharm": {
     "name": "#%%\n"
    }
   },
   "source": [
    "a = f'Welcome to course {\"Ilya\" + \" teacher\"}, you are {1} with precision {12e-10:.10f}'"
   ],
   "execution_count": 120,
   "outputs": []
  },
  {
   "cell_type": "code",
   "execution_count": 118,
   "outputs": [
    {
     "name": "stdout",
     "output_type": "stream",
     "text": [
      "Welcome to course\n"
     ]
    }
   ],
   "source": [
    "a = print(\"Welcome\", \"to\", \"course\")"
   ],
   "metadata": {
    "collapsed": false,
    "pycharm": {
     "name": "#%%\n"
    }
   }
  },
  {
   "cell_type": "code",
   "execution_count": 121,
   "outputs": [
    {
     "data": {
      "text/plain": "'Welcome to course Ilya teacher, you are 1 with precision 0.0000000012'"
     },
     "execution_count": 121,
     "metadata": {},
     "output_type": "execute_result"
    }
   ],
   "source": [
    "a"
   ],
   "metadata": {
    "collapsed": false,
    "pycharm": {
     "name": "#%%\n"
    }
   }
  },
  {
   "cell_type": "markdown",
   "metadata": {
    "id": "-hzoYrnT9y6R",
    "pycharm": {
     "name": "#%% md\n"
    }
   },
   "source": [
    "## Логический тип данных\n",
    "\n",
    "Важно отметить, что у всех объектов в питоне есть логическое значение. Т.е. он может быть протестирован на истинность. По умолчанию все объекты являются истинными (True), если только не определены специальные методы.\n",
    "\n",
    "```\n",
    ">>>bool(10)\n",
    "True\n",
    ">>>bool(-10)\n",
    "True\n",
    ">>>bool('Hello')\n",
    "True\n",
    ">>>bool('')\n",
    "False\n",
    "```\n"
   ]
  },
  {
   "cell_type": "code",
   "execution_count": 122,
   "outputs": [],
   "source": [
    "None"
   ],
   "metadata": {
    "collapsed": false,
    "pycharm": {
     "name": "#%%\n"
    }
   }
  },
  {
   "cell_type": "code",
   "metadata": {
    "colab": {
     "base_uri": "https://localhost:8080/"
    },
    "id": "fx9SegHKKzM1",
    "outputId": "6d111917-4272-48f3-da50-d99cc7f781c8",
    "pycharm": {
     "name": "#%%\n"
    }
   },
   "source": [
    "bool(None)"
   ],
   "execution_count": 123,
   "outputs": [
    {
     "data": {
      "text/plain": "False"
     },
     "execution_count": 123,
     "metadata": {},
     "output_type": "execute_result"
    }
   ]
  },
  {
   "cell_type": "code",
   "metadata": {
    "colab": {
     "base_uri": "https://localhost:8080/"
    },
    "id": "4sIWt7_C9vl4",
    "outputId": "ece54911-7faa-4d55-97d5-96a94adf1d1a",
    "pycharm": {
     "name": "#%%\n"
    }
   },
   "source": [
    "True\n",
    "False"
   ],
   "execution_count": null,
   "outputs": []
  },
  {
   "cell_type": "code",
   "metadata": {
    "colab": {
     "base_uri": "https://localhost:8080/"
    },
    "id": "5UpreNcqlzMK",
    "outputId": "84da7aed-3c04-4c4d-d438-1dc0d7a9fcd9",
    "pycharm": {
     "name": "#%%\n"
    }
   },
   "source": [
    "print(bool(0))\n",
    "print(bool(''))"
   ],
   "execution_count": 126,
   "outputs": [
    {
     "name": "stdout",
     "output_type": "stream",
     "text": [
      "False\n",
      "False\n"
     ]
    }
   ]
  },
  {
   "cell_type": "markdown",
   "metadata": {
    "id": "gYi2tpQqIk60",
    "pycharm": {
     "name": "#%% md\n"
    }
   },
   "source": [
    "Булевы операторы\n",
    "\n",
    "<table class=\"docutils align-default\">\n",
    "<colgroup>\n",
    "<col style=\"width: 25%\">\n",
    "<col style=\"width: 62%\">\n",
    "<col style=\"width: 13%\">\n",
    "</colgroup>\n",
    "<thead>\n",
    "<tr class=\"row-odd\"><th class=\"head\"><p>Operation</p></th>\n",
    "<th class=\"head\"><p>Result</p></th>\n",
    "<th class=\"head\"><p>Notes</p></th>\n",
    "</tr>\n",
    "</thead>\n",
    "<tbody>\n",
    "<tr class=\"row-even\"><td><p><code class=\"docutils literal notranslate\"><span class=\"pre\">x</span> <span class=\"pre\">or</span> <span class=\"pre\">y</span></code></p></td>\n",
    "<td><p>if <em>x</em> is false, then <em>y</em>, else\n",
    "<em>x</em></p></td>\n",
    "<td><p>(1)</p></td>\n",
    "</tr>\n",
    "<tr class=\"row-odd\"><td><p><code class=\"docutils literal notranslate\"><span class=\"pre\">x</span> <span class=\"pre\">and</span> <span class=\"pre\">y</span></code></p></td>\n",
    "<td><p>if <em>x</em> is false, then <em>x</em>, else\n",
    "<em>y</em></p></td>\n",
    "<td><p>(2)</p></td>\n",
    "</tr>\n",
    "<tr class=\"row-even\"><td><p><code class=\"docutils literal notranslate\"><span class=\"pre\">not</span> <span class=\"pre\">x</span></code></p></td>\n",
    "<td><p>if <em>x</em> is false, then <code class=\"docutils literal notranslate\"><span class=\"pre\">True</span></code>,\n",
    "else <code class=\"docutils literal notranslate\"><span class=\"pre\">False</span></code></p></td>\n",
    "<td><p>(3)</p></td>\n",
    "</tr>\n",
    "</tbody>\n",
    "</table>"
   ]
  },
  {
   "cell_type": "code",
   "execution_count": 130,
   "outputs": [
    {
     "name": "stdout",
     "output_type": "stream",
     "text": [
      "0\n",
      "1\n",
      "True\n",
      "True\n"
     ]
    }
   ],
   "source": [
    "print(int(False or False))\n",
    "print(int(False or True))\n",
    "print(True or False)\n",
    "print(True or True)"
   ],
   "metadata": {
    "collapsed": false,
    "pycharm": {
     "name": "#%%\n"
    }
   }
  },
  {
   "cell_type": "code",
   "execution_count": 131,
   "outputs": [
    {
     "data": {
      "text/plain": "(True, False)"
     },
     "execution_count": 131,
     "metadata": {},
     "output_type": "execute_result"
    }
   ],
   "source": [
    "bool(10), bool(None)"
   ],
   "metadata": {
    "collapsed": false,
    "pycharm": {
     "name": "#%%\n"
    }
   }
  },
  {
   "cell_type": "code",
   "execution_count": 133,
   "outputs": [
    {
     "data": {
      "text/plain": "10"
     },
     "execution_count": 133,
     "metadata": {},
     "output_type": "execute_result"
    }
   ],
   "source": [
    "10 or None"
   ],
   "metadata": {
    "collapsed": false,
    "pycharm": {
     "name": "#%%\n"
    }
   }
  },
  {
   "cell_type": "code",
   "metadata": {
    "colab": {
     "base_uri": "https://localhost:8080/",
     "height": 35
    },
    "id": "mrDsVlwiLG3p",
    "outputId": "8159ce9a-cad4-45db-949f-5fb833516e28",
    "pycharm": {
     "name": "#%%\n"
    }
   },
   "source": [
    "'asd' and 'asc'"
   ],
   "execution_count": 134,
   "outputs": [
    {
     "data": {
      "text/plain": "'asc'"
     },
     "execution_count": 134,
     "metadata": {},
     "output_type": "execute_result"
    }
   ]
  },
  {
   "cell_type": "markdown",
   "metadata": {
    "id": "iFzYFmtOI2yy",
    "pycharm": {
     "name": "#%% md\n"
    }
   },
   "source": [
    "Операторы сравнения\n",
    "\n",
    "<table class=\"docutils align-default\">\n",
    "<colgroup>\n",
    "<col style=\"width: 32%\">\n",
    "<col style=\"width: 68%\">\n",
    "</colgroup>\n",
    "<thead>\n",
    "<tr class=\"row-odd\"><th class=\"head\"><p>Operation</p></th>\n",
    "<th class=\"head\"><p>Meaning</p></th>\n",
    "</tr>\n",
    "</thead>\n",
    "<tbody>\n",
    "<tr class=\"row-even\"><td><p><code class=\"docutils literal notranslate\"><span class=\"pre\">&lt;</span></code></p></td>\n",
    "<td><p>strictly less than</p></td>\n",
    "</tr>\n",
    "<tr class=\"row-odd\"><td><p><code class=\"docutils literal notranslate\"><span class=\"pre\">&lt;=</span></code></p></td>\n",
    "<td><p>less than or equal</p></td>\n",
    "</tr>\n",
    "<tr class=\"row-even\"><td><p><code class=\"docutils literal notranslate\"><span class=\"pre\">&gt;</span></code></p></td>\n",
    "<td><p>strictly greater than</p></td>\n",
    "</tr>\n",
    "<tr class=\"row-odd\"><td><p><code class=\"docutils literal notranslate\"><span class=\"pre\">&gt;=</span></code></p></td>\n",
    "<td><p>greater than or equal</p></td>\n",
    "</tr>\n",
    "<tr class=\"row-even\"><td><p><code class=\"docutils literal notranslate\"><span class=\"pre\">==</span></code></p></td>\n",
    "<td><p>equal</p></td>\n",
    "</tr>\n",
    "<tr class=\"row-odd\"><td><p><code class=\"docutils literal notranslate\"><span class=\"pre\">!=</span></code></p></td>\n",
    "<td><p>not equal</p></td>\n",
    "</tr>\n",
    "<tr class=\"row-even\"><td><p><code class=\"docutils literal notranslate\"><span class=\"pre\">is</span></code></p></td>\n",
    "<td><p>object identity</p></td>\n",
    "</tr>\n",
    "<tr class=\"row-odd\"><td><p><code class=\"docutils literal notranslate\"><span class=\"pre\">is</span> <span class=\"pre\">not</span></code></p></td>\n",
    "<td><p>negated object identity</p></td>\n",
    "</tr>\n",
    "</tbody>\n",
    "</table>"
   ]
  },
  {
   "cell_type": "code",
   "execution_count": 135,
   "outputs": [
    {
     "data": {
      "text/plain": "True"
     },
     "execution_count": 135,
     "metadata": {},
     "output_type": "execute_result"
    }
   ],
   "source": [
    "10 < 15"
   ],
   "metadata": {
    "collapsed": false,
    "pycharm": {
     "name": "#%%\n"
    }
   }
  },
  {
   "cell_type": "code",
   "metadata": {
    "colab": {
     "base_uri": "https://localhost:8080/"
    },
    "id": "hoRkRkRPJoXP",
    "outputId": "7fee0fed-86ba-4972-cb2e-620e8ee08ddc",
    "pycharm": {
     "name": "#%%\n"
    }
   },
   "source": [
    "1 == 1"
   ],
   "execution_count": null,
   "outputs": []
  },
  {
   "cell_type": "code",
   "metadata": {
    "colab": {
     "base_uri": "https://localhost:8080/"
    },
    "id": "H28TpNbwJqrc",
    "outputId": "b68a5c76-5c88-4f4d-93ec-809bbc7a1d14",
    "pycharm": {
     "name": "#%%\n"
    }
   },
   "source": [
    "1 is not 'abc'"
   ],
   "execution_count": null,
   "outputs": []
  },
  {
   "cell_type": "code",
   "metadata": {
    "colab": {
     "base_uri": "https://localhost:8080/"
    },
    "id": "6yI_rB3PJtf2",
    "outputId": "b574dc39-5b2f-478a-b44e-9a33efe33acd",
    "pycharm": {
     "name": "#%%\n"
    }
   },
   "source": [
    "1 or 1"
   ],
   "execution_count": null,
   "outputs": []
  },
  {
   "cell_type": "markdown",
   "metadata": {
    "id": "tMWVOndyQTGd",
    "pycharm": {
     "name": "#%% md\n"
    }
   },
   "source": [
    "---\n"
   ]
  },
  {
   "cell_type": "markdown",
   "metadata": {
    "id": "5hBkgvT5f4zx",
    "pycharm": {
     "name": "#%% md\n"
    }
   },
   "source": [
    "# Переменные\n",
    "Обсуждаем, как работают переменные в python.\n",
    "\n",
    "1.   Способы задания\n",
    "2.   PEP8 стандарт\n",
    "3.   Идентификатор объекта\n",
    "4.   Зарезервированные переменные\n",
    "5.   Изменяемые и неизменяемые типы данных"
   ]
  },
  {
   "cell_type": "markdown",
   "metadata": {
    "id": "8BYISte3NpAG",
    "pycharm": {
     "name": "#%% md\n"
    }
   },
   "source": [
    "## Способы задания переменных"
   ]
  },
  {
   "cell_type": "code",
   "metadata": {
    "colab": {
     "base_uri": "https://localhost:8080/"
    },
    "id": "yCGg6hd7frjc",
    "outputId": "6b115990-4c5e-4bab-c9d7-18ca173be102",
    "pycharm": {
     "name": "#%%\n"
    }
   },
   "source": [
    "n = 300\n",
    "print(n)\n",
    "j = 10\n",
    "\n",
    "c = n + j\n",
    "\n",
    "print(c)"
   ],
   "execution_count": 138,
   "outputs": [
    {
     "name": "stdout",
     "output_type": "stream",
     "text": [
      "300\n",
      "310\n"
     ]
    }
   ]
  },
  {
   "cell_type": "code",
   "metadata": {
    "colab": {
     "base_uri": "https://localhost:8080/"
    },
    "id": "YbvLFJ98gFTA",
    "outputId": "4febb222-4538-488f-8f68-458778c7918d",
    "pycharm": {
     "name": "#%%\n"
    }
   },
   "source": [
    "n = 1000\n",
    "print(n)"
   ],
   "execution_count": 139,
   "outputs": [
    {
     "name": "stdout",
     "output_type": "stream",
     "text": [
      "1000\n"
     ]
    }
   ]
  },
  {
   "cell_type": "code",
   "metadata": {
    "id": "d9S7ntN6MeKz",
    "pycharm": {
     "name": "#%%\n"
    }
   },
   "source": [
    "a = 1\n",
    "b = 2\n",
    "n = 3"
   ],
   "execution_count": 140,
   "outputs": []
  },
  {
   "cell_type": "code",
   "metadata": {
    "id": "NfUVTqQ5gLoT",
    "colab": {
     "base_uri": "https://localhost:8080/"
    },
    "outputId": "2e746b7d-17e8-442b-b07f-38af5fb33fa1",
    "pycharm": {
     "name": "#%%\n"
    }
   },
   "source": [
    "a = b = n\n",
    "print(a, b, n)"
   ],
   "execution_count": 141,
   "outputs": [
    {
     "name": "stdout",
     "output_type": "stream",
     "text": [
      "3 3 3\n"
     ]
    }
   ]
  },
  {
   "cell_type": "code",
   "execution_count": 142,
   "outputs": [],
   "source": [
    "a, b = 10, 10"
   ],
   "metadata": {
    "collapsed": false,
    "pycharm": {
     "name": "#%%\n"
    }
   }
  },
  {
   "cell_type": "code",
   "execution_count": 143,
   "outputs": [
    {
     "data": {
      "text/plain": "(10, 10)"
     },
     "execution_count": 143,
     "metadata": {},
     "output_type": "execute_result"
    }
   ],
   "source": [
    "a, b"
   ],
   "metadata": {
    "collapsed": false,
    "pycharm": {
     "name": "#%%\n"
    }
   }
  },
  {
   "cell_type": "code",
   "execution_count": null,
   "outputs": [],
   "source": [],
   "metadata": {
    "collapsed": false,
    "pycharm": {
     "name": "#%%\n"
    }
   }
  },
  {
   "cell_type": "code",
   "metadata": {
    "id": "V2UgJPu4MxqB",
    "pycharm": {
     "name": "#%%\n"
    }
   },
   "source": [
    "a, b = 1, 2"
   ],
   "execution_count": 144,
   "outputs": []
  },
  {
   "cell_type": "code",
   "metadata": {
    "id": "2lzNaqTpMkDV",
    "pycharm": {
     "name": "#%%\n"
    }
   },
   "source": [
    "a, b = b, a"
   ],
   "execution_count": 145,
   "outputs": []
  },
  {
   "cell_type": "code",
   "metadata": {
    "colab": {
     "base_uri": "https://localhost:8080/"
    },
    "id": "ychi8IHzgQ2G",
    "outputId": "f4f7bd11-b336-4a76-fe2e-78a4bb34a3b1",
    "pycharm": {
     "name": "#%%\n"
    }
   },
   "source": [
    "print(a, b)"
   ],
   "execution_count": 146,
   "outputs": [
    {
     "name": "stdout",
     "output_type": "stream",
     "text": [
      "2 1\n"
     ]
    }
   ]
  },
  {
   "cell_type": "code",
   "metadata": {
    "id": "Wml3JVfWgSM_",
    "pycharm": {
     "name": "#%%\n"
    }
   },
   "source": [
    "# можем использовать любой тип данных выше\n",
    "\n",
    "a = True\n",
    "b = 23.5\n",
    "c = 10"
   ],
   "execution_count": 147,
   "outputs": []
  },
  {
   "cell_type": "code",
   "metadata": {
    "colab": {
     "base_uri": "https://localhost:8080/"
    },
    "id": "He2keFI-gcMn",
    "outputId": "9d95bf2c-45ff-4267-a03d-63988ce01eeb",
    "pycharm": {
     "name": "#%%\n"
    }
   },
   "source": [
    "# питон переменная это символическая ссылка на объект\n",
    "# например, мы создадим объект n ---> 200\n",
    "\n",
    "n = 200\n",
    "print(n)\n",
    "print(type(n))"
   ],
   "execution_count": 148,
   "outputs": [
    {
     "name": "stdout",
     "output_type": "stream",
     "text": [
      "200\n",
      "<class 'int'>\n"
     ]
    }
   ]
  },
  {
   "cell_type": "code",
   "metadata": {
    "colab": {
     "base_uri": "https://localhost:8080/"
    },
    "id": "nrUwx_JfNB8t",
    "outputId": "66badb09-93a2-46ce-80f0-833181575732",
    "pycharm": {
     "name": "#%%\n"
    }
   },
   "source": [
    "id(n)"
   ],
   "execution_count": 151,
   "outputs": [
    {
     "data": {
      "text/plain": "4489544720"
     },
     "execution_count": 151,
     "metadata": {},
     "output_type": "execute_result"
    }
   ]
  },
  {
   "cell_type": "code",
   "execution_count": 155,
   "outputs": [
    {
     "name": "stdout",
     "output_type": "stream",
     "text": [
      "4542777712 4542778864 False\n",
      "True\n"
     ]
    }
   ],
   "source": [
    "a = 500\n",
    "b = 500\n",
    "print(id(a), id(b), id(a) == id(b))\n",
    "print(a is not b)"
   ],
   "metadata": {
    "collapsed": false,
    "pycharm": {
     "name": "#%%\n"
    }
   }
  },
  {
   "cell_type": "code",
   "metadata": {
    "id": "Uwm4EYVwg3rT",
    "pycharm": {
     "name": "#%%\n"
    }
   },
   "source": [
    "# если написать\n",
    "m = n\n",
    "# то происходит следующее n --> 300 <--- m\n",
    "# https://realpython.com/python-variables/ более подробно можно посмотреть тут"
   ],
   "execution_count": null,
   "outputs": []
  },
  {
   "cell_type": "code",
   "metadata": {
    "colab": {
     "base_uri": "https://localhost:8080/"
    },
    "id": "BSIv8D1XNMXU",
    "outputId": "f05d4baf-b9b0-494a-8c36-48e3cb1d9c3c",
    "pycharm": {
     "name": "#%%\n"
    }
   },
   "source": [
    "id(m) == id(n)"
   ],
   "execution_count": null,
   "outputs": []
  },
  {
   "cell_type": "code",
   "metadata": {
    "id": "zJBfhvpihFQL",
    "pycharm": {
     "name": "#%%\n"
    }
   },
   "source": [
    "# теперь напишем\n",
    "m = 400\n",
    "#.   n ---> 300 \n",
    "#.          400 <--- m"
   ],
   "execution_count": null,
   "outputs": []
  },
  {
   "cell_type": "code",
   "metadata": {
    "colab": {
     "base_uri": "https://localhost:8080/"
    },
    "id": "7v9cBuFZNaFb",
    "outputId": "c658fa42-ef4b-4362-9010-d1ccb5588083",
    "pycharm": {
     "name": "#%%\n"
    }
   },
   "source": [
    "id(m) == id(n)"
   ],
   "execution_count": null,
   "outputs": []
  },
  {
   "cell_type": "code",
   "metadata": {
    "colab": {
     "base_uri": "https://localhost:8080/",
     "height": 126
    },
    "id": "nlHsxZkINqJd",
    "outputId": "9060569e-d3dc-4a83-9c34-ce8fc11838ff",
    "pycharm": {
     "name": "#%%\n"
    }
   },
   "source": [
    "моя_первая = 10"
   ],
   "execution_count": 157,
   "outputs": []
  },
  {
   "cell_type": "code",
   "execution_count": 160,
   "outputs": [
    {
     "ename": "SyntaxError",
     "evalue": "invalid syntax (<ipython-input-160-563084b3e606>, line 1)",
     "output_type": "error",
     "traceback": [
      "\u001B[0;36m  File \u001B[0;32m\"<ipython-input-160-563084b3e606>\"\u001B[0;36m, line \u001B[0;32m1\u001B[0m\n\u001B[0;31m    if = 10\u001B[0m\n\u001B[0m       ^\u001B[0m\n\u001B[0;31mSyntaxError\u001B[0m\u001B[0;31m:\u001B[0m invalid syntax\n"
     ]
    }
   ],
   "source": [
    "if = 10"
   ],
   "metadata": {
    "collapsed": false,
    "pycharm": {
     "name": "#%%\n"
    }
   }
  },
  {
   "cell_type": "markdown",
   "metadata": {
    "id": "L7R_w2IhNzbP",
    "pycharm": {
     "name": "#%% md\n"
    }
   },
   "source": [
    "## PEP8 стандарт\n",
    "\n",
    "свод правил, как писать код на питоне. Там есть раздел, как именовать переменные (и не только). Всем правилам следовать сложно, но можно попробовать соблюдать хотя бы часть, начните с переменных. \\\n",
    "\n",
    "1. Название переменной не может начинаться с цифры\n",
    "\n",
    "Полистайте, может быть интересно\n",
    "https://www.python.org/dev/peps/pep-0008/\n",
    "\n",
    "\n",
    "\n",
    "Важно запомнить, что правильно называть переменныее:\n",
    "1.   Стиль змеи (snake case)\n",
    "2.   Давайте разумные названия (как правило, существительные)\n",
    "3.   Названия только на английском\n",
    "\n",
    "**Стиль Змеи**\n",
    "```\n",
    "n_balls = 10\n",
    "orientation = 'left'\n",
    "field_validation_result = False\n",
    "```\n"
   ]
  },
  {
   "cell_type": "code",
   "metadata": {
    "id": "MZG1Vgp4SPXO",
    "pycharm": {
     "name": "#%%\n"
    }
   },
   "source": [
    "n_objects = 50\n",
    "n_objects_v2 = 100"
   ],
   "execution_count": null,
   "outputs": []
  },
  {
   "cell_type": "code",
   "metadata": {
    "colab": {
     "base_uri": "https://localhost:8080/",
     "height": 130
    },
    "id": "iTtsXHADSjyq",
    "outputId": "3746ad0a-ed6c-4754-e1ec-50440ce18e65",
    "pycharm": {
     "name": "#%%\n"
    }
   },
   "source": [
    "v_object = 10"
   ],
   "execution_count": null,
   "outputs": []
  },
  {
   "cell_type": "markdown",
   "metadata": {
    "id": "e3tqs928SzxC",
    "pycharm": {
     "name": "#%% md\n"
    }
   },
   "source": [
    "***\n",
    "Переменные зарезервированные интерпретатором\n",
    "\n",
    "***\n",
    "<div class=\"table-responsive\">\n",
    "<table class=\"table table-hover\">\n",
    "<thead>\n",
    "<tr>\n",
    "<th>Python<br>Keywords</th>\n",
    "<th>&nbsp;</th>\n",
    "<th>&nbsp;</th>\n",
    "<th>&nbsp;</th>\n",
    "</tr>\n",
    "</thead>\n",
    "<tbody>\n",
    "<tr>\n",
    "<td><code>False</code></td>\n",
    "<td><code>def</code></td>\n",
    "<td><code>if</code></td>\n",
    "<td><code>raise</code></td>\n",
    "</tr>\n",
    "<tr>\n",
    "<td><code>None</code></td>\n",
    "<td><code>del</code></td>\n",
    "<td><code>import</code></td>\n",
    "<td><code>return</code></td>\n",
    "</tr>\n",
    "<tr>\n",
    "<td><code>True</code></td>\n",
    "<td><code>elif</code></td>\n",
    "<td><code>in</code></td>\n",
    "<td><code>try</code></td>\n",
    "</tr>\n",
    "<tr>\n",
    "<td><code>and</code></td>\n",
    "<td><code>else</code></td>\n",
    "<td><code>is</code></td>\n",
    "<td><code>while</code></td>\n",
    "</tr>\n",
    "<tr>\n",
    "<td><code>as</code></td>\n",
    "<td><code>except</code></td>\n",
    "<td><code>lambda</code></td>\n",
    "<td><code>with</code></td>\n",
    "</tr>\n",
    "<tr>\n",
    "<td><code>assert</code></td>\n",
    "<td><code>finally</code></td>\n",
    "<td><code>nonlocal</code></td>\n",
    "<td><code>yield</code></td>\n",
    "</tr>\n",
    "<tr>\n",
    "<td><code>break</code></td>\n",
    "<td><code>for</code></td>\n",
    "<td><code>not</code></td>\n",
    "<td></td>\n",
    "</tr>\n",
    "<tr>\n",
    "<td><code>class</code></td>\n",
    "<td><code>from</code></td>\n",
    "<td><code>or</code></td>\n",
    "<td></td>\n",
    "</tr>\n",
    "<tr>\n",
    "<td><code>continue</code></td>\n",
    "<td><code>global</code></td>\n",
    "<td><code>pass</code></td>\n",
    "<td></td>\n",
    "</tr>\n",
    "</tbody>\n",
    "</table>\n",
    "</div>"
   ]
  },
  {
   "cell_type": "code",
   "metadata": {
    "colab": {
     "base_uri": "https://localhost:8080/",
     "height": 130
    },
    "id": "65ur8Ns7S9ut",
    "outputId": "9ad84745-e307-4f8a-c637-17b9fc41b3fb",
    "pycharm": {
     "name": "#%%\n"
    }
   },
   "source": [
    "def = 10"
   ],
   "execution_count": null,
   "outputs": []
  },
  {
   "cell_type": "markdown",
   "metadata": {
    "id": "driiCXZKRF2e",
    "pycharm": {
     "name": "#%% md\n"
    }
   },
   "source": [
    "Python3 допускает любую кодировку в коде (имеется в виду что, `.py` файлы читаются в unicode) а значит, вы можете писать на любом удобном языке (что, конечно, не рекомендуется и делать так не нужно)"
   ]
  },
  {
   "cell_type": "code",
   "metadata": {
    "colab": {
     "base_uri": "https://localhost:8080/"
    },
    "id": "cLkjMWh3RHiL",
    "outputId": "b0cd9967-18bd-4b73-b02a-e7f0d73df689",
    "pycharm": {
     "name": "#%%\n"
    }
   },
   "source": [
    "моя_первая = 10\n",
    "моя_вторая = 20\n",
    "print(моя_первая + моя_вторая)"
   ],
   "execution_count": null,
   "outputs": []
  },
  {
   "cell_type": "code",
   "metadata": {
    "id": "gcRRa6zXOpWW",
    "pycharm": {
     "name": "#%%\n"
    }
   },
   "source": [
    "\"\""
   ],
   "execution_count": null,
   "outputs": []
  },
  {
   "cell_type": "markdown",
   "metadata": {
    "id": "udf9Q5SvhYIP",
    "pycharm": {
     "name": "#%% md\n"
    }
   },
   "source": [
    "## Идентификатор объекта\n",
    "\n",
    "В питоне у всех объектов есть свой id, интерпретатор гарантирует вам, что все id уникальны.\n",
    "Т.е в созданном значении хранятся id созданных объектов и, как только их количество равно нулю, сборщик мусора производит удаление"
   ]
  },
  {
   "cell_type": "code",
   "metadata": {
    "colab": {
     "base_uri": "https://localhost:8080/"
    },
    "id": "8CZVjGFOhQAX",
    "outputId": "adf332e3-7642-4d05-c660-902889c89bfe",
    "pycharm": {
     "name": "#%%\n"
    }
   },
   "source": [
    "a = 100\n",
    "b = a\n",
    "print(id(a))\n",
    "print(id(b))"
   ],
   "execution_count": null,
   "outputs": []
  },
  {
   "cell_type": "code",
   "metadata": {
    "colab": {
     "base_uri": "https://localhost:8080/"
    },
    "id": "va7PD9amPCuC",
    "outputId": "e57de700-03d9-44b4-ca9c-443519fc2434",
    "pycharm": {
     "name": "#%%\n"
    }
   },
   "source": [
    "b = 10\n",
    "print(id(a))\n",
    "print(id(b))"
   ],
   "execution_count": null,
   "outputs": []
  },
  {
   "cell_type": "markdown",
   "metadata": {
    "id": "nbgUxaP_iWtg",
    "pycharm": {
     "name": "#%% md\n"
    }
   },
   "source": [
    "***\n",
    "Небольшая хитрость\n",
    "***\n",
    "В целях оптимизации интерпретатор создает целые числа `[-5, 256]` в начале работы - это говорит о том, что id будут одинаковыми"
   ]
  },
  {
   "cell_type": "code",
   "metadata": {
    "colab": {
     "base_uri": "https://localhost:8080/"
    },
    "id": "aM0e7aDshgYi",
    "outputId": "7908712b-db5e-42fa-e7eb-16cbea6bd311",
    "pycharm": {
     "name": "#%%\n"
    }
   },
   "source": [
    "a = 300\n",
    "b = 300\n",
    "print('unique ids', f'id[a]={id(a)}', f'id[b]={id(b)}', sep='\\n')\n",
    "\n",
    "c = 10\n",
    "d = 10\n",
    "print('', 'same ids', f'id[a]={id(c)}', f'id[b]={id(d)}', sep='\\n')"
   ],
   "execution_count": 161,
   "outputs": [
    {
     "name": "stdout",
     "output_type": "stream",
     "text": [
      "unique ids\n",
      "id[a]=4542778192\n",
      "id[b]=4542775952\n",
      "\n",
      "same ids\n",
      "id[a]=4489538640\n",
      "id[b]=4489538640\n"
     ]
    }
   ]
  },
  {
   "cell_type": "code",
   "execution_count": null,
   "outputs": [],
   "source": [],
   "metadata": {
    "collapsed": false,
    "pycharm": {
     "name": "#%%\n"
    }
   }
  }
 ]
}