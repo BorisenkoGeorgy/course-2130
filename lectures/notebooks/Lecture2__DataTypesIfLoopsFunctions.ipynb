{
 "nbformat": 4,
 "nbformat_minor": 0,
 "metadata": {
  "colab": {
   "provenance": [],
   "collapsed_sections": [],
   "toc_visible": true
  },
  "kernelspec": {
   "name": "python3",
   "display_name": "Python 3"
  },
  "language_info": {
   "name": "python"
  }
 },
 "cells": [
  {
   "cell_type": "markdown",
   "metadata": {
    "id": "puSSGdn0EFGb",
    "pycharm": {
     "name": "#%% md\n"
    }
   },
   "source": [
    "# Типы данных\n",
    "\n",
    "1. Последовательности\n",
    "2. Словари"
   ]
  },
  {
   "cell_type": "markdown",
   "metadata": {
    "id": "yQ11ZWFxEtIX",
    "pycharm": {
     "name": "#%% md\n"
    }
   },
   "source": [
    "## Последовательности\n",
    "\n",
    "\n",
    "1. list - содержат последовательность любых элементов, элементы располагаются в той последовательности, в которой были добавлены. Доступ осуществляется по индексу. Формальнее, списки - это изменяемые последовательности, обычно используемые для хранения коллекций однородных элементов (где точная степень сходства зависит от приложения).\n",
    "2. tuple - практически ничем не отличаются от списков, кроме того, что являются неизменяемыми. Кортежи - это неизменяемые последовательности, обычно используемые для хранения коллекций разнородных данных (например, двухкортежных кортежей, созданных встроенной функцией enumerate()). Кортежи также используются в случаях, когда требуется неизменная последовательность однородных данных (например, разрешение хранения в экземпляре set или dict).\n",
    "3. range - вынесены в отдельный тип, неизменяемая последовательность, обычно используемая для циклов. Тип диапазона представляет собой неизменяемую последовательность чисел и обычно используется для выполнения цикла for определенное количество раз.\n",
    "\n",
    "**TLDR**\\\n",
    "list - можно менять, tuple - нельзя, range - генератор последовательностей\n",
    "\n"
   ]
  },
  {
   "cell_type": "markdown",
   "metadata": {
    "id": "QBU7EIUGGJse",
    "pycharm": {
     "name": "#%% md\n"
    }
   },
   "source": [
    "***\n",
    "Типичные операции над последовательностями\n",
    "***\n",
    "<table class=\"docutils align-default\" id=\"index-19\">\n",
    "<colgroup>\n",
    "<col style=\"width: 38%\">\n",
    "<col style=\"width: 47%\">\n",
    "<col style=\"width: 15%\">\n",
    "</colgroup>\n",
    "<thead>\n",
    "<tr class=\"row-odd\"><th class=\"head\"><p>Operation</p></th>\n",
    "<th class=\"head\"><p>Result</p></th>\n",
    "<th class=\"head\"><p>Notes</p></th>\n",
    "</tr>\n",
    "</thead>\n",
    "<tbody>\n",
    "<tr class=\"row-even\"><td><p><code class=\"docutils literal notranslate\"><span class=\"pre\">x</span> <span class=\"pre\">in</span> <span class=\"pre\">s</span></code></p></td>\n",
    "<td><p><code class=\"docutils literal notranslate\"><span class=\"pre\">True</span></code> if an item of <em>s</em> is\n",
    "equal to <em>x</em>, else <code class=\"docutils literal notranslate\"><span class=\"pre\">False</span></code></p></td>\n",
    "<td><p>(1)</p></td>\n",
    "</tr>\n",
    "<tr class=\"row-odd\"><td><p><code class=\"docutils literal notranslate\"><span class=\"pre\">x</span> <span class=\"pre\">not</span> <span class=\"pre\">in</span> <span class=\"pre\">s</span></code></p></td>\n",
    "<td><p><code class=\"docutils literal notranslate\"><span class=\"pre\">False</span></code> if an item of <em>s</em> is\n",
    "equal to <em>x</em>, else <code class=\"docutils literal notranslate\"><span class=\"pre\">True</span></code></p></td>\n",
    "<td><p>(1)</p></td>\n",
    "</tr>\n",
    "<tr class=\"row-even\"><td><p><code class=\"docutils literal notranslate\"><span class=\"pre\">s</span> <span class=\"pre\">+</span> <span class=\"pre\">t</span></code></p></td>\n",
    "<td><p>the concatenation of <em>s</em> and\n",
    "<em>t</em></p></td>\n",
    "<td><p>(6)(7)</p></td>\n",
    "</tr>\n",
    "<tr class=\"row-odd\"><td><p><code class=\"docutils literal notranslate\"><span class=\"pre\">s</span> <span class=\"pre\">*</span> <span class=\"pre\">n</span></code> or\n",
    "<code class=\"docutils literal notranslate\"><span class=\"pre\">n</span> <span class=\"pre\">*</span> <span class=\"pre\">s</span></code></p></td>\n",
    "<td><p>equivalent to adding <em>s</em> to\n",
    "itself <em>n</em> times</p></td>\n",
    "<td><p>(2)(7)</p></td>\n",
    "</tr>\n",
    "<tr class=\"row-even\"><td><p><code class=\"docutils literal notranslate\"><span class=\"pre\">s[i]</span></code></p></td>\n",
    "<td><p><em>i</em>th item of <em>s</em>, origin 0</p></td>\n",
    "<td><p>(3)</p></td>\n",
    "</tr>\n",
    "<tr class=\"row-odd\"><td><p><code class=\"docutils literal notranslate\"><span class=\"pre\">s[i:j]</span></code></p></td>\n",
    "<td><p>slice of <em>s</em> from <em>i</em> to <em>j</em></p></td>\n",
    "<td><p>(3)(4)</p></td>\n",
    "</tr>\n",
    "<tr class=\"row-even\"><td><p><code class=\"docutils literal notranslate\"><span class=\"pre\">s[i:j:k]</span></code></p></td>\n",
    "<td><p>slice of <em>s</em> from <em>i</em> to <em>j</em>\n",
    "with step <em>k</em></p></td>\n",
    "<td><p>(3)(5)</p></td>\n",
    "</tr>\n",
    "<tr class=\"row-odd\"><td><p><code class=\"docutils literal notranslate\"><span class=\"pre\">len(s)</span></code></p></td>\n",
    "<td><p>length of <em>s</em></p></td>\n",
    "<td></td>\n",
    "</tr>\n",
    "<tr class=\"row-even\"><td><p><code class=\"docutils literal notranslate\"><span class=\"pre\">min(s)</span></code></p></td>\n",
    "<td><p>smallest item of <em>s</em></p></td>\n",
    "<td></td>\n",
    "</tr>\n",
    "<tr class=\"row-odd\"><td><p><code class=\"docutils literal notranslate\"><span class=\"pre\">max(s)</span></code></p></td>\n",
    "<td><p>largest item of <em>s</em></p></td>\n",
    "<td></td>\n",
    "</tr>\n",
    "<tr class=\"row-even\"><td><p><code class=\"docutils literal notranslate\"><span class=\"pre\">s.index(x[,</span> <span class=\"pre\">i[,</span> <span class=\"pre\">j]])</span></code></p></td>\n",
    "<td><p>index of the first occurrence\n",
    "of <em>x</em> in <em>s</em> (at or after\n",
    "index <em>i</em> and before index <em>j</em>)</p></td>\n",
    "<td><p>(8)</p></td>\n",
    "</tr>\n",
    "<tr class=\"row-odd\"><td><p><code class=\"docutils literal notranslate\"><span class=\"pre\">s.count(x)</span></code></p></td>\n",
    "<td><p>total number of occurrences of\n",
    "<em>x</em> in <em>s</em></p></td>\n",
    "<td></td>\n",
    "</tr>\n",
    "</tbody>\n",
    "</table>"
   ]
  },
  {
   "cell_type": "code",
   "execution_count": 20,
   "outputs": [
    {
     "data": {
      "text/plain": "([1], [2], [1, 2])"
     },
     "execution_count": 20,
     "metadata": {},
     "output_type": "execute_result"
    }
   ],
   "source": [
    "a = [1]\n",
    "b = [2]\n",
    "c = [1] + [2]\n",
    "a, b, c"
   ],
   "metadata": {
    "collapsed": false,
    "pycharm": {
     "name": "#%%\n"
    }
   }
  },
  {
   "cell_type": "code",
   "metadata": {
    "colab": {
     "base_uri": "https://localhost:8080/"
    },
    "id": "YQLI5s1LTpX8",
    "outputId": "dc81e64c-701d-4d59-9efe-d34e21767a7b",
    "pycharm": {
     "name": "#%%\n"
    }
   },
   "source": [
    "my_list = ['a', 'b', 'c', 'd'] + ['e']\n",
    "'a' in my_list"
   ],
   "execution_count": 18,
   "outputs": [
    {
     "data": {
      "text/plain": "True"
     },
     "execution_count": 18,
     "metadata": {},
     "output_type": "execute_result"
    }
   ]
  },
  {
   "cell_type": "code",
   "metadata": {
    "colab": {
     "base_uri": "https://localhost:8080/"
    },
    "id": "145TxdCQUD6L",
    "outputId": "deaea53e-cdfa-4ed0-8b9c-3891c84477f1",
    "pycharm": {
     "name": "#%%\n"
    }
   },
   "source": [
    "l2 = ['a', 'ab', 'ac', 'd']\n",
    "# 0    1    2    3\n",
    "# 1\n",
    "# 1 + 2\n",
    "# 3 + 2 < 4 <>"
   ],
   "execution_count": 32,
   "outputs": []
  },
  {
   "cell_type": "code",
   "execution_count": 30,
   "outputs": [
    {
     "name": "stdout",
     "output_type": "stream",
     "text": [
      "0 a\n",
      "1 b\n",
      "2 c\n",
      "3 d\n"
     ]
    }
   ],
   "source": [
    "for i, item in enumerate(l2):\n",
    "    print(i, item)"
   ],
   "metadata": {
    "collapsed": false,
    "pycharm": {
     "name": "#%%\n"
    }
   }
  },
  {
   "cell_type": "code",
   "execution_count": null,
   "outputs": [],
   "source": [
    "[]"
   ],
   "metadata": {
    "collapsed": false,
    "pycharm": {
     "name": "#%%\n"
    }
   }
  },
  {
   "cell_type": "code",
   "execution_count": 33,
   "outputs": [
    {
     "data": {
      "text/plain": "['a', 'ab', 'ac']"
     },
     "execution_count": 33,
     "metadata": {},
     "output_type": "execute_result"
    }
   ],
   "source": [
    "[item for item in l2 if item.startswith(\"a\")]"
   ],
   "metadata": {
    "collapsed": false,
    "pycharm": {
     "name": "#%%\n"
    }
   }
  },
  {
   "cell_type": "code",
   "execution_count": 36,
   "outputs": [
    {
     "ename": "ValueError",
     "evalue": "'a' is not in list",
     "output_type": "error",
     "traceback": [
      "\u001B[0;31m---------------------------------------------------------------------------\u001B[0m",
      "\u001B[0;31mValueError\u001B[0m                                Traceback (most recent call last)",
      "\u001B[0;32m<ipython-input-36-d66d5470cf78>\u001B[0m in \u001B[0;36m<module>\u001B[0;34m\u001B[0m\n\u001B[0;32m----> 1\u001B[0;31m \u001B[0;34m[\u001B[0m\u001B[0;34m\"b\"\u001B[0m\u001B[0;34m,\u001B[0m \u001B[0;34m\"b\"\u001B[0m\u001B[0;34m]\u001B[0m\u001B[0;34m.\u001B[0m\u001B[0mindex\u001B[0m\u001B[0;34m(\u001B[0m\u001B[0;34m\"a\"\u001B[0m\u001B[0;34m)\u001B[0m\u001B[0;34m\u001B[0m\u001B[0;34m\u001B[0m\u001B[0m\n\u001B[0m",
      "\u001B[0;31mValueError\u001B[0m: 'a' is not in list"
     ]
    }
   ],
   "source": [
    "[\"b\", \"b\"].index(\"a\")"
   ],
   "metadata": {
    "collapsed": false,
    "pycharm": {
     "name": "#%%\n"
    }
   }
  },
  {
   "cell_type": "code",
   "metadata": {
    "colab": {
     "base_uri": "https://localhost:8080/"
    },
    "id": "L6vVf6yWUSwi",
    "outputId": "04ee9173-128b-4f5d-fc39-e98e0e22e124",
    "pycharm": {
     "name": "#%%\n"
    }
   },
   "source": [
    "[[], []] * 8"
   ],
   "execution_count": 40,
   "outputs": [
    {
     "data": {
      "text/plain": "[[], [], [], [], [], [], [], [], [], [], [], [], [], [], [], []]"
     },
     "execution_count": 40,
     "metadata": {},
     "output_type": "execute_result"
    }
   ]
  },
  {
   "cell_type": "code",
   "execution_count": 44,
   "outputs": [
    {
     "data": {
      "text/plain": "['a', 'ab', 'ac', 'd']"
     },
     "execution_count": 44,
     "metadata": {},
     "output_type": "execute_result"
    }
   ],
   "source": [
    "# ['a', 'ab', 'ac', 'd']\n",
    "#  -4    -3    -2   -1"
   ],
   "metadata": {
    "collapsed": false,
    "pycharm": {
     "name": "#%%\n"
    }
   }
  },
  {
   "cell_type": "code",
   "execution_count": 43,
   "outputs": [
    {
     "data": {
      "text/plain": "['d', 'ac', 'ab']"
     },
     "execution_count": 43,
     "metadata": {},
     "output_type": "execute_result"
    }
   ],
   "source": [
    "l2[-1:-4:-1]"
   ],
   "metadata": {
    "collapsed": false,
    "pycharm": {
     "name": "#%%\n"
    }
   }
  },
  {
   "cell_type": "code",
   "execution_count": null,
   "outputs": [],
   "source": [
    "my_list[-1:-4:-1]"
   ],
   "metadata": {
    "collapsed": false,
    "pycharm": {
     "name": "#%%\n"
    }
   }
  },
  {
   "cell_type": "markdown",
   "source": [
    "<img src=\"https://files.realpython.com/media/t.c11ea56e8ca2.png\">"
   ],
   "metadata": {
    "collapsed": false,
    "pycharm": {
     "name": "#%% md\n"
    }
   }
  },
  {
   "cell_type": "markdown",
   "metadata": {
    "id": "xUX-QFJVEx4B",
    "pycharm": {
     "name": "#%% md\n"
    }
   },
   "source": [
    "### List"
   ]
  },
  {
   "cell_type": "markdown",
   "metadata": {
    "id": "D6PS4auOGcT2",
    "pycharm": {
     "name": "#%% md\n"
    }
   },
   "source": [
    "***\n",
    "Типичные операции для изменяемых объектов\n",
    "***\n",
    "\n",
    "<table class=\"docutils align-default\" id=\"index-22\">\n",
    "<colgroup>\n",
    "<col style=\"width: 36%\">\n",
    "<col style=\"width: 39%\">\n",
    "<col style=\"width: 25%\">\n",
    "</colgroup>\n",
    "<thead>\n",
    "<tr class=\"row-odd\"><th class=\"head\"><p>Operation</p></th>\n",
    "<th class=\"head\"><p>Result</p></th>\n",
    "<th class=\"head\"><p>Notes</p></th>\n",
    "</tr>\n",
    "</thead>\n",
    "<tbody>\n",
    "<tr class=\"row-even\"><td><p><code class=\"docutils literal notranslate\"><span class=\"pre\">s[i]</span> <span class=\"pre\">=</span> <span class=\"pre\">x</span></code></p></td>\n",
    "<td><p>item <em>i</em> of <em>s</em> is replaced by\n",
    "<em>x</em></p></td>\n",
    "<td></td>\n",
    "</tr>\n",
    "<tr class=\"row-odd\"><td><p><code class=\"docutils literal notranslate\"><span class=\"pre\">s[i:j]</span> <span class=\"pre\">=</span> <span class=\"pre\">t</span></code></p></td>\n",
    "<td><p>slice of <em>s</em> from <em>i</em> to <em>j</em>\n",
    "is replaced by the contents of\n",
    "the iterable <em>t</em></p></td>\n",
    "<td></td>\n",
    "</tr>\n",
    "<tr class=\"row-even\"><td><p><code class=\"docutils literal notranslate\"><span class=\"pre\">del</span> <span class=\"pre\">s[i:j]</span></code></p></td>\n",
    "<td><p>same as <code class=\"docutils literal notranslate\"><span class=\"pre\">s[i:j]</span> <span class=\"pre\">=</span> <span class=\"pre\">[]</span></code></p></td>\n",
    "<td></td>\n",
    "</tr>\n",
    "<tr class=\"row-odd\"><td><p><code class=\"docutils literal notranslate\"><span class=\"pre\">s[i:j:k]</span> <span class=\"pre\">=</span> <span class=\"pre\">t</span></code></p></td>\n",
    "<td><p>the elements of <code class=\"docutils literal notranslate\"><span class=\"pre\">s[i:j:k]</span></code>\n",
    "are replaced by those of <em>t</em></p></td>\n",
    "<td><p>(1)</p></td>\n",
    "</tr>\n",
    "<tr class=\"row-even\"><td><p><code class=\"docutils literal notranslate\"><span class=\"pre\">del</span> <span class=\"pre\">s[i:j:k]</span></code></p></td>\n",
    "<td><p>removes the elements of\n",
    "<code class=\"docutils literal notranslate\"><span class=\"pre\">s[i:j:k]</span></code> from the list</p></td>\n",
    "<td></td>\n",
    "</tr>\n",
    "<tr class=\"row-odd\"><td><p><code class=\"docutils literal notranslate\"><span class=\"pre\">s.append(x)</span></code></p></td>\n",
    "<td><p>appends <em>x</em> to the end of the\n",
    "sequence (same as\n",
    "<code class=\"docutils literal notranslate\"><span class=\"pre\">s[len(s):len(s)]</span> <span class=\"pre\">=</span> <span class=\"pre\">[x]</span></code>)</p></td>\n",
    "<td></td>\n",
    "</tr>\n",
    "<tr class=\"row-even\"><td><p><code class=\"docutils literal notranslate\"><span class=\"pre\">s.clear()</span></code></p></td>\n",
    "<td><p>removes all items from <em>s</em>\n",
    "(same as <code class=\"docutils literal notranslate\"><span class=\"pre\">del</span> <span class=\"pre\">s[:]</span></code>)</p></td>\n",
    "<td><p>(5)</p></td>\n",
    "</tr>\n",
    "<tr class=\"row-odd\"><td><p><code class=\"docutils literal notranslate\"><span class=\"pre\">s.copy()</span></code></p></td>\n",
    "<td><p>creates a shallow copy of <em>s</em>\n",
    "(same as <code class=\"docutils literal notranslate\"><span class=\"pre\">s[:]</span></code>)</p></td>\n",
    "<td><p>(5)</p></td>\n",
    "</tr>\n",
    "<tr class=\"row-even\"><td><p><code class=\"docutils literal notranslate\"><span class=\"pre\">s.extend(t)</span></code> or\n",
    "<code class=\"docutils literal notranslate\"><span class=\"pre\">s</span> <span class=\"pre\">+=</span> <span class=\"pre\">t</span></code></p></td>\n",
    "<td><p>extends <em>s</em> with the\n",
    "contents of <em>t</em> (for the\n",
    "most part the same as\n",
    "<code class=\"docutils literal notranslate\"><span class=\"pre\">s[len(s):len(s)]</span> <span class=\"pre\">=</span> <span class=\"pre\">t</span></code>)</p></td>\n",
    "<td></td>\n",
    "</tr>\n",
    "<tr class=\"row-odd\"><td><p><code class=\"docutils literal notranslate\"><span class=\"pre\">s</span> <span class=\"pre\">*=</span> <span class=\"pre\">n</span></code></p></td>\n",
    "<td><p>updates <em>s</em> with its contents\n",
    "repeated <em>n</em> times</p></td>\n",
    "<td><p>(6)</p></td>\n",
    "</tr>\n",
    "<tr class=\"row-even\"><td><p><code class=\"docutils literal notranslate\"><span class=\"pre\">s.insert(i,</span> <span class=\"pre\">x)</span></code></p></td>\n",
    "<td><p>inserts <em>x</em> into <em>s</em> at the\n",
    "index given by <em>i</em>\n",
    "(same as <code class=\"docutils literal notranslate\"><span class=\"pre\">s[i:i]</span> <span class=\"pre\">=</span> <span class=\"pre\">[x]</span></code>)</p></td>\n",
    "<td></td>\n",
    "</tr>\n",
    "<tr class=\"row-odd\"><td><p><code class=\"docutils literal notranslate\"><span class=\"pre\">s.pop()</span></code> or <code class=\"docutils literal notranslate\"><span class=\"pre\">s.pop(i)</span></code></p></td>\n",
    "<td><p>retrieves the item at <em>i</em> and\n",
    "also removes it from <em>s</em></p></td>\n",
    "<td><p>(2)</p></td>\n",
    "</tr>\n",
    "<tr class=\"row-even\"><td><p><code class=\"docutils literal notranslate\"><span class=\"pre\">s.remove(x)</span></code></p></td>\n",
    "<td><p>remove the first item from <em>s</em>\n",
    "where <code class=\"docutils literal notranslate\"><span class=\"pre\">s[i]</span></code> is equal to <em>x</em></p></td>\n",
    "<td><p>(3)</p></td>\n",
    "</tr>\n",
    "<tr class=\"row-odd\"><td><p><code class=\"docutils literal notranslate\"><span class=\"pre\">s.reverse()</span></code></p></td>\n",
    "<td><p>reverses the items of <em>s</em> in\n",
    "place</p></td>\n",
    "<td><p>(4)</p></td>\n",
    "</tr>\n",
    "</tbody>\n",
    "</table>"
   ]
  },
  {
   "cell_type": "code",
   "metadata": {
    "id": "5Ztx6SM6GboS",
    "colab": {
     "base_uri": "https://localhost:8080/"
    },
    "outputId": "b6d43f85-8c28-46ad-d173-b2369db794d6",
    "pycharm": {
     "name": "#%%\n"
    }
   },
   "source": [
    "fruits = ['apple', 'banana', 'peach', 'pear']\n",
    "print(f'my fruits basket contains: {fruits}')"
   ],
   "execution_count": 45,
   "outputs": [
    {
     "name": "stdout",
     "output_type": "stream",
     "text": [
      "my fruits basket contains: ['apple', 'banana', 'peach', 'pear']\n"
     ]
    }
   ]
  },
  {
   "cell_type": "code",
   "execution_count": 48,
   "outputs": [],
   "source": [
    "a = [\"1\", \"2\", \"3\"]\n",
    "a[0] = \"2\""
   ],
   "metadata": {
    "collapsed": false,
    "pycharm": {
     "name": "#%%\n"
    }
   }
  },
  {
   "cell_type": "code",
   "execution_count": 49,
   "outputs": [
    {
     "data": {
      "text/plain": "['2', '2', '3']"
     },
     "execution_count": 49,
     "metadata": {},
     "output_type": "execute_result"
    }
   ],
   "source": [
    "a"
   ],
   "metadata": {
    "collapsed": false,
    "pycharm": {
     "name": "#%%\n"
    }
   }
  },
  {
   "cell_type": "code",
   "metadata": {
    "id": "k5zj9Jg-VMYU",
    "pycharm": {
     "name": "#%%\n"
    }
   },
   "source": [
    "fruits_reversed = fruits.reverse()"
   ],
   "execution_count": null,
   "outputs": []
  },
  {
   "cell_type": "code",
   "execution_count": null,
   "outputs": [],
   "source": [
    "print(id(fruits), id(fruits_reversed))"
   ],
   "metadata": {
    "collapsed": false,
    "pycharm": {
     "name": "#%%\n"
    }
   }
  },
  {
   "cell_type": "code",
   "metadata": {
    "colab": {
     "base_uri": "https://localhost:8080/"
    },
    "id": "RAAFYZEsVRTI",
    "outputId": "10de63c6-f40b-4d73-a55c-faddb3cc1fc7",
    "pycharm": {
     "name": "#%%\n"
    }
   },
   "source": [
    "print(fruits)"
   ],
   "execution_count": null,
   "outputs": []
  },
  {
   "cell_type": "code",
   "metadata": {
    "id": "-aFM4inwVZKg",
    "pycharm": {
     "name": "#%%\n"
    }
   },
   "source": [
    "fruits.remove('apple')"
   ],
   "execution_count": null,
   "outputs": []
  },
  {
   "cell_type": "code",
   "metadata": {
    "colab": {
     "base_uri": "https://localhost:8080/"
    },
    "id": "xlqX2cteVedE",
    "outputId": "ae3c16b2-72a2-4510-d20e-aac2ffb2d8fe",
    "pycharm": {
     "name": "#%%\n"
    }
   },
   "source": [
    "fruits"
   ],
   "execution_count": null,
   "outputs": []
  },
  {
   "cell_type": "code",
   "metadata": {
    "id": "vSPVZMM54yfE",
    "pycharm": {
     "name": "#%%\n"
    }
   },
   "source": [
    "# список может содержать элементы разных типов\n",
    "objects = [1, 'Ilya', -100.5, False]"
   ],
   "execution_count": null,
   "outputs": []
  },
  {
   "cell_type": "code",
   "metadata": {
    "colab": {
     "base_uri": "https://localhost:8080/"
    },
    "id": "qoMP8O-I5K05",
    "outputId": "d712aab6-f7dd-4578-8262-3d26dfb15ad5",
    "pycharm": {
     "name": "#%%\n"
    }
   },
   "source": [
    "# используя таблицу выше, воспользуемся некоторыми операциями над последовательностями\n",
    "# дублируем элементы 2 раза\n",
    "fruits * 2"
   ],
   "execution_count": null,
   "outputs": []
  },
  {
   "cell_type": "code",
   "metadata": {
    "id": "fiGjrgYyVx_d",
    "pycharm": {
     "name": "#%%\n"
    }
   },
   "source": [
    "s = [1, 2]\n",
    "s[0] *= 2\n",
    "s[1] *= 2"
   ],
   "execution_count": null,
   "outputs": []
  },
  {
   "cell_type": "code",
   "metadata": {
    "colab": {
     "base_uri": "https://localhost:8080/"
    },
    "id": "sjWB4W88V88K",
    "outputId": "2be61a3b-2ebf-42d6-8c34-b571d34ac2ca",
    "pycharm": {
     "name": "#%%\n"
    }
   },
   "source": [
    "s"
   ],
   "execution_count": null,
   "outputs": []
  },
  {
   "cell_type": "code",
   "metadata": {
    "colab": {
     "base_uri": "https://localhost:8080/"
    },
    "id": "_I2UUaYx5k1f",
    "outputId": "125bad82-2c78-4f61-e78e-89de397e6912",
    "pycharm": {
     "name": "#%%\n"
    }
   },
   "source": [
    "fruits.append('pineapple')\n",
    "# данный метод не возвращает ничего, напечатаем список\n",
    "fruits"
   ],
   "execution_count": null,
   "outputs": []
  },
  {
   "cell_type": "markdown",
   "metadata": {
    "id": "QA6g2dO06Diu",
    "pycharm": {
     "name": "#%% md\n"
    }
   },
   "source": [
    "Для того чтобы разобраться, какие методы существуют для списков, загляните в официальную документацию, если не поможет, то stackoverflow\n",
    "\n",
    "[ВАМ СЮДА](https://docs.python.org/3/tutorial/datastructures.html)\n",
    "\n",
    "---\n",
    "Поговорим о том, что список является изменяемым типом данных, и разберемся, как работают ссылки для списка. На самом деле вы уже знаете один неизменямый тип данных, это строки, если вы попробуете сделать\n",
    "```\n",
    ">'string'[1] = 10\n",
    ">TypeError: 'str' object does not support item assignment\n",
    "```\n",
    "Это означает, что уже созданная строка не может быть изменена. В отличие от строк списки изменяемы, т.е. любой элемент может быть перезаписан новым значением.\n",
    "```\n",
    ">[1, 2, 3, 4][0] = True\n",
    "```\n",
    "\n",
    "**Все типы в конце урока**"
   ]
  },
  {
   "cell_type": "code",
   "metadata": {
    "colab": {
     "base_uri": "https://localhost:8080/",
     "height": 158
    },
    "id": "ZEBYfc1-WfNC",
    "outputId": "b783e7d3-88d0-4be5-9e3d-8ae2f7f5e77f",
    "pycharm": {
     "name": "#%%\n"
    }
   },
   "source": [
    "'qwe'[1] = 'x'"
   ],
   "execution_count": null,
   "outputs": []
  },
  {
   "cell_type": "code",
   "metadata": {
    "id": "N7TS42wlWnM3",
    "pycharm": {
     "name": "#%%\n"
    }
   },
   "source": [
    "a = \"qwe\"\n",
    "a = a.replace('w', 'x')\n",
    "print(a)"
   ],
   "execution_count": 81,
   "outputs": [
    {
     "name": "stdout",
     "output_type": "stream",
     "text": [
      "qxe\n"
     ]
    }
   ]
  },
  {
   "cell_type": "code",
   "execution_count": null,
   "outputs": [],
   "source": [
    "[1].append(1)"
   ],
   "metadata": {
    "collapsed": false,
    "pycharm": {
     "name": "#%%\n"
    }
   }
  },
  {
   "cell_type": "code",
   "metadata": {
    "id": "4mM5RwRX5sLk",
    "pycharm": {
     "name": "#%%\n"
    }
   },
   "source": [
    "'string'[1] = 10"
   ],
   "execution_count": null,
   "outputs": []
  },
  {
   "cell_type": "code",
   "metadata": {
    "id": "0Q6pZn2U8kA4",
    "pycharm": {
     "name": "#%%\n"
    }
   },
   "source": [
    "a = [1, 2, 3, 4]\n",
    "a[0] = True\n",
    "a"
   ],
   "execution_count": null,
   "outputs": []
  },
  {
   "cell_type": "code",
   "metadata": {
    "id": "fhLrbxeLB0JY",
    "pycharm": {
     "name": "#%%\n"
    }
   },
   "source": [
    "# Вы можете выделять подпоследовательность из списка (новый список)\n",
    "\n",
    "a[1:3]  # левая граница включается, правая нет"
   ],
   "execution_count": null,
   "outputs": []
  },
  {
   "cell_type": "code",
   "metadata": {
    "colab": {
     "base_uri": "https://localhost:8080/"
    },
    "id": "U3uy72kmXAzV",
    "outputId": "5cdc0601-dd0a-480b-eeca-d04d147cd1c7",
    "pycharm": {
     "name": "#%%\n"
    }
   },
   "source": [
    "list(range(10))"
   ],
   "execution_count": null,
   "outputs": []
  },
  {
   "cell_type": "code",
   "metadata": {
    "colab": {
     "base_uri": "https://localhost:8080/"
    },
    "id": "8gJT17wDCQbg",
    "outputId": "7bc417a9-a23a-4d46-99c6-c72ba405038e",
    "pycharm": {
     "name": "#%%\n"
    }
   },
   "source": [
    "# возьмем список побольше\n",
    "\n",
    "a = list(range(100))\n",
    "print(f'a[10:70:10]={a[10:70:10]}')\n",
    "print(f'a[::10]={a[::10]}')"
   ],
   "execution_count": null,
   "outputs": []
  },
  {
   "cell_type": "code",
   "metadata": {
    "colab": {
     "base_uri": "https://localhost:8080/"
    },
    "id": "76zG3_ztX41d",
    "outputId": "f5555886-a6fc-4f87-f822-29d2d93dad09",
    "pycharm": {
     "name": "#%%\n"
    }
   },
   "source": [
    "[1, 2, 3][::-2]"
   ],
   "execution_count": null,
   "outputs": []
  },
  {
   "cell_type": "code",
   "metadata": {
    "colab": {
     "base_uri": "https://localhost:8080/"
    },
    "id": "WQBF1qu8CwlC",
    "outputId": "b254b249-edc0-4de8-c8a7-66927df0b96d",
    "pycharm": {
     "name": "#%%\n"
    }
   },
   "source": [
    "print(f'a[::-10]={a[::-10]}')"
   ],
   "execution_count": null,
   "outputs": []
  },
  {
   "cell_type": "code",
   "metadata": {
    "colab": {
     "base_uri": "https://localhost:8080/"
    },
    "id": "OyeG6uV9C_VY",
    "outputId": "b46bddbf-19d7-4355-9936-1ad1aa3c2f1a",
    "pycharm": {
     "name": "#%%\n"
    }
   },
   "source": [
    "# самый простой способ инвертировать список\n",
    "print(list(range(10))[::-1])"
   ],
   "execution_count": null,
   "outputs": []
  },
  {
   "cell_type": "markdown",
   "metadata": {
    "id": "Y_VPP3fKExrc",
    "pycharm": {
     "name": "#%% md\n"
    }
   },
   "source": [
    "### Tuple\n",
    "\n",
    "По факту кортеж (он же tuple) - это неизменяемый список. Элементы кортежа перечисляются через запятую (или в круглых скобках).\n",
    "\n",
    "Важно запомнить главное отличие\n",
    "```\n",
    ">a = ('s')\n",
    ">a\n",
    ">'s'  # т.е. вы создали строку, но не кортеж, правильно будет\n",
    ">a = ('s', )\n",
    "``` \n",
    "\n",
    "Также кортежем являются элементы, перечисленные через запятую\n",
    "```\n",
    ">a = 1, 2, 3\n",
    ">print(type(a))\n",
    "><class 'tuple'>\n",
    "```\n",
    "\n",
    "Опять же реверсивная операция присвоения так же работает для множества переменных\n",
    "```\n",
    ">t = 1, 2, 3\n",
    ">a, b, c = t\n",
    ">print(a, b, c)\n",
    "```"
   ]
  },
  {
   "cell_type": "code",
   "metadata": {
    "id": "RRgNMuRmGq3J",
    "pycharm": {
     "name": "#%%\n"
    }
   },
   "source": [
    "a = 1,\n",
    "b = 1, 2, 3\n",
    "c = (1, 2, '3')"
   ],
   "execution_count": 82,
   "outputs": []
  },
  {
   "cell_type": "code",
   "metadata": {
    "id": "lQuEXv4yZfc8",
    "pycharm": {
     "name": "#%%\n"
    }
   },
   "source": [
    "print(a, b, c, type(a))"
   ],
   "execution_count": 84,
   "outputs": [
    {
     "name": "stdout",
     "output_type": "stream",
     "text": [
      "(1,) (1, 2, 3) (1, 2, '3') <class 'tuple'>\n"
     ]
    }
   ]
  },
  {
   "cell_type": "code",
   "metadata": {
    "colab": {
     "base_uri": "https://localhost:8080/"
    },
    "id": "xj9tqCQRjw4c",
    "outputId": "036de3f5-02b4-4bfd-99ac-5ef1e21bd407",
    "pycharm": {
     "name": "#%%\n"
    }
   },
   "source": [
    "print(type(a))"
   ],
   "execution_count": null,
   "outputs": []
  },
  {
   "cell_type": "code",
   "metadata": {
    "colab": {
     "base_uri": "https://localhost:8080/",
     "height": 158
    },
    "id": "JTksiZDhY23h",
    "outputId": "8c246b14-72c0-462a-dc25-b7c6eb3901dd",
    "pycharm": {
     "name": "#%%\n"
    }
   },
   "source": [
    "b[0] = 40"
   ],
   "execution_count": 85,
   "outputs": [
    {
     "ename": "TypeError",
     "evalue": "'tuple' object does not support item assignment",
     "output_type": "error",
     "traceback": [
      "\u001B[0;31m---------------------------------------------------------------------------\u001B[0m",
      "\u001B[0;31mTypeError\u001B[0m                                 Traceback (most recent call last)",
      "\u001B[0;32m<ipython-input-85-7d8bd1c2dd57>\u001B[0m in \u001B[0;36m<module>\u001B[0;34m\u001B[0m\n\u001B[0;32m----> 1\u001B[0;31m \u001B[0mb\u001B[0m\u001B[0;34m[\u001B[0m\u001B[0;36m0\u001B[0m\u001B[0;34m]\u001B[0m \u001B[0;34m=\u001B[0m \u001B[0;36m40\u001B[0m\u001B[0;34m\u001B[0m\u001B[0;34m\u001B[0m\u001B[0m\n\u001B[0m",
      "\u001B[0;31mTypeError\u001B[0m: 'tuple' object does not support item assignment"
     ]
    }
   ]
  },
  {
   "cell_type": "markdown",
   "metadata": {
    "id": "phgmk25IExiT",
    "pycharm": {
     "name": "#%% md\n"
    }
   },
   "source": [
    "### Sets (Множества)\n",
    "\n",
    "Множества - это реализация математического объекта \"множество\". Т.е. коллекция неповторяющихся элементов без заданного порядка.\n",
    "\n",
    "Set objects also support mathematical operations like union, intersection, difference and symmetric difference\n",
    "\n",
    "Задаются с помощью фигурных скобок `{}` или функции `set()`."
   ]
  },
  {
   "cell_type": "code",
   "metadata": {
    "id": "hJmxk7_zGskd",
    "colab": {
     "base_uri": "https://localhost:8080/"
    },
    "outputId": "51b1b69a-a9a3-442c-a1fe-ea8623b67297",
    "pycharm": {
     "name": "#%%\n"
    }
   },
   "source": [
    "a = {1, 2, 3, 3, 4, 4}\n",
    "a"
   ],
   "execution_count": 86,
   "outputs": [
    {
     "data": {
      "text/plain": "{1, 2, 3, 4}"
     },
     "execution_count": 86,
     "metadata": {},
     "output_type": "execute_result"
    }
   ]
  },
  {
   "cell_type": "code",
   "metadata": {
    "colab": {
     "base_uri": "https://localhost:8080/"
    },
    "id": "l_pUCy1pmtmi",
    "outputId": "aac0c760-cb5c-4e53-9cd4-437937b1e174",
    "pycharm": {
     "name": "#%%\n"
    }
   },
   "source": [
    "a = set([1, 2, 3, 3, 4, 4])\n",
    "a"
   ],
   "execution_count": 89,
   "outputs": [
    {
     "data": {
      "text/plain": "{1, 2, 3, 4}"
     },
     "execution_count": 89,
     "metadata": {},
     "output_type": "execute_result"
    }
   ]
  },
  {
   "cell_type": "markdown",
   "metadata": {
    "id": "wWfqW6NIEvZI",
    "pycharm": {
     "name": "#%% md\n"
    }
   },
   "source": [
    "## Словари"
   ]
  },
  {
   "cell_type": "markdown",
   "metadata": {
    "id": "Vr6RmR5tE4Nb",
    "pycharm": {
     "name": "#%% md\n"
    }
   },
   "source": [
    "### Dict\n",
    "\n",
    "В других языках словари иногда встречаются как «ассоциативные массивы». В отличие от последовательностей, которые индексируются диапазоном чисел, словари индексируются ключами, которые могут быть любого неизменяемого типа; строки и числа всегда могут быть ключами. Кортежи можно использовать в качестве ключей, если они содержат только строки, числа или кортежи; если кортеж прямо или косвенно содержит какой-либо изменяемый объект, его нельзя использовать в качестве ключа.\n",
    "\n",
    "Вы не можете использовать списки в качестве ключей, поскольку списки можно изменять на месте с помощью присвоений индексов, назначений фрагментов или таких методов, как `append()` и `extend()`.\n",
    "\n",
    "**Dict** - это хэш таблица, мы ее реализуем самостоятельно далее"
   ]
  },
  {
   "cell_type": "code",
   "execution_count": 93,
   "outputs": [
    {
     "data": {
      "text/plain": "False"
     },
     "execution_count": 93,
     "metadata": {},
     "output_type": "execute_result"
    }
   ],
   "source": [
    "person_ = [('age', 24), (23, 'Name'), ('name', 'Ilya')]  # O(N), N = len(list)"
   ],
   "metadata": {
    "collapsed": false,
    "pycharm": {
     "name": "#%%\n"
    }
   }
  },
  {
   "cell_type": "code",
   "metadata": {
    "id": "ncDpceTwDjM_",
    "colab": {
     "base_uri": "https://localhost:8080/"
    },
    "outputId": "e940b063-4bdf-4413-e192-68e1f73c7604",
    "pycharm": {
     "name": "#%%\n"
    }
   },
   "source": [
    "person = {'name': 'Ilya', 'age': 24, 23: 'Name'}\n",
    "print(person[\"name\"])  # O(1)"
   ],
   "execution_count": 94,
   "outputs": [
    {
     "name": "stdout",
     "output_type": "stream",
     "text": [
      "Ilya\n"
     ]
    }
   ]
  },
  {
   "cell_type": "code",
   "metadata": {
    "colab": {
     "base_uri": "https://localhost:8080/"
    },
    "id": "hOf64yz9aWEq",
    "outputId": "98cbbe27-6c20-41d7-f96f-660607956184",
    "pycharm": {
     "name": "#%%\n"
    }
   },
   "source": [
    "person.items()"
   ],
   "execution_count": 91,
   "outputs": [
    {
     "data": {
      "text/plain": "dict_items([('name', 'Ilya'), ('age', 24), (23, 'Name')])"
     },
     "execution_count": 91,
     "metadata": {},
     "output_type": "execute_result"
    }
   ]
  },
  {
   "cell_type": "code",
   "metadata": {
    "id": "BEJpnjvFnxNM",
    "pycharm": {
     "name": "#%%\n"
    }
   },
   "source": [
    "person.update({'gender': 'male'})"
   ],
   "execution_count": 95,
   "outputs": []
  },
  {
   "cell_type": "code",
   "metadata": {
    "id": "MiFt9cbdavWC",
    "pycharm": {
     "name": "#%%\n"
    }
   },
   "source": [
    "person[\"my_key\"] = 1223"
   ],
   "execution_count": 96,
   "outputs": []
  },
  {
   "cell_type": "code",
   "metadata": {
    "colab": {
     "base_uri": "https://localhost:8080/"
    },
    "id": "Up7aOu_La9AK",
    "outputId": "4ddc0e41-d900-42c1-aed0-1a1e22520373",
    "pycharm": {
     "name": "#%%\n"
    }
   },
   "source": [
    "person[\"key0\"]"
   ],
   "execution_count": 98,
   "outputs": [
    {
     "ename": "KeyError",
     "evalue": "'key0'",
     "output_type": "error",
     "traceback": [
      "\u001B[0;31m---------------------------------------------------------------------------\u001B[0m",
      "\u001B[0;31mKeyError\u001B[0m                                  Traceback (most recent call last)",
      "\u001B[0;32m<ipython-input-98-74d8d47e1322>\u001B[0m in \u001B[0;36m<module>\u001B[0;34m\u001B[0m\n\u001B[0;32m----> 1\u001B[0;31m \u001B[0mperson\u001B[0m\u001B[0;34m[\u001B[0m\u001B[0;34m\"key0\"\u001B[0m\u001B[0;34m]\u001B[0m \u001B[0;34m+=\u001B[0m \u001B[0;36m1\u001B[0m\u001B[0;34m\u001B[0m\u001B[0;34m\u001B[0m\u001B[0m\n\u001B[0m",
      "\u001B[0;31mKeyError\u001B[0m: 'key0'"
     ]
    }
   ]
  },
  {
   "cell_type": "code",
   "metadata": {
    "id": "PTO_fde_blx4",
    "pycharm": {
     "name": "#%%\n"
    }
   },
   "source": [
    "person[\"my_key\"] = 222"
   ],
   "execution_count": null,
   "outputs": []
  },
  {
   "cell_type": "code",
   "execution_count": 99,
   "outputs": [
    {
     "data": {
      "text/plain": "True"
     },
     "execution_count": 99,
     "metadata": {},
     "output_type": "execute_result"
    }
   ],
   "source": [
    "\"name\" in person"
   ],
   "metadata": {
    "collapsed": false,
    "pycharm": {
     "name": "#%%\n"
    }
   }
  },
  {
   "cell_type": "code",
   "metadata": {
    "colab": {
     "base_uri": "https://localhost:8080/"
    },
    "id": "T2A7N0TybtHW",
    "outputId": "aa98e2f2-7d42-4f54-f7ca-b580d310527e",
    "pycharm": {
     "name": "#%%\n"
    }
   },
   "source": [
    "person"
   ],
   "execution_count": null,
   "outputs": []
  },
  {
   "cell_type": "code",
   "metadata": {
    "colab": {
     "base_uri": "https://localhost:8080/"
    },
    "id": "1cJqSHppb7XH",
    "outputId": "0dcd8012-7f0e-455d-c52d-c6041b64960b",
    "pycharm": {
     "name": "#%%\n"
    }
   },
   "source": [
    "bool(float(1000 / 1000))"
   ],
   "execution_count": null,
   "outputs": []
  },
  {
   "cell_type": "code",
   "metadata": {
    "colab": {
     "base_uri": "https://localhost:8080/"
    },
    "id": "ffIYj0uocPwN",
    "outputId": "6410c082-2cbe-4fa5-9ee2-397bb0019566",
    "pycharm": {
     "name": "#%%\n"
    }
   },
   "source": [
    "hash(1.0)"
   ],
   "execution_count": null,
   "outputs": []
  },
  {
   "cell_type": "code",
   "metadata": {
    "colab": {
     "base_uri": "https://localhost:8080/"
    },
    "id": "pgNd2UCjcTxa",
    "outputId": "f4973137-5cf1-4b9e-9320-40abfd32af8f",
    "pycharm": {
     "name": "#%%\n"
    }
   },
   "source": [
    "hash(1.5)"
   ],
   "execution_count": null,
   "outputs": []
  },
  {
   "cell_type": "code",
   "metadata": {
    "colab": {
     "base_uri": "https://localhost:8080/"
    },
    "id": "_LCMQlwScDV4",
    "outputId": "1fa00770-7398-4aa5-a7af-442d0e1f3a2e",
    "pycharm": {
     "name": "#%%\n"
    }
   },
   "source": [
    "hash(True) == hash(1.0)"
   ],
   "execution_count": 105,
   "outputs": [
    {
     "data": {
      "text/plain": "True"
     },
     "execution_count": 105,
     "metadata": {},
     "output_type": "execute_result"
    }
   ]
  },
  {
   "cell_type": "code",
   "metadata": {
    "id": "8jVxOOyCpZyG",
    "pycharm": {
     "name": "#%%\n"
    }
   },
   "source": [
    "a = {True: 'Ilya'}\n",
    "a.update({float(1000 / 1000): 'Ivan'})\n",
    "a.update({'name': 'GGGG'})"
   ],
   "execution_count": 100,
   "outputs": []
  },
  {
   "cell_type": "code",
   "execution_count": 103,
   "outputs": [
    {
     "data": {
      "text/plain": "True"
     },
     "execution_count": 103,
     "metadata": {},
     "output_type": "execute_result"
    }
   ],
   "source": [
    "bool(float(1000 / 1000))"
   ],
   "metadata": {
    "collapsed": false,
    "pycharm": {
     "name": "#%%\n"
    }
   }
  },
  {
   "cell_type": "code",
   "execution_count": 104,
   "outputs": [
    {
     "data": {
      "text/plain": "(8233480914962170054, 805466525495487621)"
     },
     "execution_count": 104,
     "metadata": {},
     "output_type": "execute_result"
    }
   ],
   "source": [],
   "metadata": {
    "collapsed": false,
    "pycharm": {
     "name": "#%%\n"
    }
   }
  },
  {
   "cell_type": "code",
   "metadata": {
    "colab": {
     "base_uri": "https://localhost:8080/"
    },
    "id": "lO6-5AoObLz8",
    "outputId": "6bd500c8-c6bb-4a4f-d1d7-f6bf8152a7c4",
    "pycharm": {
     "name": "#%%\n"
    }
   },
   "source": [
    "a"
   ],
   "execution_count": 101,
   "outputs": [
    {
     "data": {
      "text/plain": "{True: 'Ivan', 'name': 'GGGG'}"
     },
     "execution_count": 101,
     "metadata": {},
     "output_type": "execute_result"
    }
   ]
  },
  {
   "cell_type": "markdown",
   "metadata": {
    "id": "Y729W7sFvywK",
    "pycharm": {
     "name": "#%% md\n"
    }
   },
   "source": [
    "# Синтаксис\n",
    "\n",
    "Раньше мы не писали больше одной строчки, но скоро нас ждут большие программы, давайте разберемся, как их писать\n",
    "\n",
    "1. Программа состоит из логических строк (концом которых является перенос строки)\n",
    "2. Явная конкатенация логических строк происходит с помощью `\\`\n",
    "3. Неявная конкатенация работает для выражений в круглых, квадратных или фигурных скобках\n",
    "4. Отступ 4 пробела используется для группировки операторов. Обеспечение вложенности инструкций и объединение их в блоки\n",
    "```\n",
    "some block 1:\n",
    "    some inner block 2\n",
    "    statement\n",
    "```\n",
    "\n",
    "Остальное можно прочитать [здесь](https://docs.python.org/3/reference/lexical_analysis.html) (если будет время, рассмотрим все остальное на следующей паре)\n"
   ]
  },
  {
   "cell_type": "code",
   "metadata": {
    "colab": {
     "base_uri": "https://localhost:8080/"
    },
    "id": "jgZcW1eecqkY",
    "outputId": "72594e8a-819d-4ae9-8cb4-f8d80240dd55",
    "pycharm": {
     "name": "#%%\n"
    }
   },
   "source": [
    "(1, 2,\n",
    " 3)"
   ],
   "execution_count": null,
   "outputs": []
  },
  {
   "cell_type": "markdown",
   "metadata": {
    "id": "KPTD6lFXrJjp",
    "pycharm": {
     "name": "#%% md\n"
    }
   },
   "source": [
    "# Условный оператор IF\n",
    "\n",
    "это оператор ветвления, т.е. отвечает за выполнение команд при условии истинности некоторого логического выражения\n",
    "\n",
    "В python есть три типа:\n",
    "```\n",
    "if state:\n",
    "    pass\n",
    "elif state:\n",
    "    pass\n",
    "else:\n",
    "    pass\n",
    "```\n",
    "\n",
    "Также можно делать запись в строку (тернарная операция)\n",
    "\n",
    "```\n",
    ">a = 1 if 2 == 2 else 0\n",
    "```\n",
    "\n",
    "Здесь же затронем тему проверки истинности объектов (`or` `and`)\n",
    "\n",
    "```\n",
    ">a = 1 or True # присваевается первое истинное значение\n",
    ">a = False or 1  # присваевается любое истинное значение\n",
    ">a = True and False  # (False and True) присваевается False значение\n",
    ">a = 'a' and 'b'. # вернет второе значение т.е. b\n",
    "```"
   ]
  },
  {
   "cell_type": "code",
   "metadata": {
    "colab": {
     "base_uri": "https://localhost:8080/"
    },
    "id": "guapzusodece",
    "outputId": "2ed9b9af-9a97-41db-c675-502fb7cf6809",
    "pycharm": {
     "name": "#%%\n"
    }
   },
   "source": [
    "if False:\n",
    "    print('first if')\n",
    "elif False:  # else if\n",
    "    print('second')\n",
    "elif True:\n",
    "    print('second 2')\n",
    "elif True:\n",
    "    print('second')\n",
    "else:\n",
    "    print('else')\n"
   ],
   "execution_count": null,
   "outputs": []
  },
  {
   "cell_type": "code",
   "metadata": {
    "colab": {
     "base_uri": "https://localhost:8080/"
    },
    "id": "umFOd9Vye3zq",
    "outputId": "752fc158-ff24-47bf-a67a-ec3eecfe3340",
    "pycharm": {
     "name": "#%%\n"
    }
   },
   "source": [
    "2 in s"
   ],
   "execution_count": null,
   "outputs": []
  },
  {
   "cell_type": "code",
   "metadata": {
    "id": "Q3JNwwuZer73",
    "pycharm": {
     "name": "#%%\n"
    }
   },
   "source": [
    "s = [1, 2, 3]\n",
    "\n",
    "a = 1 if 2 not in s else 0"
   ],
   "execution_count": null,
   "outputs": []
  },
  {
   "cell_type": "code",
   "metadata": {
    "colab": {
     "base_uri": "https://localhost:8080/"
    },
    "id": "RLm6NXrbPtWI",
    "outputId": "a7c61333-feda-4427-d27e-84eb20a21b43",
    "pycharm": {
     "name": "#%%\n"
    }
   },
   "source": [
    "name = input('enter the name ')\n",
    "name = name.lower()\n",
    "if name == 'ilya':\n",
    "    print(f'Welcome, {name}')\n",
    "elif name == 'dima':\n",
    "    print(f'You are not welcome {name}')\n",
    "else:\n",
    "    print(f'Hi, {name}')"
   ],
   "execution_count": null,
   "outputs": []
  },
  {
   "cell_type": "markdown",
   "metadata": {
    "id": "lgxxrEdTRmrh",
    "pycharm": {
     "name": "#%% md\n"
    }
   },
   "source": [
    "`input` позволяет читать с ввода, при этом предварительно напечатав строку"
   ]
  },
  {
   "cell_type": "code",
   "metadata": {
    "colab": {
     "base_uri": "https://localhost:8080/"
    },
    "id": "ErlE25gvQ6xK",
    "outputId": "44d984fc-9e93-43e1-abe1-28422262fe59",
    "pycharm": {
     "name": "#%%\n"
    }
   },
   "source": [
    "print(f'1 or True => {1 or True}')\n",
    "print(f'False or 1 => {False or 1}')\n",
    "print(f'True and \"b\" => {True and \"b\"}')\n",
    "print(f'0 and True => {0 and True}')"
   ],
   "execution_count": null,
   "outputs": []
  },
  {
   "cell_type": "markdown",
   "metadata": {
    "id": "Mw5lBDdxrNvp",
    "pycharm": {
     "name": "#%% md\n"
    }
   },
   "source": [
    "# Циклы FOR и WHILE\n",
    "\n",
    "Очень важный аспект языка и используются повсеместно. Повторяет выполнения блока внутри согласно определенному условию.\n",
    "\n",
    "\n",
    "```\n",
    "while True:\n",
    "    pass\n",
    "```\n",
    "\n",
    " \n",
    "```\n",
    "for object in iter:\n",
    "    pass\n",
    "```\n",
    "\n",
    "Нужно запомнить еще пару операторов:\n",
    "1. `continue` - перейти к следующей итерации\n",
    "2. `break` - выйти из текущего блока\n",
    "\n",
    "Есть синтаксис характерный для python, проверка вышли ли вы из цикла с помощью `break` или нет\n",
    "\n",
    "```\n",
    "while True:\n",
    "    break\n",
    "else:\n",
    "    print('no break')\n",
    "```"
   ]
  },
  {
   "cell_type": "code",
   "metadata": {
    "colab": {
     "base_uri": "https://localhost:8080/"
    },
    "id": "Yjez96CITtST",
    "outputId": "3fd21189-8832-4f9e-927f-d90b43cd88d6",
    "pycharm": {
     "name": "#%%\n"
    }
   },
   "source": [
    "i = 0\n",
    "while i < 5:\n",
    "    print(i)\n",
    "    i += 1"
   ],
   "execution_count": null,
   "outputs": []
  },
  {
   "cell_type": "code",
   "metadata": {
    "colab": {
     "base_uri": "https://localhost:8080/"
    },
    "id": "Im3aSGk8USIs",
    "outputId": "c993727e-3d96-433f-d818-d51c805c6b4f",
    "pycharm": {
     "name": "#%%\n"
    }
   },
   "source": [
    "for _ in range(5):\n",
    "    print('step')\n",
    "    # print(i)"
   ],
   "execution_count": null,
   "outputs": []
  },
  {
   "cell_type": "code",
   "metadata": {
    "colab": {
     "base_uri": "https://localhost:8080/"
    },
    "id": "mvZw4IeprRFg",
    "outputId": "1b4acc39-5ef6-4690-89bd-8168bd9d14d0",
    "pycharm": {
     "name": "#%%\n"
    }
   },
   "source": [
    "i = 0\n",
    "while i < 5:\n",
    "    print(i)\n",
    "    if i > 100:\n",
    "        break\n",
    "    i += 1\n",
    "else:\n",
    "    print('no break')"
   ],
   "execution_count": null,
   "outputs": []
  },
  {
   "cell_type": "code",
   "metadata": {
    "colab": {
     "base_uri": "https://localhost:8080/"
    },
    "id": "HEy7NfBFhs9c",
    "outputId": "4709722d-e826-4723-ae5a-9ffa5124ded4",
    "pycharm": {
     "name": "#%%\n"
    }
   },
   "source": [
    "for i in range(2):\n",
    "    for j in range(2):\n",
    "        print(i, j)"
   ],
   "execution_count": null,
   "outputs": []
  },
  {
   "cell_type": "markdown",
   "metadata": {
    "id": "4pLbeMl69bgS",
    "pycharm": {
     "name": "#%% md\n"
    }
   },
   "source": [
    "# Функции\n",
    "\n",
    "1.  Часть кода, которому мы даем имя (абстракция)\n",
    "2.  Функцию можно написать один раз и вызывать из разных мест программы (переиспользование)\n",
    "3.  Функции помогают структурировать код, разбив его на отдельные действия\n",
    "4.  Делают код более читабельным и упрощают поиск ошибок\n",
    "\n",
    "Функции в python похожи на обычные функции `z = f(x, ...)`. В программировании функция - это автономный блок кода, который инкапсулирует конкретную задачу или связанную группу задач.\n",
    "\n",
    "Задание фукций:\n",
    "```\n",
    "def <function_name>([<parameters>]):\n",
    "    <statement(s)>\n",
    "```\n",
    "---"
   ]
  },
  {
   "cell_type": "code",
   "metadata": {
    "id": "zWYTOjhUiX7Y",
    "pycharm": {
     "name": "#%%\n"
    }
   },
   "source": [
    "def my_first():\n",
    "    print('Hello from my first')"
   ],
   "execution_count": null,
   "outputs": []
  },
  {
   "cell_type": "code",
   "metadata": {
    "colab": {
     "base_uri": "https://localhost:8080/"
    },
    "id": "zRhi1QoMiize",
    "outputId": "bba77036-43fb-4e44-c578-88f551505adc",
    "pycharm": {
     "name": "#%%\n"
    }
   },
   "source": [
    "my_first()"
   ],
   "execution_count": null,
   "outputs": []
  },
  {
   "cell_type": "code",
   "metadata": {
    "id": "K6xjdNiSi61h",
    "pycharm": {
     "name": "#%%\n"
    }
   },
   "source": [
    "def my_second()"
   ],
   "execution_count": null,
   "outputs": []
  },
  {
   "cell_type": "markdown",
   "metadata": {
    "id": "MURuNW-qH2jl",
    "pycharm": {
     "name": "#%% md\n"
    }
   },
   "source": [
    "## Передача аргументов в функцию\n",
    "\n"
   ]
  },
  {
   "cell_type": "markdown",
   "metadata": {
    "id": "9LFZXpNzH6p-",
    "pycharm": {
     "name": "#%% md\n"
    }
   },
   "source": [
    "\n",
    "### positional agrs\n",
    "Cамый простой способ передать аргументы функции python - использовать позиционные аргументы (также называемые обязательными аргументами). В определении функции вы указываете список параметров, разделенных запятыми, в круглых скобках."
   ]
  },
  {
   "cell_type": "code",
   "metadata": {
    "colab": {
     "base_uri": "https://localhost:8080/"
    },
    "id": "cozd3U5JrZTI",
    "outputId": "b865c75b-4557-4a35-afe1-a86709559193",
    "pycharm": {
     "name": "#%%\n"
    }
   },
   "source": [
    "# positional args\n",
    "\n",
    "def foo(arg1, arg2):\n",
    "    print(f'arg1={arg1}; arg2={arg2}')\n",
    "\n",
    "\n",
    "foo(1, 2)"
   ],
   "execution_count": null,
   "outputs": []
  },
  {
   "cell_type": "code",
   "metadata": {
    "colab": {
     "base_uri": "https://localhost:8080/",
     "height": 158
    },
    "id": "TwWfH0SmjREu",
    "outputId": "ebd1994e-319a-4b8b-d5e8-6b4b842d9c1d",
    "pycharm": {
     "name": "#%%\n"
    }
   },
   "source": [
    "foo()"
   ],
   "execution_count": null,
   "outputs": []
  },
  {
   "cell_type": "markdown",
   "metadata": {
    "id": "pP-Jvz38G73y",
    "pycharm": {
     "name": "#%% md\n"
    }
   },
   "source": [
    "### keyword args\n",
    "Когда вы вызываете функцию, вы можете указать аргументы в форме `<ключевое слово>=<значение>`. В этом случае каждое `<ключевое слово>` должно соответствовать параметру в определении функции Python. Например, ранее определенная функция `foo()` может быть вызвана с ключевыми аргументами следующим образом:"
   ]
  },
  {
   "cell_type": "code",
   "metadata": {
    "colab": {
     "base_uri": "https://localhost:8080/"
    },
    "id": "2Nq1h4DaGZ94",
    "outputId": "c4666f6d-2dae-41c3-f2fe-46cc45c93191",
    "pycharm": {
     "name": "#%%\n"
    }
   },
   "source": [
    "foo(arg2=2, arg1=1)"
   ],
   "execution_count": null,
   "outputs": []
  },
  {
   "cell_type": "markdown",
   "metadata": {
    "id": "mvX_WRISHHCs",
    "pycharm": {
     "name": "#%% md\n"
    }
   },
   "source": [
    "### значения по умолчанию\n",
    "Если параметр, указанный в определении функции python, имеет форму `<имя>=<значение>`, тогда `<значение>` становится значением по умолчанию для этого параметра. Параметры, определенные таким образом, называются параметрами по умолчанию или дополнительными параметрами."
   ]
  },
  {
   "cell_type": "code",
   "metadata": {
    "colab": {
     "base_uri": "https://localhost:8080/"
    },
    "id": "rhMvANOkHDsK",
    "outputId": "ad448500-fc8e-4206-dea0-a5edcbcc7ff2",
    "pycharm": {
     "name": "#%%\n"
    }
   },
   "source": [
    "def foo2(arg1, arg2='default'):\n",
    "    print(f'arg1={arg1}; arg2={arg2}')\n",
    "\n",
    "\n",
    "foo2(1)\n",
    "foo2(1, 2)\n",
    "foo2('hello', arg2='lala')"
   ],
   "execution_count": null,
   "outputs": []
  },
  {
   "cell_type": "code",
   "metadata": {
    "colab": {
     "base_uri": "https://localhost:8080/",
     "height": 158
    },
    "id": "X1waMU8ljyIx",
    "outputId": "185278f3-c96e-4392-de81-655ea8c49815",
    "pycharm": {
     "name": "#%%\n"
    }
   },
   "source": [
    "foo2(arg2=1)"
   ],
   "execution_count": null,
   "outputs": []
  },
  {
   "cell_type": "code",
   "metadata": {
    "colab": {
     "base_uri": "https://localhost:8080/",
     "height": 126
    },
    "id": "bdt-nITXHska",
    "outputId": "cdcd65a4-c8d6-45ef-aa64-9a34c01e6e45",
    "pycharm": {
     "name": "#%%\n"
    }
   },
   "source": [
    "foo2(arg1='hello', 'lala')"
   ],
   "execution_count": null,
   "outputs": []
  },
  {
   "cell_type": "code",
   "metadata": {
    "id": "HJuSgCCXkSMR",
    "pycharm": {
     "name": "#%%\n"
    }
   },
   "source": [
    "def foo(a=1, b=2):\n",
    "    pass"
   ],
   "execution_count": null,
   "outputs": []
  },
  {
   "cell_type": "code",
   "metadata": {
    "id": "GQcctWzikxKg",
    "pycharm": {
     "name": "#%%\n"
    }
   },
   "source": [
    "foo()"
   ],
   "execution_count": null,
   "outputs": []
  },
  {
   "cell_type": "markdown",
   "metadata": {
    "id": "-ssHn4OdHzkZ",
    "pycharm": {
     "name": "#%% md\n"
    }
   },
   "source": [
    "### изменяемые параметры\n",
    "\n",
    "Будьте осторожны, если ставите изменяемый параметр в значение по умолчанию\n",
    "\n"
   ]
  },
  {
   "cell_type": "code",
   "metadata": {
    "id": "JpSUtrK1Hu7W",
    "pycharm": {
     "name": "#%%\n"
    }
   },
   "source": [
    "def foo(words=[]):\n",
    "    print(id(words))\n",
    "    words.append('END')\n",
    "    return words"
   ],
   "execution_count": null,
   "outputs": []
  },
  {
   "cell_type": "code",
   "metadata": {
    "colab": {
     "base_uri": "https://localhost:8080/"
    },
    "id": "HQjPig7IIz7S",
    "outputId": "5a5596f3-b112-4fee-e464-95a01db3db97",
    "pycharm": {
     "name": "#%%\n"
    }
   },
   "source": [
    "foo(['Hello', 'World'])"
   ],
   "execution_count": null,
   "outputs": []
  },
  {
   "cell_type": "code",
   "metadata": {
    "colab": {
     "base_uri": "https://localhost:8080/"
    },
    "id": "e9FX3VhLk_bJ",
    "outputId": "917760bf-daee-4584-97b4-5f9a121fded6",
    "pycharm": {
     "name": "#%%\n"
    }
   },
   "source": [
    "foo(['Hello', 'World'])"
   ],
   "execution_count": null,
   "outputs": []
  },
  {
   "cell_type": "code",
   "metadata": {
    "colab": {
     "base_uri": "https://localhost:8080/"
    },
    "id": "G-7glwTGI2_u",
    "outputId": "f29c08a7-bb00-477f-b3e5-fc7ff9837a58",
    "pycharm": {
     "name": "#%%\n"
    }
   },
   "source": [
    "foo([])"
   ],
   "execution_count": null,
   "outputs": []
  },
  {
   "cell_type": "code",
   "metadata": {
    "colab": {
     "base_uri": "https://localhost:8080/"
    },
    "id": "KVexlvajI5LR",
    "outputId": "a3eb5789-a248-4319-a9d7-a942ad3bed18",
    "pycharm": {
     "name": "#%%\n"
    }
   },
   "source": [
    "# Что же не так???\n",
    "foo()\n",
    "foo()\n",
    "foo()"
   ],
   "execution_count": null,
   "outputs": []
  },
  {
   "cell_type": "code",
   "metadata": {
    "id": "-t_trvJ8lHt6",
    "pycharm": {
     "name": "#%%\n"
    }
   },
   "source": [],
   "execution_count": null,
   "outputs": []
  },
  {
   "cell_type": "markdown",
   "metadata": {
    "id": "e8vs3v59JGze",
    "pycharm": {
     "name": "#%% md\n"
    }
   },
   "source": [
    "В Python значения параметров по умолчанию определяются только один раз, когда функция определена (то есть, когда выполняется инструкция `def`). Значение по умолчанию не переопределяется каждый раз при вызове функции. Таким образом, каждый раз, когда вы вызываете `f()` без параметра, вы выполняете `.append()` в том же списке."
   ]
  },
  {
   "cell_type": "code",
   "metadata": {
    "id": "QPyBDOHWJzQI",
    "pycharm": {
     "name": "#%%\n"
    }
   },
   "source": [
    "def foo(words=None):\n",
    "    words = words or []\n",
    "    print(id(words))\n",
    "    words.append('END')\n",
    "    return words"
   ],
   "execution_count": null,
   "outputs": []
  },
  {
   "cell_type": "code",
   "metadata": {
    "colab": {
     "base_uri": "https://localhost:8080/"
    },
    "id": "PXid6q_3Kday",
    "outputId": "03290c0d-8c0c-4f21-9c4f-ac519bf3de22",
    "pycharm": {
     "name": "#%%\n"
    }
   },
   "source": [
    "foo()\n",
    "foo()\n",
    "foo()"
   ],
   "execution_count": null,
   "outputs": []
  },
  {
   "cell_type": "code",
   "metadata": {
    "colab": {
     "base_uri": "https://localhost:8080/"
    },
    "id": "UEvPeOvvl3Rm",
    "outputId": "dbf604de-8775-4502-9152-deb4f20e5490",
    "pycharm": {
     "name": "#%%\n"
    }
   },
   "source": [
    "[1] * 10"
   ],
   "execution_count": null,
   "outputs": []
  },
  {
   "cell_type": "code",
   "metadata": {
    "colab": {
     "base_uri": "https://localhost:8080/"
    },
    "id": "FR3Y7A9vl65Z",
    "outputId": "5b4eaa8f-1f53-4331-c71c-5a8480af1fa4",
    "pycharm": {
     "name": "#%%\n"
    }
   },
   "source": [
    "[[1, 2], 2]"
   ],
   "execution_count": null,
   "outputs": []
  },
  {
   "cell_type": "code",
   "metadata": {
    "colab": {
     "base_uri": "https://localhost:8080/"
    },
    "id": "tDWNnuZJl-qP",
    "outputId": "a0deef59-d84f-4bce-ac01-f7acdf6f9049",
    "pycharm": {
     "name": "#%%\n"
    }
   },
   "source": [
    "a = [[0] * 5] * 5\n",
    "a"
   ],
   "execution_count": null,
   "outputs": []
  },
  {
   "cell_type": "code",
   "metadata": {
    "id": "zphMywdtmNgK",
    "pycharm": {
     "name": "#%%\n"
    }
   },
   "source": [
    "a[0][1] = 2"
   ],
   "execution_count": null,
   "outputs": []
  },
  {
   "cell_type": "code",
   "metadata": {
    "colab": {
     "base_uri": "https://localhost:8080/"
    },
    "id": "wtD10O95md0y",
    "outputId": "30823bb2-6db3-47d1-d515-281ed6cb0f64",
    "pycharm": {
     "name": "#%%\n"
    }
   },
   "source": [
    "a"
   ],
   "execution_count": null,
   "outputs": []
  },
  {
   "cell_type": "code",
   "metadata": {
    "id": "KhaEtz98mq9I",
    "pycharm": {
     "name": "#%%\n"
    }
   },
   "source": [
    "a = [i for j in range(5) for i in range(j)]"
   ],
   "execution_count": null,
   "outputs": []
  },
  {
   "cell_type": "code",
   "metadata": {
    "colab": {
     "base_uri": "https://localhost:8080/"
    },
    "id": "SMCVXRyenkSo",
    "outputId": "ff68d5dc-f3e8-4840-f2f7-196f4321f042",
    "pycharm": {
     "name": "#%%\n"
    }
   },
   "source": [
    "n = 12\n",
    "r = {}\n",
    "for i in range(int(n)):\n",
    "    if i % 2 == 0:\n",
    "        r[str(i)] = i\n",
    "r"
   ],
   "execution_count": null,
   "outputs": []
  },
  {
   "cell_type": "code",
   "metadata": {
    "colab": {
     "base_uri": "https://localhost:8080/"
    },
    "id": "ztKMoDhAm8zr",
    "outputId": "c8dadbc3-f467-4fc5-de07-be5a4382a46c",
    "pycharm": {
     "name": "#%%\n"
    }
   },
   "source": [
    "{str(i): i for i in range(10) if i % 2 == 0}"
   ],
   "execution_count": null,
   "outputs": []
  },
  {
   "cell_type": "code",
   "metadata": {
    "colab": {
     "base_uri": "https://localhost:8080/",
     "height": 128
    },
    "id": "TJXet2ucOATd",
    "outputId": "c88f3971-f55e-45c1-ca24-a3020e858263",
    "pycharm": {
     "name": "#%%\n"
    }
   },
   "source": [
    "def foo(a, b):\n",
    "    print(a, b)\n",
    "\n",
    "\n",
    "foo(b=1, a=2)\n",
    "foo(1, b=2)\n",
    "foo(a=1, 2)"
   ],
   "execution_count": null,
   "outputs": []
  },
  {
   "cell_type": "markdown",
   "metadata": {
    "id": "JxtZByeONleA",
    "pycharm": {
     "name": "#%% md\n"
    }
   },
   "source": [
    "## Передача значения или ссылки\n",
    "\n",
    "Давайте разберемся, что происходит, когда вы передаете аргумент в функцию (вот очень простым языком написано, читайте [link](https://realpython.com/defining-your-own-python-function/))\n",
    "\n",
    "При вызове функции параметр функции и значение из точки вызова указывают на один объект, но подобно тому, как вы можете присвоить объекту другое значение, интерпретатор присвоит другое значение параметру. Рассмотрим на практике"
   ]
  },
  {
   "cell_type": "code",
   "metadata": {
    "id": "yrxip328KeNo",
    "pycharm": {
     "name": "#%%\n"
    }
   },
   "source": [
    "def foo(arg1):\n",
    "    print(f'initial id(arg1)={id(arg1)}')\n",
    "    arg1 *= 2\n",
    "    print(f'updated id(arg1)={id(arg1)}')\n",
    "\n",
    "\n",
    "x = 350\n",
    "print(f'initial x = {x} with id(x)={id(x)}')\n",
    "foo(x)\n",
    "print(f'final x = {x} with id(x)={id(x)}')"
   ],
   "execution_count": null,
   "outputs": []
  },
  {
   "cell_type": "code",
   "metadata": {
    "colab": {
     "base_uri": "https://localhost:8080/"
    },
    "id": "Lo93ExNhOy_t",
    "outputId": "a97c813f-d542-4a0f-81af-bbf3b779a710",
    "pycharm": {
     "name": "#%%\n"
    }
   },
   "source": [
    "def foo(inpt_list):\n",
    "    for i in range(len(inpt_list)):\n",
    "        inpt_list[i] *= 2\n",
    "\n",
    "\n",
    "my_list = [1, 2, 3]\n",
    "print(id(my_list))\n",
    "foo(my_list)\n",
    "print(my_list)"
   ],
   "execution_count": null,
   "outputs": []
  },
  {
   "cell_type": "markdown",
   "metadata": {
    "id": "k1yvu12UOAq8",
    "pycharm": {
     "name": "#%% md\n"
    }
   },
   "source": [
    "Ключевой вывод здесь заключается в том, что функция python не может изменить значение аргумента, переназначив соответствующий параметр чему-то другому."
   ]
  },
  {
   "cell_type": "markdown",
   "metadata": {
    "id": "QWoFrOllORoZ",
    "pycharm": {
     "name": "#%% md\n"
    }
   },
   "source": [
    "Резюмируя. Передача неизменяемого объекта, такого как `int`, `str`, `tuple` или `frozenset`, в функцию python действует как передача по значению. Функция не может изменять объект в вызывающей среде.\n",
    "\n",
    "Передача изменяемого объекта, такого как `list`, `dict` или `set`, действует в некоторой степени, но не в точности, как передача по ссылке. Функция не может переназначить объект оптом, но она может изменять элементы на месте внутри объекта, и эти изменения будут отражены в вызывающей среде."
   ]
  },
  {
   "cell_type": "code",
   "metadata": {
    "colab": {
     "base_uri": "https://localhost:8080/"
    },
    "id": "Lpoz_MNjQnhK",
    "outputId": "e9c46553-146e-4435-96ba-ceeda090573d",
    "pycharm": {
     "name": "#%%\n"
    }
   },
   "source": [
    "def foo(number):\n",
    "    print(id(number))\n",
    "    number = number + 2\n",
    "    print(id(number))\n",
    "\n",
    "\n",
    "a = 1\n",
    "print(id(a))\n",
    "foo(a)"
   ],
   "execution_count": null,
   "outputs": []
  },
  {
   "cell_type": "code",
   "metadata": {
    "colab": {
     "base_uri": "https://localhost:8080/"
    },
    "id": "gOdhthCVRU8e",
    "outputId": "9effc764-beb9-4800-f5e0-42014d7d8b51",
    "pycharm": {
     "name": "#%%\n"
    }
   },
   "source": [
    "def avg(inpt_list):\n",
    "    print(inpt_list)\n",
    "    # ...\n",
    "\n",
    "\n",
    "a = [1, 2, 3]\n",
    "avg_val = avg(a)\n",
    "print(avg_val)"
   ],
   "execution_count": null,
   "outputs": []
  },
  {
   "cell_type": "markdown",
   "metadata": {
    "id": "jz_cOoIXO6Sg",
    "pycharm": {
     "name": "#%% md\n"
    }
   },
   "source": [
    "## Return\n",
    "\n",
    "Оператор `return` делает две вещи:\n",
    "1.  Он немедленно завершает функцию и передает управление выполнением обратно вызывающей стороне.\n",
    "2.  Он предоставляет механизм, с помощью которого функция может передавать данные обратно вызывающей стороне.\n"
   ]
  },
  {
   "cell_type": "code",
   "metadata": {
    "id": "M52V2KnqRfU9",
    "colab": {
     "base_uri": "https://localhost:8080/"
    },
    "outputId": "58a49f15-0714-4847-d75f-262c5f2d0a96",
    "pycharm": {
     "name": "#%%\n"
    }
   },
   "source": [
    "def foo(arg1):\n",
    "    if isinstance(arg1, int):\n",
    "        return arg1 + 100\n",
    "    else:\n",
    "        return arg1\n",
    "\n",
    "\n",
    "print(f'arg=123 -> {foo(123)}')\n",
    "print(f'arg=\"abc\" -> {foo(\"abc\")}')"
   ],
   "execution_count": null,
   "outputs": []
  },
  {
   "cell_type": "code",
   "metadata": {
    "colab": {
     "base_uri": "https://localhost:8080/"
    },
    "id": "y9nhX8HmSQL7",
    "outputId": "0a5fa5d5-7d0e-4306-979a-d5a5b26227d1",
    "pycharm": {
     "name": "#%%\n"
    }
   },
   "source": [
    "def foo():\n",
    "    i = 0\n",
    "    while i < 10:\n",
    "        print(f'step={i}')\n",
    "        if i > 5:\n",
    "            return 'done'\n",
    "        i += 1\n",
    "        print('end step')\n",
    "\n",
    "\n",
    "print('start')\n",
    "foo()\n",
    "print('end')"
   ],
   "execution_count": null,
   "outputs": []
  },
  {
   "cell_type": "code",
   "metadata": {
    "id": "imZWpccCQPlv",
    "colab": {
     "base_uri": "https://localhost:8080/"
    },
    "outputId": "a0490c18-1306-4ece-e35d-f51161d89d51",
    "pycharm": {
     "name": "#%%\n"
    }
   },
   "source": [
    "def foo2(arg1):\n",
    "    if isinstance(arg1, str):\n",
    "        return\n",
    "    return arg1\n",
    "\n",
    "\n",
    "print(f'arg=\"abc\" -> {foo2(\"abc\")}')"
   ],
   "execution_count": null,
   "outputs": []
  },
  {
   "cell_type": "code",
   "metadata": {
    "id": "CYPju-bvQ8Xu",
    "colab": {
     "base_uri": "https://localhost:8080/"
    },
    "outputId": "6a78fed5-a80f-445e-e5fb-24c9e12fb45c",
    "pycharm": {
     "name": "#%%\n"
    }
   },
   "source": [
    "def foo21():\n",
    "    pass\n",
    "\n",
    "\n",
    "def foo22():\n",
    "    return\n",
    "\n",
    "\n",
    "print(foo21() == foo22())"
   ],
   "execution_count": null,
   "outputs": []
  },
  {
   "cell_type": "code",
   "metadata": {
    "id": "VarQ5P3jQhDb",
    "colab": {
     "base_uri": "https://localhost:8080/"
    },
    "outputId": "196bf2d0-5e25-4b3e-fde0-af4acc48960d",
    "pycharm": {
     "name": "#%%\n"
    }
   },
   "source": [
    "def foo3(arg1):\n",
    "    return arg1, arg1 + 'aa', arg1 + 'bb'\n",
    "\n",
    "\n",
    "print(f'arg=\"abc\" -> {foo3(\"abc\")}')"
   ],
   "execution_count": null,
   "outputs": []
  },
  {
   "cell_type": "code",
   "metadata": {
    "colab": {
     "base_uri": "https://localhost:8080/"
    },
    "id": "50IFvON2TKzf",
    "outputId": "421254a8-5101-4764-ae00-7ac8ac5c8339",
    "pycharm": {
     "name": "#%%\n"
    }
   },
   "source": [
    "type(foo3(\"abc\"))"
   ],
   "execution_count": null,
   "outputs": []
  },
  {
   "cell_type": "code",
   "metadata": {
    "colab": {
     "base_uri": "https://localhost:8080/"
    },
    "id": "CTQDSI2lTTXg",
    "outputId": "7f148225-4b72-4b78-e5a4-36f31a2e2d24",
    "pycharm": {
     "name": "#%%\n"
    }
   },
   "source": [
    "i, j, _ = foo3(\"abc\")\n",
    "print(_)\n",
    "print(i, j)"
   ],
   "execution_count": null,
   "outputs": []
  },
  {
   "cell_type": "code",
   "metadata": {
    "id": "TdniR6eDT5ib",
    "pycharm": {
     "name": "#%%\n"
    }
   },
   "source": [],
   "execution_count": null,
   "outputs": []
  },
  {
   "cell_type": "markdown",
   "metadata": {
    "id": "KHz2wMpIQJkj",
    "pycharm": {
     "name": "#%% md\n"
    }
   },
   "source": [
    "## Динамические аргументы\n",
    "\n",
    "Что если мы хотим написать функцию, которая берет на вход 4 аргумента (числа) и возвращает среднее"
   ]
  },
  {
   "cell_type": "code",
   "metadata": {
    "id": "U_lJ9FsedouB",
    "colab": {
     "base_uri": "https://localhost:8080/",
     "height": 195
    },
    "outputId": "d288e324-0492-462a-a114-5642a7c1edb5",
    "pycharm": {
     "name": "#%%\n"
    }
   },
   "source": [
    "def avg(a, b, c, d):\n",
    "    return (a + b + c + d) / 4\n",
    "\n",
    "\n",
    "print(avg(1, 2))"
   ],
   "execution_count": null,
   "outputs": []
  },
  {
   "cell_type": "markdown",
   "metadata": {
    "id": "6qA7U03De4rd",
    "pycharm": {
     "name": "#%% md\n"
    }
   },
   "source": [
    "Теперь мы хотим, чтобы `b`, `c`, `d` были опциональными"
   ]
  },
  {
   "cell_type": "code",
   "metadata": {
    "id": "-GeGcmnSep7V",
    "colab": {
     "base_uri": "https://localhost:8080/"
    },
    "outputId": "533f85fd-d186-4717-ea76-527ab9cf35d5",
    "pycharm": {
     "name": "#%%\n"
    }
   },
   "source": [
    "def avg(a, b=0, c=0, d=0):\n",
    "    return (a + b + c + d) / 4\n",
    "\n",
    "\n",
    "# понятно, что это неверно\n",
    "print(avg(2, 2))"
   ],
   "execution_count": null,
   "outputs": []
  },
  {
   "cell_type": "code",
   "metadata": {
    "colab": {
     "base_uri": "https://localhost:8080/"
    },
    "id": "ZRZ-TPLJUrNj",
    "outputId": "b6af402c-42af-4b7b-a13e-73f5bd7be19f",
    "pycharm": {
     "name": "#%%\n"
    }
   },
   "source": [
    "bool(0)"
   ],
   "execution_count": null,
   "outputs": []
  },
  {
   "cell_type": "code",
   "metadata": {
    "colab": {
     "base_uri": "https://localhost:8080/"
    },
    "id": "Y-0Sc4bOUtrL",
    "outputId": "6349ac09-1c67-4522-8f6c-f72524d7bfb9",
    "pycharm": {
     "name": "#%%\n"
    }
   },
   "source": [
    "bool(-1)"
   ],
   "execution_count": null,
   "outputs": []
  },
  {
   "cell_type": "code",
   "metadata": {
    "colab": {
     "base_uri": "https://localhost:8080/"
    },
    "id": "GmIHM7tBUvl0",
    "outputId": "e088006c-afb1-4d62-d284-384b80eb7f92",
    "pycharm": {
     "name": "#%%\n"
    }
   },
   "source": [
    "int(True)"
   ],
   "execution_count": null,
   "outputs": []
  },
  {
   "cell_type": "code",
   "metadata": {
    "colab": {
     "base_uri": "https://localhost:8080/"
    },
    "id": "KXuyytm4VLS7",
    "outputId": "c0729604-22ec-4de2-99db-e0d3906e4b84",
    "pycharm": {
     "name": "#%%\n"
    }
   },
   "source": [
    "int(10)"
   ],
   "execution_count": null,
   "outputs": []
  },
  {
   "cell_type": "code",
   "metadata": {
    "colab": {
     "base_uri": "https://localhost:8080/"
    },
    "id": "i4frIUUYVXq5",
    "outputId": "6ea77d52-94da-4cd8-d747-8b23919797e2",
    "pycharm": {
     "name": "#%%\n"
    }
   },
   "source": [
    "sum([int(bool(item)) for item in (1, 0, 0, 4)])\n",
    "\n",
    "int(bool(a))"
   ],
   "execution_count": null,
   "outputs": []
  },
  {
   "cell_type": "code",
   "metadata": {
    "colab": {
     "base_uri": "https://localhost:8080/"
    },
    "id": "iVRsXQnoUfBg",
    "outputId": "7fdac29e-7675-475e-eb91-03d76f8c8766",
    "pycharm": {
     "name": "#%%\n"
    }
   },
   "source": [
    "def avg(a, b=0, c=0, d=0, e=0):\n",
    "    denominator = sum([int(bool(item)) for item in (a, b, c, d, e)])\n",
    "    denominator = denominator or 1\n",
    "    return (a + b + c + d + e) / denominator\n",
    "\n",
    "\n",
    "avg(0, 1, 2)"
   ],
   "execution_count": null,
   "outputs": []
  },
  {
   "cell_type": "code",
   "metadata": {
    "id": "8QijQKjwU1ez",
    "pycharm": {
     "name": "#%%\n"
    }
   },
   "source": [],
   "execution_count": null,
   "outputs": []
  },
  {
   "cell_type": "markdown",
   "metadata": {
    "id": "v-4zUMZOfpFs",
    "pycharm": {
     "name": "#%% md\n"
    }
   },
   "source": [
    "Сейчас мы знаем, что могли бы решить это проблему просто передавая список"
   ]
  },
  {
   "cell_type": "code",
   "metadata": {
    "id": "oZNA3koNXDrj",
    "pycharm": {
     "name": "#%%\n"
    }
   },
   "source": [
    "def avg(inpt_list):\n",
    "    if inpt_list:\n",
    "        return sum(inpt_list) / len(inpt_list)"
   ],
   "execution_count": null,
   "outputs": []
  },
  {
   "cell_type": "code",
   "metadata": {
    "colab": {
     "base_uri": "https://localhost:8080/"
    },
    "id": "mb9t76zpXRRH",
    "outputId": "d778dcd6-cbfc-41e8-a3d6-d15fdb2fa42e",
    "pycharm": {
     "name": "#%%\n"
    }
   },
   "source": [
    "avg([1, 2])"
   ],
   "execution_count": null,
   "outputs": []
  },
  {
   "cell_type": "code",
   "metadata": {
    "id": "056dNd6IXUu0",
    "pycharm": {
     "name": "#%%\n"
    }
   },
   "source": [
    "avg([])"
   ],
   "execution_count": null,
   "outputs": []
  },
  {
   "cell_type": "code",
   "metadata": {
    "id": "vn7AfvE1fMIX",
    "pycharm": {
     "name": "#%%\n"
    }
   },
   "source": [
    "# написать код"
   ],
   "execution_count": null,
   "outputs": []
  },
  {
   "cell_type": "markdown",
   "metadata": {
    "id": "r4jYIW9-fzgo",
    "pycharm": {
     "name": "#%% md\n"
    }
   },
   "source": [
    "Но есть более элегантный способ. Упаковать все аргументы в кортеж, для этого мы воспользуемся звездочками"
   ]
  },
  {
   "cell_type": "code",
   "metadata": {
    "id": "ETTkwSdfgA9E",
    "colab": {
     "base_uri": "https://localhost:8080/"
    },
    "outputId": "c222a171-d244-437a-8a12-7fabe702cde5",
    "pycharm": {
     "name": "#%%\n"
    }
   },
   "source": [
    "def avg(*args):\n",
    "    print(args)\n",
    "    print(type(args), len(args))\n",
    "    if args:\n",
    "        return sum(args) / len(args)\n",
    "\n",
    "\n",
    "avg(2, 2, 5)"
   ],
   "execution_count": null,
   "outputs": []
  },
  {
   "cell_type": "code",
   "metadata": {
    "colab": {
     "base_uri": "https://localhost:8080/"
    },
    "id": "Bm7DqK7UYBes",
    "outputId": "9d05f5b0-2260-4bcf-aa0d-f1bb40b775b7",
    "pycharm": {
     "name": "#%%\n"
    }
   },
   "source": [
    "bool(())"
   ],
   "execution_count": null,
   "outputs": []
  },
  {
   "cell_type": "code",
   "metadata": {
    "id": "g753oLAKgs0q",
    "colab": {
     "base_uri": "https://localhost:8080/"
    },
    "outputId": "8f7437b4-7c99-4462-ea49-258e2927f1a5",
    "pycharm": {
     "name": "#%%\n"
    }
   },
   "source": [
    "print(avg())"
   ],
   "execution_count": null,
   "outputs": []
  },
  {
   "cell_type": "code",
   "metadata": {
    "colab": {
     "base_uri": "https://localhost:8080/",
     "height": 35
    },
    "id": "fbSTwRT1Y2CF",
    "outputId": "834e08bf-e765-4b44-f966-c080ab0ba490",
    "pycharm": {
     "name": "#%%\n"
    }
   },
   "source": [
    "'a' + 'b'"
   ],
   "execution_count": null,
   "outputs": []
  },
  {
   "cell_type": "code",
   "metadata": {
    "colab": {
     "base_uri": "https://localhost:8080/",
     "height": 35
    },
    "id": "5rYJ7uOAY4nn",
    "outputId": "479a3752-fb87-4cdb-8298-0a1d9fe0f727",
    "pycharm": {
     "name": "#%%\n"
    }
   },
   "source": [
    "'a' + '//' + 'b'"
   ],
   "execution_count": null,
   "outputs": []
  },
  {
   "cell_type": "code",
   "metadata": {
    "colab": {
     "base_uri": "https://localhost:8080/"
    },
    "id": "_J8aKNnSY7oy",
    "outputId": "2149ffd5-da12-4b18-9e73-670880943799",
    "pycharm": {
     "name": "#%%\n"
    }
   },
   "source": [
    "for i in (1, 2, 3):\n",
    "    print(i)"
   ],
   "execution_count": null,
   "outputs": []
  },
  {
   "cell_type": "code",
   "metadata": {
    "colab": {
     "base_uri": "https://localhost:8080/",
     "height": 35
    },
    "id": "yLvnsbwEZAW_",
    "outputId": "69feb27e-790f-4411-cb50-b685b377c735",
    "pycharm": {
     "name": "#%%\n"
    }
   },
   "source": [
    "';'.join(('a', 'b', 'b'))"
   ],
   "execution_count": null,
   "outputs": []
  },
  {
   "cell_type": "code",
   "metadata": {
    "id": "pTuxLGTxYRWX",
    "pycharm": {
     "name": "#%%\n"
    }
   },
   "source": [
    "def concat(*args):\n",
    "    # args - tuple of strs\n",
    "    # return: str - joined strs from args with separator = '//'\n",
    "    return '//'.join(args)"
   ],
   "execution_count": null,
   "outputs": []
  },
  {
   "cell_type": "code",
   "metadata": {
    "colab": {
     "base_uri": "https://localhost:8080/"
    },
    "id": "vmykrnKCaSi_",
    "outputId": "a23924c4-c8e9-4369-f5e6-d08b434a31b0",
    "pycharm": {
     "name": "#%%\n"
    }
   },
   "source": [
    "concat('str1', 'str2', 'str3') == 'str1//str2//str3'"
   ],
   "execution_count": null,
   "outputs": []
  },
  {
   "cell_type": "code",
   "metadata": {
    "id": "B4eRXW65aRPQ",
    "pycharm": {
     "name": "#%%\n"
    }
   },
   "source": [
    "tuple_strs = ('str1', 'str2', 'str3')"
   ],
   "execution_count": null,
   "outputs": []
  },
  {
   "cell_type": "code",
   "metadata": {
    "colab": {
     "base_uri": "https://localhost:8080/",
     "height": 35
    },
    "id": "YgALeMpCaUrS",
    "outputId": "1d3f6a39-eb81-470f-dfbc-11c0126b073d",
    "pycharm": {
     "name": "#%%\n"
    }
   },
   "source": [
    "concat(tuple_strs[0], tuple_strs[1], tuple_strs[2])"
   ],
   "execution_count": null,
   "outputs": []
  },
  {
   "cell_type": "code",
   "metadata": {
    "colab": {
     "base_uri": "https://localhost:8080/",
     "height": 35
    },
    "id": "hgRNXo9SaZ47",
    "outputId": "a7dc3baa-dc18-409a-b970-d72731d1a607",
    "pycharm": {
     "name": "#%%\n"
    }
   },
   "source": [
    "concat(*tuple_strs)"
   ],
   "execution_count": null,
   "outputs": []
  },
  {
   "cell_type": "code",
   "metadata": {
    "id": "brpjp5fzandz",
    "pycharm": {
     "name": "#%%\n"
    }
   },
   "source": [
    "# concat(tuple_strs[0], tuple_strs[1], tuple_strs[2])"
   ],
   "execution_count": null,
   "outputs": []
  },
  {
   "cell_type": "markdown",
   "metadata": {
    "id": "mpmyIloggtMj",
    "pycharm": {
     "name": "#%% md\n"
    }
   },
   "source": [
    "Мы умеем работать с неограниченными числом параметров, но как вызвать данную функцию, если у меня имеется готовый список?"
   ]
  },
  {
   "cell_type": "code",
   "metadata": {
    "id": "ccTj99_WgEl7",
    "pycharm": {
     "name": "#%%\n"
    }
   },
   "source": [
    "a = [2, 2, 5]\n",
    "avg(...)"
   ],
   "execution_count": null,
   "outputs": []
  },
  {
   "cell_type": "markdown",
   "metadata": {
    "id": "tmCK8rEthF3y",
    "pycharm": {
     "name": "#%% md\n"
    }
   },
   "source": [
    "То же самое для словарей, только словари обеспечивают нам keywords структуру."
   ]
  },
  {
   "cell_type": "code",
   "metadata": {
    "id": "bWf-e2Daa3Cs",
    "pycharm": {
     "name": "#%%\n"
    }
   },
   "source": [
    "config = {\n",
    "    'path': 'path/to/dir',\n",
    "}"
   ],
   "execution_count": null,
   "outputs": []
  },
  {
   "cell_type": "code",
   "metadata": {
    "id": "q0effRdVg9Qe",
    "colab": {
     "base_uri": "https://localhost:8080/"
    },
    "outputId": "82a009fa-4ae0-4011-8872-793406068e9f",
    "pycharm": {
     "name": "#%%\n"
    }
   },
   "source": [
    "def server(timeout, path):\n",
    "    print(f'timeour={timeout}')\n",
    "    print(f'path={path}')\n",
    "\n",
    "\n",
    "server(10, 'abc')"
   ],
   "execution_count": null,
   "outputs": []
  },
  {
   "cell_type": "code",
   "metadata": {
    "colab": {
     "base_uri": "https://localhost:8080/"
    },
    "id": "c-reg5mcbReS",
    "outputId": "448f573e-b60e-40b5-f134-013fc1a0662e",
    "pycharm": {
     "name": "#%%\n"
    }
   },
   "source": [
    "config['timeout']\n",
    "\n",
    "server(timeout=config['timeout'], path=config['path'])"
   ],
   "execution_count": null,
   "outputs": []
  },
  {
   "cell_type": "code",
   "metadata": {
    "colab": {
     "base_uri": "https://localhost:8080/",
     "height": 195
    },
    "id": "VGPGu4SzbaOA",
    "outputId": "bf2dbaa1-ac13-4835-98fc-f3e90842fcf4",
    "pycharm": {
     "name": "#%%\n"
    }
   },
   "source": [
    "# **var\n",
    "# key=value, key=value\n",
    "\n",
    "server(**config)\n",
    "# server(path='path/to/dir')"
   ],
   "execution_count": null,
   "outputs": []
  },
  {
   "cell_type": "markdown",
   "metadata": {
    "id": "26HxzpSwcogK",
    "pycharm": {
     "name": "#%% md\n"
    }
   },
   "source": [
    "```\n",
    "def register(obj):\n",
    "  if obj содержит атрибут:\n",
    "     поведение 1\n",
    "  else:\n",
    "     поведение 2\n",
    "```"
   ]
  },
  {
   "cell_type": "code",
   "metadata": {
    "colab": {
     "base_uri": "https://localhost:8080/"
    },
    "id": "3-8ruDi4cEDX",
    "outputId": "4cd40380-d9b5-4395-83f9-a2724c37004c",
    "pycharm": {
     "name": "#%%\n"
    }
   },
   "source": [
    "def register(**kwargs):\n",
    "    if 'skin' in kwargs.keys():\n",
    "        print('seems animal')\n",
    "    else:\n",
    "        print('else')\n",
    "\n",
    "\n",
    "register(a=1, b=2, skin='123')"
   ],
   "execution_count": null,
   "outputs": []
  },
  {
   "cell_type": "markdown",
   "metadata": {
    "id": "hyb6OJW2d3W4",
    "pycharm": {
     "name": "#%% md\n"
    }
   },
   "source": [
    "```\n",
    "Input:\n",
    "  {'a': 1, 'b': 2}\n",
    "Output:\n",
    "  {1: 'a', 2: 'b'}\n",
    "```"
   ]
  },
  {
   "cell_type": "code",
   "metadata": {
    "id": "om5R3Kb4driF",
    "pycharm": {
     "name": "#%%\n"
    }
   },
   "source": [
    "def swapper(**kwargs):\n",
    "    if not kwargs:\n",
    "        return\n",
    "    return dict([(value, key) for key, value in kwargs.items()])"
   ],
   "execution_count": null,
   "outputs": []
  },
  {
   "cell_type": "code",
   "metadata": {
    "colab": {
     "base_uri": "https://localhost:8080/"
    },
    "id": "WhPg7RUAdrfL",
    "outputId": "de1b4b9f-0958-44bf-8c19-8c2950149cf3",
    "pycharm": {
     "name": "#%%\n"
    }
   },
   "source": [
    "print(swapper(a=1, b=2, c=3))\n",
    "print(swapper(b=2, tt='abc'))\n",
    "print(swapper(a=True, b=12, oo=11, bb=11))"
   ],
   "execution_count": null,
   "outputs": []
  },
  {
   "cell_type": "markdown",
   "metadata": {
    "id": "qcHMgastiDR7",
    "pycharm": {
     "name": "#%% md\n"
    }
   },
   "source": [
    "Если хотим смешать два типа параметров, необходимо помнить, что позиционные (а `args` именное позиционные) агрументы идут перед ключ-значение параметрами"
   ]
  },
  {
   "cell_type": "code",
   "metadata": {
    "id": "QxPWQTdbh20K",
    "colab": {
     "base_uri": "https://localhost:8080/",
     "height": 128
    },
    "outputId": "1d9e57da-e605-4be0-811d-1d2522f7b53e",
    "pycharm": {
     "name": "#%%\n"
    }
   },
   "source": [
    "# код\n",
    "def foo(**b, *a):\n",
    "    print(a)\n",
    "    print(b)\n",
    "\n",
    "\n",
    "foo(b=1, 1, 1)"
   ],
   "execution_count": null,
   "outputs": []
  },
  {
   "cell_type": "markdown",
   "metadata": {
    "id": "9oVXVwo_ig2V",
    "pycharm": {
     "name": "#%% md\n"
    }
   },
   "source": [
    "## Комментарии\n",
    "\n",
    "Когда первая инструкция в теле функции Python является строковым литералом, она называется строкой документации функции. Строка документации используется для предоставления документации для функции. Он может содержать назначение функции, аргументы, которые она принимает, информацию о возвращаемых значениях или любую другую информацию, которая, по вашему мнению, будет полезной."
   ]
  },
  {
   "cell_type": "code",
   "metadata": {
    "id": "i6EPHiXRigOz",
    "pycharm": {
     "name": "#%%\n"
    }
   },
   "source": [
    "def foo(a, b):\n",
    "    '''\n",
    "      a: int - first integer\n",
    "      b: int - second integer\n",
    "    '''\n",
    "    return a + b"
   ],
   "execution_count": null,
   "outputs": []
  },
  {
   "cell_type": "markdown",
   "metadata": {
    "id": "76w-NTmYjKHU",
    "pycharm": {
     "name": "#%% md\n"
    }
   },
   "source": [
    "## Аннотации"
   ]
  },
  {
   "cell_type": "code",
   "metadata": {
    "id": "7qYHEwAGjMBk",
    "pycharm": {
     "name": "#%%\n"
    }
   },
   "source": [],
   "execution_count": null,
   "outputs": []
  },
  {
   "cell_type": "markdown",
   "metadata": {
    "id": "X7cAMZYZjbyR",
    "pycharm": {
     "name": "#%% md\n"
    }
   },
   "source": [
    "https://realpython.com/defining-your-own-python-function/"
   ]
  },
  {
   "cell_type": "code",
   "metadata": {
    "id": "5RGt0-w6QM1K",
    "pycharm": {
     "name": "#%%\n"
    }
   },
   "source": [],
   "execution_count": null,
   "outputs": []
  },
  {
   "cell_type": "code",
   "metadata": {
    "id": "ZqBWSOrDUBbs",
    "pycharm": {
     "name": "#%%\n"
    }
   },
   "source": [],
   "execution_count": null,
   "outputs": []
  }
 ]
}