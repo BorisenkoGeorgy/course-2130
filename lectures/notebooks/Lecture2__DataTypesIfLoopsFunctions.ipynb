{
 "nbformat": 4,
 "nbformat_minor": 0,
 "metadata": {
  "colab": {
   "provenance": [],
   "collapsed_sections": [],
   "toc_visible": true
  },
  "kernelspec": {
   "name": "python3",
   "display_name": "Python 3"
  },
  "language_info": {
   "name": "python"
  }
 },
 "cells": [
  {
   "cell_type": "markdown",
   "metadata": {
    "id": "puSSGdn0EFGb",
    "pycharm": {
     "name": "#%% md\n"
    }
   },
   "source": [
    "# Типы данных\n",
    "\n",
    "1. Последовательности\n",
    "2. Словари"
   ]
  },
  {
   "cell_type": "markdown",
   "metadata": {
    "id": "yQ11ZWFxEtIX",
    "pycharm": {
     "name": "#%% md\n"
    }
   },
   "source": [
    "## Последовательности\n",
    "\n",
    "\n",
    "1. list - содержат последовательность любых элементов, элементы располагаются в той последовательности, в которой были добавлены. Доступ осуществляется по индексу. Формальнее, списки - это изменяемые последовательности, обычно используемые для хранения коллекций однородных элементов (где точная степень сходства зависит от приложения).\n",
    "2. tuple - практически ничем не отличаются от списков, кроме того, что являются неизменяемыми. Кортежи - это неизменяемые последовательности, обычно используемые для хранения коллекций разнородных данных (например, двухкортежных кортежей, созданных встроенной функцией enumerate()). Кортежи также используются в случаях, когда требуется неизменная последовательность однородных данных (например, разрешение хранения в экземпляре set или dict).\n",
    "3. range - вынесены в отдельный тип, неизменяемая последовательность, обычно используемая для циклов. Тип диапазона представляет собой неизменяемую последовательность чисел и обычно используется для выполнения цикла for определенное количество раз.\n",
    "\n",
    "**TLDR**\\\n",
    "list - можно менять, tuple - нельзя, range - генератор последовательностей\n",
    "\n"
   ]
  },
  {
   "cell_type": "markdown",
   "metadata": {
    "id": "QBU7EIUGGJse",
    "pycharm": {
     "name": "#%% md\n"
    }
   },
   "source": [
    "***\n",
    "Типичные операции над последовательностями\n",
    "***\n",
    "<table class=\"docutils align-default\" id=\"index-19\">\n",
    "<colgroup>\n",
    "<col style=\"width: 38%\">\n",
    "<col style=\"width: 47%\">\n",
    "<col style=\"width: 15%\">\n",
    "</colgroup>\n",
    "<thead>\n",
    "<tr class=\"row-odd\"><th class=\"head\"><p>Operation</p></th>\n",
    "<th class=\"head\"><p>Result</p></th>\n",
    "<th class=\"head\"><p>Notes</p></th>\n",
    "</tr>\n",
    "</thead>\n",
    "<tbody>\n",
    "<tr class=\"row-even\"><td><p><code class=\"docutils literal notranslate\"><span class=\"pre\">x</span> <span class=\"pre\">in</span> <span class=\"pre\">s</span></code></p></td>\n",
    "<td><p><code class=\"docutils literal notranslate\"><span class=\"pre\">True</span></code> if an item of <em>s</em> is\n",
    "equal to <em>x</em>, else <code class=\"docutils literal notranslate\"><span class=\"pre\">False</span></code></p></td>\n",
    "<td><p>(1)</p></td>\n",
    "</tr>\n",
    "<tr class=\"row-odd\"><td><p><code class=\"docutils literal notranslate\"><span class=\"pre\">x</span> <span class=\"pre\">not</span> <span class=\"pre\">in</span> <span class=\"pre\">s</span></code></p></td>\n",
    "<td><p><code class=\"docutils literal notranslate\"><span class=\"pre\">False</span></code> if an item of <em>s</em> is\n",
    "equal to <em>x</em>, else <code class=\"docutils literal notranslate\"><span class=\"pre\">True</span></code></p></td>\n",
    "<td><p>(1)</p></td>\n",
    "</tr>\n",
    "<tr class=\"row-even\"><td><p><code class=\"docutils literal notranslate\"><span class=\"pre\">s</span> <span class=\"pre\">+</span> <span class=\"pre\">t</span></code></p></td>\n",
    "<td><p>the concatenation of <em>s</em> and\n",
    "<em>t</em></p></td>\n",
    "<td><p>(6)(7)</p></td>\n",
    "</tr>\n",
    "<tr class=\"row-odd\"><td><p><code class=\"docutils literal notranslate\"><span class=\"pre\">s</span> <span class=\"pre\">*</span> <span class=\"pre\">n</span></code> or\n",
    "<code class=\"docutils literal notranslate\"><span class=\"pre\">n</span> <span class=\"pre\">*</span> <span class=\"pre\">s</span></code></p></td>\n",
    "<td><p>equivalent to adding <em>s</em> to\n",
    "itself <em>n</em> times</p></td>\n",
    "<td><p>(2)(7)</p></td>\n",
    "</tr>\n",
    "<tr class=\"row-even\"><td><p><code class=\"docutils literal notranslate\"><span class=\"pre\">s[i]</span></code></p></td>\n",
    "<td><p><em>i</em>th item of <em>s</em>, origin 0</p></td>\n",
    "<td><p>(3)</p></td>\n",
    "</tr>\n",
    "<tr class=\"row-odd\"><td><p><code class=\"docutils literal notranslate\"><span class=\"pre\">s[i:j]</span></code></p></td>\n",
    "<td><p>slice of <em>s</em> from <em>i</em> to <em>j</em></p></td>\n",
    "<td><p>(3)(4)</p></td>\n",
    "</tr>\n",
    "<tr class=\"row-even\"><td><p><code class=\"docutils literal notranslate\"><span class=\"pre\">s[i:j:k]</span></code></p></td>\n",
    "<td><p>slice of <em>s</em> from <em>i</em> to <em>j</em>\n",
    "with step <em>k</em></p></td>\n",
    "<td><p>(3)(5)</p></td>\n",
    "</tr>\n",
    "<tr class=\"row-odd\"><td><p><code class=\"docutils literal notranslate\"><span class=\"pre\">len(s)</span></code></p></td>\n",
    "<td><p>length of <em>s</em></p></td>\n",
    "<td></td>\n",
    "</tr>\n",
    "<tr class=\"row-even\"><td><p><code class=\"docutils literal notranslate\"><span class=\"pre\">min(s)</span></code></p></td>\n",
    "<td><p>smallest item of <em>s</em></p></td>\n",
    "<td></td>\n",
    "</tr>\n",
    "<tr class=\"row-odd\"><td><p><code class=\"docutils literal notranslate\"><span class=\"pre\">max(s)</span></code></p></td>\n",
    "<td><p>largest item of <em>s</em></p></td>\n",
    "<td></td>\n",
    "</tr>\n",
    "<tr class=\"row-even\"><td><p><code class=\"docutils literal notranslate\"><span class=\"pre\">s.index(x[,</span> <span class=\"pre\">i[,</span> <span class=\"pre\">j]])</span></code></p></td>\n",
    "<td><p>index of the first occurrence\n",
    "of <em>x</em> in <em>s</em> (at or after\n",
    "index <em>i</em> and before index <em>j</em>)</p></td>\n",
    "<td><p>(8)</p></td>\n",
    "</tr>\n",
    "<tr class=\"row-odd\"><td><p><code class=\"docutils literal notranslate\"><span class=\"pre\">s.count(x)</span></code></p></td>\n",
    "<td><p>total number of occurrences of\n",
    "<em>x</em> in <em>s</em></p></td>\n",
    "<td></td>\n",
    "</tr>\n",
    "</tbody>\n",
    "</table>"
   ]
  },
  {
   "cell_type": "code",
   "execution_count": null,
   "outputs": [],
   "source": [
    "a = [1]\n",
    "b = [2]\n",
    "c = [1] + [2]\n",
    "a, b, c"
   ],
   "metadata": {
    "collapsed": false,
    "pycharm": {
     "name": "#%%\n"
    }
   }
  },
  {
   "cell_type": "code",
   "metadata": {
    "colab": {
     "base_uri": "https://localhost:8080/"
    },
    "id": "YQLI5s1LTpX8",
    "outputId": "dc81e64c-701d-4d59-9efe-d34e21767a7b",
    "pycharm": {
     "name": "#%%\n"
    }
   },
   "source": [
    "my_list = ['a', 'b', 'c', 'd'] + ['e']\n",
    "'a' in my_list"
   ],
   "execution_count": null,
   "outputs": []
  },
  {
   "cell_type": "code",
   "metadata": {
    "colab": {
     "base_uri": "https://localhost:8080/"
    },
    "id": "145TxdCQUD6L",
    "outputId": "deaea53e-cdfa-4ed0-8b9c-3891c84477f1",
    "pycharm": {
     "name": "#%%\n"
    }
   },
   "source": [
    "l2 = ['a', 'ab', 'ac', 'd']\n",
    "# 0    1    2    3\n",
    "# 1\n",
    "# 1 + 2\n",
    "# 3 + 2 < 4 <>"
   ],
   "execution_count": null,
   "outputs": []
  },
  {
   "cell_type": "code",
   "execution_count": null,
   "outputs": [],
   "source": [
    "for i, item in enumerate(l2):\n",
    "    print(i, item)"
   ],
   "metadata": {
    "collapsed": false,
    "pycharm": {
     "name": "#%%\n"
    }
   }
  },
  {
   "cell_type": "code",
   "execution_count": null,
   "outputs": [],
   "source": [
    "[]"
   ],
   "metadata": {
    "collapsed": false,
    "pycharm": {
     "name": "#%%\n"
    }
   }
  },
  {
   "cell_type": "code",
   "execution_count": null,
   "outputs": [],
   "source": [
    "[item for item in l2 if item.startswith(\"a\")]"
   ],
   "metadata": {
    "collapsed": false,
    "pycharm": {
     "name": "#%%\n"
    }
   }
  },
  {
   "cell_type": "code",
   "execution_count": null,
   "outputs": [],
   "source": [
    "[\"b\", \"b\"].index(\"a\")"
   ],
   "metadata": {
    "collapsed": false,
    "pycharm": {
     "name": "#%%\n"
    }
   }
  },
  {
   "cell_type": "code",
   "metadata": {
    "colab": {
     "base_uri": "https://localhost:8080/"
    },
    "id": "L6vVf6yWUSwi",
    "outputId": "04ee9173-128b-4f5d-fc39-e98e0e22e124",
    "pycharm": {
     "name": "#%%\n"
    }
   },
   "source": [
    "[[], []] * 8"
   ],
   "execution_count": null,
   "outputs": []
  },
  {
   "cell_type": "code",
   "execution_count": null,
   "outputs": [],
   "source": [
    "# ['a', 'ab', 'ac', 'd']\n",
    "#  -4    -3    -2   -1"
   ],
   "metadata": {
    "collapsed": false,
    "pycharm": {
     "name": "#%%\n"
    }
   }
  },
  {
   "cell_type": "code",
   "execution_count": null,
   "outputs": [],
   "source": [
    "l2[-1:-4:-1]"
   ],
   "metadata": {
    "collapsed": false,
    "pycharm": {
     "name": "#%%\n"
    }
   }
  },
  {
   "cell_type": "code",
   "execution_count": null,
   "outputs": [],
   "source": [
    "my_list[-1:-4:-1]"
   ],
   "metadata": {
    "collapsed": false,
    "pycharm": {
     "name": "#%%\n"
    }
   }
  },
  {
   "cell_type": "markdown",
   "source": [
    "<img src=\"https://files.realpython.com/media/t.c11ea56e8ca2.png\">"
   ],
   "metadata": {
    "collapsed": false,
    "pycharm": {
     "name": "#%% md\n"
    }
   }
  },
  {
   "cell_type": "markdown",
   "metadata": {
    "id": "xUX-QFJVEx4B",
    "pycharm": {
     "name": "#%% md\n"
    }
   },
   "source": [
    "### List"
   ]
  },
  {
   "cell_type": "markdown",
   "metadata": {
    "id": "D6PS4auOGcT2",
    "pycharm": {
     "name": "#%% md\n"
    }
   },
   "source": [
    "***\n",
    "Типичные операции для изменяемых объектов\n",
    "***\n",
    "\n",
    "<table class=\"docutils align-default\" id=\"index-22\">\n",
    "<colgroup>\n",
    "<col style=\"width: 36%\">\n",
    "<col style=\"width: 39%\">\n",
    "<col style=\"width: 25%\">\n",
    "</colgroup>\n",
    "<thead>\n",
    "<tr class=\"row-odd\"><th class=\"head\"><p>Operation</p></th>\n",
    "<th class=\"head\"><p>Result</p></th>\n",
    "<th class=\"head\"><p>Notes</p></th>\n",
    "</tr>\n",
    "</thead>\n",
    "<tbody>\n",
    "<tr class=\"row-even\"><td><p><code class=\"docutils literal notranslate\"><span class=\"pre\">s[i]</span> <span class=\"pre\">=</span> <span class=\"pre\">x</span></code></p></td>\n",
    "<td><p>item <em>i</em> of <em>s</em> is replaced by\n",
    "<em>x</em></p></td>\n",
    "<td></td>\n",
    "</tr>\n",
    "<tr class=\"row-odd\"><td><p><code class=\"docutils literal notranslate\"><span class=\"pre\">s[i:j]</span> <span class=\"pre\">=</span> <span class=\"pre\">t</span></code></p></td>\n",
    "<td><p>slice of <em>s</em> from <em>i</em> to <em>j</em>\n",
    "is replaced by the contents of\n",
    "the iterable <em>t</em></p></td>\n",
    "<td></td>\n",
    "</tr>\n",
    "<tr class=\"row-even\"><td><p><code class=\"docutils literal notranslate\"><span class=\"pre\">del</span> <span class=\"pre\">s[i:j]</span></code></p></td>\n",
    "<td><p>same as <code class=\"docutils literal notranslate\"><span class=\"pre\">s[i:j]</span> <span class=\"pre\">=</span> <span class=\"pre\">[]</span></code></p></td>\n",
    "<td></td>\n",
    "</tr>\n",
    "<tr class=\"row-odd\"><td><p><code class=\"docutils literal notranslate\"><span class=\"pre\">s[i:j:k]</span> <span class=\"pre\">=</span> <span class=\"pre\">t</span></code></p></td>\n",
    "<td><p>the elements of <code class=\"docutils literal notranslate\"><span class=\"pre\">s[i:j:k]</span></code>\n",
    "are replaced by those of <em>t</em></p></td>\n",
    "<td><p>(1)</p></td>\n",
    "</tr>\n",
    "<tr class=\"row-even\"><td><p><code class=\"docutils literal notranslate\"><span class=\"pre\">del</span> <span class=\"pre\">s[i:j:k]</span></code></p></td>\n",
    "<td><p>removes the elements of\n",
    "<code class=\"docutils literal notranslate\"><span class=\"pre\">s[i:j:k]</span></code> from the list</p></td>\n",
    "<td></td>\n",
    "</tr>\n",
    "<tr class=\"row-odd\"><td><p><code class=\"docutils literal notranslate\"><span class=\"pre\">s.append(x)</span></code></p></td>\n",
    "<td><p>appends <em>x</em> to the end of the\n",
    "sequence (same as\n",
    "<code class=\"docutils literal notranslate\"><span class=\"pre\">s[len(s):len(s)]</span> <span class=\"pre\">=</span> <span class=\"pre\">[x]</span></code>)</p></td>\n",
    "<td></td>\n",
    "</tr>\n",
    "<tr class=\"row-even\"><td><p><code class=\"docutils literal notranslate\"><span class=\"pre\">s.clear()</span></code></p></td>\n",
    "<td><p>removes all items from <em>s</em>\n",
    "(same as <code class=\"docutils literal notranslate\"><span class=\"pre\">del</span> <span class=\"pre\">s[:]</span></code>)</p></td>\n",
    "<td><p>(5)</p></td>\n",
    "</tr>\n",
    "<tr class=\"row-odd\"><td><p><code class=\"docutils literal notranslate\"><span class=\"pre\">s.copy()</span></code></p></td>\n",
    "<td><p>creates a shallow copy of <em>s</em>\n",
    "(same as <code class=\"docutils literal notranslate\"><span class=\"pre\">s[:]</span></code>)</p></td>\n",
    "<td><p>(5)</p></td>\n",
    "</tr>\n",
    "<tr class=\"row-even\"><td><p><code class=\"docutils literal notranslate\"><span class=\"pre\">s.extend(t)</span></code> or\n",
    "<code class=\"docutils literal notranslate\"><span class=\"pre\">s</span> <span class=\"pre\">+=</span> <span class=\"pre\">t</span></code></p></td>\n",
    "<td><p>extends <em>s</em> with the\n",
    "contents of <em>t</em> (for the\n",
    "most part the same as\n",
    "<code class=\"docutils literal notranslate\"><span class=\"pre\">s[len(s):len(s)]</span> <span class=\"pre\">=</span> <span class=\"pre\">t</span></code>)</p></td>\n",
    "<td></td>\n",
    "</tr>\n",
    "<tr class=\"row-odd\"><td><p><code class=\"docutils literal notranslate\"><span class=\"pre\">s</span> <span class=\"pre\">*=</span> <span class=\"pre\">n</span></code></p></td>\n",
    "<td><p>updates <em>s</em> with its contents\n",
    "repeated <em>n</em> times</p></td>\n",
    "<td><p>(6)</p></td>\n",
    "</tr>\n",
    "<tr class=\"row-even\"><td><p><code class=\"docutils literal notranslate\"><span class=\"pre\">s.insert(i,</span> <span class=\"pre\">x)</span></code></p></td>\n",
    "<td><p>inserts <em>x</em> into <em>s</em> at the\n",
    "index given by <em>i</em>\n",
    "(same as <code class=\"docutils literal notranslate\"><span class=\"pre\">s[i:i]</span> <span class=\"pre\">=</span> <span class=\"pre\">[x]</span></code>)</p></td>\n",
    "<td></td>\n",
    "</tr>\n",
    "<tr class=\"row-odd\"><td><p><code class=\"docutils literal notranslate\"><span class=\"pre\">s.pop()</span></code> or <code class=\"docutils literal notranslate\"><span class=\"pre\">s.pop(i)</span></code></p></td>\n",
    "<td><p>retrieves the item at <em>i</em> and\n",
    "also removes it from <em>s</em></p></td>\n",
    "<td><p>(2)</p></td>\n",
    "</tr>\n",
    "<tr class=\"row-even\"><td><p><code class=\"docutils literal notranslate\"><span class=\"pre\">s.remove(x)</span></code></p></td>\n",
    "<td><p>remove the first item from <em>s</em>\n",
    "where <code class=\"docutils literal notranslate\"><span class=\"pre\">s[i]</span></code> is equal to <em>x</em></p></td>\n",
    "<td><p>(3)</p></td>\n",
    "</tr>\n",
    "<tr class=\"row-odd\"><td><p><code class=\"docutils literal notranslate\"><span class=\"pre\">s.reverse()</span></code></p></td>\n",
    "<td><p>reverses the items of <em>s</em> in\n",
    "place</p></td>\n",
    "<td><p>(4)</p></td>\n",
    "</tr>\n",
    "</tbody>\n",
    "</table>"
   ]
  },
  {
   "cell_type": "code",
   "metadata": {
    "id": "5Ztx6SM6GboS",
    "colab": {
     "base_uri": "https://localhost:8080/"
    },
    "outputId": "b6d43f85-8c28-46ad-d173-b2369db794d6",
    "pycharm": {
     "name": "#%%\n"
    }
   },
   "source": [
    "fruits = ['apple', 'banana', 'peach', 'pear']\n",
    "print(f'my fruits basket contains: {fruits}')"
   ],
   "execution_count": null,
   "outputs": []
  },
  {
   "cell_type": "code",
   "execution_count": null,
   "outputs": [],
   "source": [
    "a = [\"1\", \"2\", \"3\"]\n",
    "a[0] = \"2\""
   ],
   "metadata": {
    "collapsed": false,
    "pycharm": {
     "name": "#%%\n"
    }
   }
  },
  {
   "cell_type": "code",
   "execution_count": null,
   "outputs": [],
   "source": [
    "a"
   ],
   "metadata": {
    "collapsed": false,
    "pycharm": {
     "name": "#%%\n"
    }
   }
  },
  {
   "cell_type": "code",
   "metadata": {
    "id": "k5zj9Jg-VMYU",
    "pycharm": {
     "name": "#%%\n"
    }
   },
   "source": [
    "fruits_reversed = fruits.reverse()"
   ],
   "execution_count": null,
   "outputs": []
  },
  {
   "cell_type": "code",
   "execution_count": null,
   "outputs": [],
   "source": [
    "print(id(fruits), id(fruits_reversed))"
   ],
   "metadata": {
    "collapsed": false,
    "pycharm": {
     "name": "#%%\n"
    }
   }
  },
  {
   "cell_type": "code",
   "metadata": {
    "colab": {
     "base_uri": "https://localhost:8080/"
    },
    "id": "RAAFYZEsVRTI",
    "outputId": "10de63c6-f40b-4d73-a55c-faddb3cc1fc7",
    "pycharm": {
     "name": "#%%\n"
    }
   },
   "source": [
    "print(fruits)"
   ],
   "execution_count": null,
   "outputs": []
  },
  {
   "cell_type": "code",
   "metadata": {
    "id": "-aFM4inwVZKg",
    "pycharm": {
     "name": "#%%\n"
    }
   },
   "source": [
    "fruits.remove('apple')"
   ],
   "execution_count": null,
   "outputs": []
  },
  {
   "cell_type": "code",
   "metadata": {
    "colab": {
     "base_uri": "https://localhost:8080/"
    },
    "id": "xlqX2cteVedE",
    "outputId": "ae3c16b2-72a2-4510-d20e-aac2ffb2d8fe",
    "pycharm": {
     "name": "#%%\n"
    }
   },
   "source": [
    "fruits"
   ],
   "execution_count": null,
   "outputs": []
  },
  {
   "cell_type": "code",
   "metadata": {
    "id": "vSPVZMM54yfE",
    "pycharm": {
     "name": "#%%\n"
    }
   },
   "source": [
    "# список может содержать элементы разных типов\n",
    "objects = [1, 'Ilya', -100.5, False]"
   ],
   "execution_count": null,
   "outputs": []
  },
  {
   "cell_type": "code",
   "metadata": {
    "colab": {
     "base_uri": "https://localhost:8080/"
    },
    "id": "qoMP8O-I5K05",
    "outputId": "d712aab6-f7dd-4578-8262-3d26dfb15ad5",
    "pycharm": {
     "name": "#%%\n"
    }
   },
   "source": [
    "# используя таблицу выше, воспользуемся некоторыми операциями над последовательностями\n",
    "# дублируем элементы 2 раза\n",
    "fruits * 2"
   ],
   "execution_count": null,
   "outputs": []
  },
  {
   "cell_type": "code",
   "metadata": {
    "id": "fiGjrgYyVx_d",
    "pycharm": {
     "name": "#%%\n"
    }
   },
   "source": [
    "s = [1, 2]\n",
    "s[0] *= 2\n",
    "s[1] *= 2"
   ],
   "execution_count": null,
   "outputs": []
  },
  {
   "cell_type": "code",
   "metadata": {
    "colab": {
     "base_uri": "https://localhost:8080/"
    },
    "id": "sjWB4W88V88K",
    "outputId": "2be61a3b-2ebf-42d6-8c34-b571d34ac2ca",
    "pycharm": {
     "name": "#%%\n"
    }
   },
   "source": [
    "s"
   ],
   "execution_count": null,
   "outputs": []
  },
  {
   "cell_type": "code",
   "metadata": {
    "colab": {
     "base_uri": "https://localhost:8080/"
    },
    "id": "_I2UUaYx5k1f",
    "outputId": "125bad82-2c78-4f61-e78e-89de397e6912",
    "pycharm": {
     "name": "#%%\n"
    }
   },
   "source": [
    "fruits.append('pineapple')\n",
    "# данный метод не возвращает ничего, напечатаем список\n",
    "fruits"
   ],
   "execution_count": null,
   "outputs": []
  },
  {
   "cell_type": "markdown",
   "metadata": {
    "id": "QA6g2dO06Diu",
    "pycharm": {
     "name": "#%% md\n"
    }
   },
   "source": [
    "Для того чтобы разобраться, какие методы существуют для списков, загляните в официальную документацию, если не поможет, то stackoverflow\n",
    "\n",
    "[ВАМ СЮДА](https://docs.python.org/3/tutorial/datastructures.html)\n",
    "\n",
    "---\n",
    "Поговорим о том, что список является изменяемым типом данных, и разберемся, как работают ссылки для списка. На самом деле вы уже знаете один неизменямый тип данных, это строки, если вы попробуете сделать\n",
    "```\n",
    ">'string'[1] = 10\n",
    ">TypeError: 'str' object does not support item assignment\n",
    "```\n",
    "Это означает, что уже созданная строка не может быть изменена. В отличие от строк списки изменяемы, т.е. любой элемент может быть перезаписан новым значением.\n",
    "```\n",
    ">[1, 2, 3, 4][0] = True\n",
    "```\n",
    "\n",
    "**Все типы в конце урока**"
   ]
  },
  {
   "cell_type": "code",
   "metadata": {
    "colab": {
     "base_uri": "https://localhost:8080/",
     "height": 158
    },
    "id": "ZEBYfc1-WfNC",
    "outputId": "b783e7d3-88d0-4be5-9e3d-8ae2f7f5e77f",
    "pycharm": {
     "name": "#%%\n"
    }
   },
   "source": [
    "'qwe'[1] = 'x'"
   ],
   "execution_count": null,
   "outputs": []
  },
  {
   "cell_type": "code",
   "metadata": {
    "id": "N7TS42wlWnM3",
    "pycharm": {
     "name": "#%%\n"
    }
   },
   "source": [
    "a = \"qwe\"\n",
    "a = a.replace('w', 'x')\n",
    "print(a)"
   ],
   "execution_count": null,
   "outputs": []
  },
  {
   "cell_type": "code",
   "execution_count": null,
   "outputs": [],
   "source": [
    "[1].append(1)"
   ],
   "metadata": {
    "collapsed": false,
    "pycharm": {
     "name": "#%%\n"
    }
   }
  },
  {
   "cell_type": "code",
   "metadata": {
    "id": "4mM5RwRX5sLk",
    "pycharm": {
     "name": "#%%\n"
    }
   },
   "source": [
    "'string'[1] = 10"
   ],
   "execution_count": null,
   "outputs": []
  },
  {
   "cell_type": "code",
   "metadata": {
    "id": "0Q6pZn2U8kA4",
    "pycharm": {
     "name": "#%%\n"
    }
   },
   "source": [
    "a = [1, 2, 3, 4]\n",
    "a[0] = True\n",
    "a"
   ],
   "execution_count": null,
   "outputs": []
  },
  {
   "cell_type": "code",
   "metadata": {
    "id": "fhLrbxeLB0JY",
    "pycharm": {
     "name": "#%%\n"
    }
   },
   "source": [
    "# Вы можете выделять подпоследовательность из списка (новый список)\n",
    "\n",
    "a[1:3]  # левая граница включается, правая нет"
   ],
   "execution_count": null,
   "outputs": []
  },
  {
   "cell_type": "code",
   "metadata": {
    "colab": {
     "base_uri": "https://localhost:8080/"
    },
    "id": "U3uy72kmXAzV",
    "outputId": "5cdc0601-dd0a-480b-eeca-d04d147cd1c7",
    "pycharm": {
     "name": "#%%\n"
    }
   },
   "source": [
    "list(range(10))"
   ],
   "execution_count": null,
   "outputs": []
  },
  {
   "cell_type": "code",
   "metadata": {
    "colab": {
     "base_uri": "https://localhost:8080/"
    },
    "id": "8gJT17wDCQbg",
    "outputId": "7bc417a9-a23a-4d46-99c6-c72ba405038e",
    "pycharm": {
     "name": "#%%\n"
    }
   },
   "source": [
    "# возьмем список побольше\n",
    "\n",
    "a = list(range(100))\n",
    "print(f'a[10:70:10]={a[10:70:10]}')\n",
    "print(f'a[::10]={a[::10]}')"
   ],
   "execution_count": null,
   "outputs": []
  },
  {
   "cell_type": "code",
   "metadata": {
    "colab": {
     "base_uri": "https://localhost:8080/"
    },
    "id": "76zG3_ztX41d",
    "outputId": "f5555886-a6fc-4f87-f822-29d2d93dad09",
    "pycharm": {
     "name": "#%%\n"
    }
   },
   "source": [
    "[1, 2, 3][::-2]"
   ],
   "execution_count": null,
   "outputs": []
  },
  {
   "cell_type": "code",
   "metadata": {
    "colab": {
     "base_uri": "https://localhost:8080/"
    },
    "id": "WQBF1qu8CwlC",
    "outputId": "b254b249-edc0-4de8-c8a7-66927df0b96d",
    "pycharm": {
     "name": "#%%\n"
    }
   },
   "source": [
    "print(f'a[::-10]={a[::-10]}')"
   ],
   "execution_count": null,
   "outputs": []
  },
  {
   "cell_type": "code",
   "metadata": {
    "colab": {
     "base_uri": "https://localhost:8080/"
    },
    "id": "OyeG6uV9C_VY",
    "outputId": "b46bddbf-19d7-4355-9936-1ad1aa3c2f1a",
    "pycharm": {
     "name": "#%%\n"
    }
   },
   "source": [
    "# самый простой способ инвертировать список\n",
    "print(list(range(10))[::-1])"
   ],
   "execution_count": null,
   "outputs": []
  },
  {
   "cell_type": "markdown",
   "metadata": {
    "id": "Y_VPP3fKExrc",
    "pycharm": {
     "name": "#%% md\n"
    }
   },
   "source": [
    "### Tuple\n",
    "\n",
    "По факту кортеж (он же tuple) - это неизменяемый список. Элементы кортежа перечисляются через запятую (или в круглых скобках).\n",
    "\n",
    "Важно запомнить главное отличие\n",
    "```\n",
    ">a = ('s')\n",
    ">a\n",
    ">'s'  # т.е. вы создали строку, но не кортеж, правильно будет\n",
    ">a = ('s', )\n",
    "``` \n",
    "\n",
    "Также кортежем являются элементы, перечисленные через запятую\n",
    "```\n",
    ">a = 1, 2, 3\n",
    ">print(type(a))\n",
    "><class 'tuple'>\n",
    "```\n",
    "\n",
    "Опять же реверсивная операция присвоения так же работает для множества переменных\n",
    "```\n",
    ">t = 1, 2, 3\n",
    ">a, b, c = t\n",
    ">print(a, b, c)\n",
    "```"
   ]
  },
  {
   "cell_type": "code",
   "metadata": {
    "id": "RRgNMuRmGq3J",
    "pycharm": {
     "name": "#%%\n"
    }
   },
   "source": [
    "a = 1,\n",
    "b = 1, 2, 3\n",
    "c = (1, 2, '3')"
   ],
   "execution_count": null,
   "outputs": []
  },
  {
   "cell_type": "code",
   "metadata": {
    "id": "lQuEXv4yZfc8",
    "pycharm": {
     "name": "#%%\n"
    }
   },
   "source": [
    "print(a, b, c, type(a))"
   ],
   "execution_count": null,
   "outputs": []
  },
  {
   "cell_type": "code",
   "metadata": {
    "colab": {
     "base_uri": "https://localhost:8080/"
    },
    "id": "xj9tqCQRjw4c",
    "outputId": "036de3f5-02b4-4bfd-99ac-5ef1e21bd407",
    "pycharm": {
     "name": "#%%\n"
    }
   },
   "source": [
    "print(type(a))"
   ],
   "execution_count": null,
   "outputs": []
  },
  {
   "cell_type": "code",
   "metadata": {
    "colab": {
     "base_uri": "https://localhost:8080/",
     "height": 158
    },
    "id": "JTksiZDhY23h",
    "outputId": "8c246b14-72c0-462a-dc25-b7c6eb3901dd",
    "pycharm": {
     "name": "#%%\n"
    }
   },
   "source": [
    "b[0] = 40"
   ],
   "execution_count": null,
   "outputs": []
  },
  {
   "cell_type": "markdown",
   "metadata": {
    "id": "phgmk25IExiT",
    "pycharm": {
     "name": "#%% md\n"
    }
   },
   "source": [
    "### Sets (Множества)\n",
    "\n",
    "Множества - это реализация математического объекта \"множество\". Т.е. коллекция неповторяющихся элементов без заданного порядка.\n",
    "\n",
    "Set objects also support mathematical operations like union, intersection, difference and symmetric difference\n",
    "\n",
    "Задаются с помощью фигурных скобок `{}` или функции `set()`."
   ]
  },
  {
   "cell_type": "code",
   "metadata": {
    "id": "hJmxk7_zGskd",
    "colab": {
     "base_uri": "https://localhost:8080/"
    },
    "outputId": "51b1b69a-a9a3-442c-a1fe-ea8623b67297",
    "pycharm": {
     "name": "#%%\n"
    }
   },
   "source": [
    "a = {1, 2, 3, 3, 4, 4}\n",
    "a"
   ],
   "execution_count": null,
   "outputs": []
  },
  {
   "cell_type": "code",
   "metadata": {
    "colab": {
     "base_uri": "https://localhost:8080/"
    },
    "id": "l_pUCy1pmtmi",
    "outputId": "aac0c760-cb5c-4e53-9cd4-437937b1e174",
    "pycharm": {
     "name": "#%%\n"
    }
   },
   "source": [
    "a = set([1, 2, 3, 3, 4, 4])\n",
    "a"
   ],
   "execution_count": null,
   "outputs": []
  },
  {
   "cell_type": "markdown",
   "metadata": {
    "id": "wWfqW6NIEvZI",
    "pycharm": {
     "name": "#%% md\n"
    }
   },
   "source": [
    "## Словари"
   ]
  },
  {
   "cell_type": "markdown",
   "metadata": {
    "id": "Vr6RmR5tE4Nb",
    "pycharm": {
     "name": "#%% md\n"
    }
   },
   "source": [
    "### Dict\n",
    "\n",
    "В других языках словари иногда встречаются как «ассоциативные массивы». В отличие от последовательностей, которые индексируются диапазоном чисел, словари индексируются ключами, которые могут быть любого неизменяемого типа; строки и числа всегда могут быть ключами. Кортежи можно использовать в качестве ключей, если они содержат только строки, числа или кортежи; если кортеж прямо или косвенно содержит какой-либо изменяемый объект, его нельзя использовать в качестве ключа.\n",
    "\n",
    "Вы не можете использовать списки в качестве ключей, поскольку списки можно изменять на месте с помощью присвоений индексов, назначений фрагментов или таких методов, как `append()` и `extend()`.\n",
    "\n",
    "**Dict** - это хэш таблица, мы ее реализуем самостоятельно далее"
   ]
  },
  {
   "cell_type": "code",
   "execution_count": null,
   "outputs": [],
   "source": [
    "person_ = [('age', 24), (23, 'Name'), ('name', 'Ilya')]  # O(N), N = len(list)"
   ],
   "metadata": {
    "collapsed": false,
    "pycharm": {
     "name": "#%%\n"
    }
   }
  },
  {
   "cell_type": "code",
   "metadata": {
    "id": "ncDpceTwDjM_",
    "colab": {
     "base_uri": "https://localhost:8080/"
    },
    "outputId": "e940b063-4bdf-4413-e192-68e1f73c7604",
    "pycharm": {
     "name": "#%%\n"
    }
   },
   "source": [
    "person = {'name': 'Ilya', 'age': 24, 23: 'Name'}\n",
    "print(person[\"name\"])  # O(1)"
   ],
   "execution_count": null,
   "outputs": []
  },
  {
   "cell_type": "code",
   "metadata": {
    "colab": {
     "base_uri": "https://localhost:8080/"
    },
    "id": "hOf64yz9aWEq",
    "outputId": "98cbbe27-6c20-41d7-f96f-660607956184",
    "pycharm": {
     "name": "#%%\n"
    }
   },
   "source": [
    "person.items()"
   ],
   "execution_count": null,
   "outputs": []
  },
  {
   "cell_type": "code",
   "metadata": {
    "id": "BEJpnjvFnxNM",
    "pycharm": {
     "name": "#%%\n"
    }
   },
   "source": [
    "person.update({'gender': 'male'})"
   ],
   "execution_count": null,
   "outputs": []
  },
  {
   "cell_type": "code",
   "metadata": {
    "id": "MiFt9cbdavWC",
    "pycharm": {
     "name": "#%%\n"
    }
   },
   "source": [
    "person[\"my_key\"] = 1223"
   ],
   "execution_count": null,
   "outputs": []
  },
  {
   "cell_type": "code",
   "metadata": {
    "colab": {
     "base_uri": "https://localhost:8080/"
    },
    "id": "Up7aOu_La9AK",
    "outputId": "4ddc0e41-d900-42c1-aed0-1a1e22520373",
    "pycharm": {
     "name": "#%%\n"
    }
   },
   "source": [
    "person[\"key0\"]"
   ],
   "execution_count": null,
   "outputs": []
  },
  {
   "cell_type": "code",
   "metadata": {
    "id": "PTO_fde_blx4",
    "pycharm": {
     "name": "#%%\n"
    }
   },
   "source": [
    "person[\"my_key\"] = 222"
   ],
   "execution_count": null,
   "outputs": []
  },
  {
   "cell_type": "code",
   "execution_count": null,
   "outputs": [],
   "source": [
    "\"name\" in person"
   ],
   "metadata": {
    "collapsed": false,
    "pycharm": {
     "name": "#%%\n"
    }
   }
  },
  {
   "cell_type": "code",
   "metadata": {
    "colab": {
     "base_uri": "https://localhost:8080/"
    },
    "id": "T2A7N0TybtHW",
    "outputId": "aa98e2f2-7d42-4f54-f7ca-b580d310527e",
    "pycharm": {
     "name": "#%%\n"
    }
   },
   "source": [
    "person"
   ],
   "execution_count": null,
   "outputs": []
  },
  {
   "cell_type": "code",
   "metadata": {
    "colab": {
     "base_uri": "https://localhost:8080/"
    },
    "id": "1cJqSHppb7XH",
    "outputId": "0dcd8012-7f0e-455d-c52d-c6041b64960b",
    "pycharm": {
     "name": "#%%\n"
    }
   },
   "source": [
    "bool(float(1000 / 1000))"
   ],
   "execution_count": null,
   "outputs": []
  },
  {
   "cell_type": "code",
   "metadata": {
    "colab": {
     "base_uri": "https://localhost:8080/"
    },
    "id": "ffIYj0uocPwN",
    "outputId": "6410c082-2cbe-4fa5-9ee2-397bb0019566",
    "pycharm": {
     "name": "#%%\n"
    }
   },
   "source": [
    "hash(1.0)"
   ],
   "execution_count": null,
   "outputs": []
  },
  {
   "cell_type": "code",
   "metadata": {
    "colab": {
     "base_uri": "https://localhost:8080/"
    },
    "id": "pgNd2UCjcTxa",
    "outputId": "f4973137-5cf1-4b9e-9320-40abfd32af8f",
    "pycharm": {
     "name": "#%%\n"
    }
   },
   "source": [
    "hash(1.5)"
   ],
   "execution_count": null,
   "outputs": []
  },
  {
   "cell_type": "code",
   "metadata": {
    "colab": {
     "base_uri": "https://localhost:8080/"
    },
    "id": "_LCMQlwScDV4",
    "outputId": "1fa00770-7398-4aa5-a7af-442d0e1f3a2e",
    "pycharm": {
     "name": "#%%\n"
    }
   },
   "source": [
    "hash(True) == hash(1.0)"
   ],
   "execution_count": null,
   "outputs": []
  },
  {
   "cell_type": "code",
   "metadata": {
    "id": "8jVxOOyCpZyG",
    "pycharm": {
     "name": "#%%\n"
    }
   },
   "source": [
    "a = {True: 'Ilya'}\n",
    "a.update({float(1000 / 1000): 'Ivan'})\n",
    "a.update({'name': 'GGGG'})"
   ],
   "execution_count": null,
   "outputs": []
  },
  {
   "cell_type": "code",
   "execution_count": null,
   "outputs": [],
   "source": [
    "bool(float(1000 / 1000))"
   ],
   "metadata": {
    "collapsed": false,
    "pycharm": {
     "name": "#%%\n"
    }
   }
  },
  {
   "cell_type": "code",
   "execution_count": null,
   "outputs": [],
   "source": [],
   "metadata": {
    "collapsed": false,
    "pycharm": {
     "name": "#%%\n"
    }
   }
  },
  {
   "cell_type": "code",
   "metadata": {
    "colab": {
     "base_uri": "https://localhost:8080/"
    },
    "id": "lO6-5AoObLz8",
    "outputId": "6bd500c8-c6bb-4a4f-d1d7-f6bf8152a7c4",
    "pycharm": {
     "name": "#%%\n"
    }
   },
   "source": [
    "a"
   ],
   "execution_count": null,
   "outputs": []
  },
  {
   "cell_type": "markdown",
   "metadata": {
    "id": "Y729W7sFvywK",
    "pycharm": {
     "name": "#%% md\n"
    }
   },
   "source": [
    "# Синтаксис\n",
    "\n",
    "Раньше мы не писали больше одной строчки, но скоро нас ждут большие программы, давайте разберемся, как их писать\n",
    "\n",
    "1. Программа состоит из логических строк (концом которых является перенос строки)\n",
    "2. Явная конкатенация логических строк происходит с помощью `\\`\n",
    "3. Неявная конкатенация работает для выражений в круглых, квадратных или фигурных скобках\n",
    "4. Отступ 4 пробела используется для группировки операторов. Обеспечение вложенности инструкций и объединение их в блоки\n",
    "```\n",
    "some block 1:\n",
    "    some inner block 2\n",
    "    statement\n",
    "```\n",
    "\n",
    "Остальное можно прочитать [здесь](https://docs.python.org/3/reference/lexical_analysis.html) (если будет время, рассмотрим все остальное на следующей паре)\n"
   ]
  },
  {
   "cell_type": "code",
   "execution_count": 1,
   "outputs": [],
   "source": [
    "a = 1 + 1\n",
    "# 79"
   ],
   "metadata": {
    "collapsed": false,
    "pycharm": {
     "name": "#%%\n"
    }
   }
  },
  {
   "cell_type": "code",
   "execution_count": 2,
   "outputs": [
    {
     "name": "stdout",
     "output_type": "stream",
     "text": [
      "[2]\n"
     ]
    }
   ],
   "source": [
    "a = [1\n",
    "     + 1]\n",
    "print(a)"
   ],
   "metadata": {
    "collapsed": false,
    "pycharm": {
     "name": "#%%\n"
    }
   }
  },
  {
   "cell_type": "code",
   "metadata": {
    "colab": {
     "base_uri": "https://localhost:8080/"
    },
    "id": "jgZcW1eecqkY",
    "outputId": "72594e8a-819d-4ae9-8cb4-f8d80240dd55",
    "pycharm": {
     "name": "#%%\n"
    }
   },
   "source": [
    "(1, 2,\n",
    " 3)"
   ],
   "execution_count": null,
   "outputs": []
  },
  {
   "cell_type": "markdown",
   "metadata": {
    "id": "KPTD6lFXrJjp",
    "pycharm": {
     "name": "#%% md\n"
    }
   },
   "source": [
    "# Условный оператор IF\n",
    "\n",
    "это оператор ветвления, т.е. отвечает за выполнение команд при условии истинности некоторого логического выражения\n",
    "\n",
    "В python есть три типа:\n",
    "```\n",
    "if state:\n",
    "    pass\n",
    "elif state:\n",
    "    pass\n",
    "else:\n",
    "    pass\n",
    "```\n",
    "\n",
    "Также можно делать запись в строку (тернарная операция)\n",
    "\n",
    "```\n",
    ">a = 1 if 2 == 2 else 0\n",
    "```\n",
    "\n",
    "Здесь же затронем тему проверки истинности объектов (`or` `and`)\n",
    "\n",
    "```\n",
    ">a = 1 or True # присваевается первое истинное значение\n",
    ">a = False or 1  # присваевается любое истинное значение\n",
    ">a = True and False  # (False and True) присваевается False значение\n",
    ">a = 'a' and 'b'. # вернет второе значение т.е. b\n",
    "```"
   ]
  },
  {
   "cell_type": "code",
   "execution_count": 8,
   "outputs": [
    {
     "name": "stdout",
     "output_type": "stream",
     "text": [
      "World\n"
     ]
    }
   ],
   "source": [
    "if 1 == 2:\n",
    "    print(\"Hello\")\n",
    "elif 1 == 3:\n",
    "    print(\"Hello2\")\n",
    "else:\n",
    "    print(\"World\")"
   ],
   "metadata": {
    "collapsed": false,
    "pycharm": {
     "name": "#%%\n"
    }
   }
  },
  {
   "cell_type": "code",
   "metadata": {
    "colab": {
     "base_uri": "https://localhost:8080/"
    },
    "id": "guapzusodece",
    "outputId": "2ed9b9af-9a97-41db-c675-502fb7cf6809",
    "pycharm": {
     "name": "#%%\n"
    }
   },
   "source": [
    "if False:\n",
    "    print('first if')\n",
    "elif False:  # else if\n",
    "    print('second')\n",
    "elif True:\n",
    "    print('second 2')\n",
    "elif True:\n",
    "    print('second')\n",
    "else:\n",
    "    print('else')\n"
   ],
   "execution_count": null,
   "outputs": []
  },
  {
   "cell_type": "code",
   "metadata": {
    "id": "Q3JNwwuZer73",
    "pycharm": {
     "name": "#%%\n"
    }
   },
   "source": [
    "s = [1, 2, 3]\n",
    "\n",
    "a = 1 if 2 not in s else 0\n",
    "# Value(If = True) ... IF ... Value(Else)\n",
    "a"
   ],
   "execution_count": 9,
   "outputs": [
    {
     "data": {
      "text/plain": "0"
     },
     "execution_count": 9,
     "metadata": {},
     "output_type": "execute_result"
    }
   ]
  },
  {
   "cell_type": "code",
   "execution_count": null,
   "outputs": [],
   "source": [
    "true_condition = 2 in s\n",
    "a = 1 if true_condition else 0"
   ],
   "metadata": {
    "collapsed": false,
    "pycharm": {
     "name": "#%%\n"
    }
   }
  },
  {
   "cell_type": "code",
   "execution_count": 13,
   "outputs": [
    {
     "data": {
      "text/plain": "10"
     },
     "execution_count": 13,
     "metadata": {},
     "output_type": "execute_result"
    }
   ],
   "source": [
    "int(input())"
   ],
   "metadata": {
    "collapsed": false,
    "pycharm": {
     "name": "#%%\n"
    }
   }
  },
  {
   "cell_type": "code",
   "metadata": {
    "colab": {
     "base_uri": "https://localhost:8080/"
    },
    "id": "RLm6NXrbPtWI",
    "outputId": "a7c61333-feda-4427-d27e-84eb20a21b43",
    "pycharm": {
     "name": "#%%\n"
    }
   },
   "source": [
    "name = input('enter the name ')\n",
    "name = name.lower()\n",
    "if name == 'ilya':\n",
    "    print(f'Welcome, {name}')\n",
    "elif name == 'dima':\n",
    "    print(f'You are not welcome {name}')\n",
    "else:\n",
    "    print(f'Hi, {name}')"
   ],
   "execution_count": 14,
   "outputs": [
    {
     "name": "stdout",
     "output_type": "stream",
     "text": [
      "Welcome, ilya\n"
     ]
    }
   ]
  },
  {
   "cell_type": "markdown",
   "metadata": {
    "id": "lgxxrEdTRmrh",
    "pycharm": {
     "name": "#%% md\n"
    }
   },
   "source": [
    "`input` позволяет читать с ввода, при этом предварительно напечатав строку"
   ]
  },
  {
   "cell_type": "code",
   "metadata": {
    "colab": {
     "base_uri": "https://localhost:8080/"
    },
    "id": "ErlE25gvQ6xK",
    "outputId": "44d984fc-9e93-43e1-abe1-28422262fe59",
    "pycharm": {
     "name": "#%%\n"
    }
   },
   "source": [
    "print(f'1 or True => {1 or True}')\n",
    "print(f'False or 1 => {False or 1}')\n",
    "print(f'True and \"b\" => {True and \"b\"}')\n",
    "print(f'0 and True => {0 and True}')"
   ],
   "execution_count": 17,
   "outputs": [
    {
     "name": "stdout",
     "output_type": "stream",
     "text": [
      "1 or True => 1\n",
      "False or 1 => 1\n",
      "True and \"b\" => b\n",
      "0 and True => 0\n"
     ]
    }
   ]
  },
  {
   "cell_type": "markdown",
   "metadata": {
    "id": "Mw5lBDdxrNvp",
    "pycharm": {
     "name": "#%% md\n"
    }
   },
   "source": [
    "# Циклы FOR и WHILE\n",
    "\n",
    "Очень важный аспект языка и используются повсеместно. Повторяет выполнения блока внутри согласно определенному условию.\n",
    "\n",
    "\n",
    "```\n",
    "while True:\n",
    "    pass\n",
    "```\n",
    "\n",
    " \n",
    "```\n",
    "for object in iter:\n",
    "    pass\n",
    "```\n",
    "\n",
    "Нужно запомнить еще пару операторов:\n",
    "1. `continue` - перейти к следующей итерации\n",
    "2. `break` - выйти из текущего блока\n",
    "\n",
    "Есть синтаксис характерный для python, проверка вышли ли вы из цикла с помощью `break` или нет\n",
    "\n",
    "```\n",
    "while True:\n",
    "    break\n",
    "else:\n",
    "    print('no break')\n",
    "```"
   ]
  },
  {
   "cell_type": "code",
   "metadata": {
    "colab": {
     "base_uri": "https://localhost:8080/"
    },
    "id": "Yjez96CITtST",
    "outputId": "3fd21189-8832-4f9e-927f-d90b43cd88d6",
    "pycharm": {
     "name": "#%%\n"
    }
   },
   "source": [
    "i = 0\n",
    "while i < 5:\n",
    "    print(i)\n",
    "    i += 1"
   ],
   "execution_count": 18,
   "outputs": [
    {
     "name": "stdout",
     "output_type": "stream",
     "text": [
      "0\n",
      "1\n",
      "2\n",
      "3\n",
      "4\n"
     ]
    }
   ]
  },
  {
   "cell_type": "code",
   "execution_count": 19,
   "outputs": [
    {
     "data": {
      "text/plain": "[0, 1, 2, 3, 4]"
     },
     "execution_count": 19,
     "metadata": {},
     "output_type": "execute_result"
    }
   ],
   "source": [
    "list(range(5))"
   ],
   "metadata": {
    "collapsed": false,
    "pycharm": {
     "name": "#%%\n"
    }
   }
  },
  {
   "cell_type": "code",
   "metadata": {
    "colab": {
     "base_uri": "https://localhost:8080/"
    },
    "id": "Im3aSGk8USIs",
    "outputId": "c993727e-3d96-433f-d818-d51c805c6b4f",
    "pycharm": {
     "name": "#%%\n"
    }
   },
   "source": [
    "for i in range(5):\n",
    "    print(i)"
   ],
   "execution_count": 20,
   "outputs": [
    {
     "name": "stdout",
     "output_type": "stream",
     "text": [
      "0\n",
      "1\n",
      "2\n",
      "3\n",
      "4\n"
     ]
    }
   ]
  },
  {
   "cell_type": "markdown",
   "source": [
    "\n",
    "`break`\n",
    "`continue`"
   ],
   "metadata": {
    "collapsed": false,
    "pycharm": {
     "name": "#%% md\n"
    }
   }
  },
  {
   "cell_type": "code",
   "execution_count": 21,
   "outputs": [
    {
     "name": "stdout",
     "output_type": "stream",
     "text": [
      "0\n",
      "1\n",
      "2\n",
      "3\n",
      "4\n",
      "5\n",
      "6\n"
     ]
    }
   ],
   "source": [
    "i = 0\n",
    "while i < 10:\n",
    "    print(i)\n",
    "    if i > 5:\n",
    "        break\n",
    "    i += 1"
   ],
   "metadata": {
    "collapsed": false,
    "pycharm": {
     "name": "#%%\n"
    }
   }
  },
  {
   "cell_type": "code",
   "execution_count": 25,
   "outputs": [],
   "source": [
    "i = 0\n",
    "while i < 5:\n",
    "    j = 0\n",
    "    while j < 5:\n",
    "        i += j\n",
    "        j += 1\n",
    "        if j > 2:\n",
    "            break\n",
    "    break\n",
    "    print(i)\n",
    "    i += 1\n",
    "\n",
    "# i = 1 + 2\n",
    "# i = 4 + 0 + 1 + 2"
   ],
   "metadata": {
    "collapsed": false,
    "pycharm": {
     "name": "#%%\n"
    }
   }
  },
  {
   "cell_type": "code",
   "metadata": {
    "colab": {
     "base_uri": "https://localhost:8080/"
    },
    "id": "mvZw4IeprRFg",
    "outputId": "1b4acc39-5ef6-4690-89bd-8168bd9d14d0",
    "pycharm": {
     "name": "#%%\n"
    }
   },
   "source": [
    "i = 0\n",
    "while i < 5:\n",
    "    print(i)\n",
    "    if i > 100:\n",
    "        break\n",
    "    i += 1\n",
    "else:\n",
    "    print('no break')"
   ],
   "execution_count": 26,
   "outputs": [
    {
     "name": "stdout",
     "output_type": "stream",
     "text": [
      "0\n",
      "1\n",
      "2\n",
      "3\n",
      "4\n",
      "no break\n"
     ]
    }
   ]
  },
  {
   "cell_type": "code",
   "execution_count": 28,
   "outputs": [
    {
     "name": "stdout",
     "output_type": "stream",
     "text": [
      "0\n",
      "1\n",
      "2\n",
      "no break\n"
     ]
    }
   ],
   "source": [
    "for i in range(3):\n",
    "    print(i)\n",
    "    if i > 100:\n",
    "        break\n",
    "else:\n",
    "    print(\"no break\")"
   ],
   "metadata": {
    "collapsed": false,
    "pycharm": {
     "name": "#%%\n"
    }
   }
  },
  {
   "cell_type": "code",
   "metadata": {
    "colab": {
     "base_uri": "https://localhost:8080/"
    },
    "id": "HEy7NfBFhs9c",
    "outputId": "4709722d-e826-4723-ae5a-9ffa5124ded4",
    "pycharm": {
     "name": "#%%\n"
    }
   },
   "source": [
    "for i in range(2):\n",
    "    for j in range(2):\n",
    "        print(i, j)"
   ],
   "execution_count": null,
   "outputs": []
  },
  {
   "cell_type": "code",
   "execution_count": 30,
   "outputs": [
    {
     "data": {
      "text/plain": "list"
     },
     "execution_count": 30,
     "metadata": {},
     "output_type": "execute_result"
    }
   ],
   "source": [
    "type(list(range(10)))"
   ],
   "metadata": {
    "collapsed": false,
    "pycharm": {
     "name": "#%%\n"
    }
   }
  },
  {
   "cell_type": "code",
   "execution_count": 33,
   "outputs": [
    {
     "data": {
      "text/plain": "[0, 2, 4, 6, 8]"
     },
     "execution_count": 33,
     "metadata": {},
     "output_type": "execute_result"
    }
   ],
   "source": [
    "[i for i in range(10) if i % 2 == 0]"
   ],
   "metadata": {
    "collapsed": false,
    "pycharm": {
     "name": "#%%\n"
    }
   }
  },
  {
   "cell_type": "code",
   "execution_count": 34,
   "outputs": [
    {
     "data": {
      "text/plain": "[0, 'Null', 2, 'Null', 4, 'Null', 6, 'Null', 8, 'Null']"
     },
     "execution_count": 34,
     "metadata": {},
     "output_type": "execute_result"
    }
   ],
   "source": [
    "[i if i % 2 == 0 else \"Null\" for i in range(10)]"
   ],
   "metadata": {
    "collapsed": false,
    "pycharm": {
     "name": "#%%\n"
    }
   }
  },
  {
   "cell_type": "code",
   "execution_count": 37,
   "outputs": [
    {
     "data": {
      "text/plain": "[0, 0, 1, 1, 2, 2, 3, 3, 4, 4]"
     },
     "execution_count": 37,
     "metadata": {},
     "output_type": "execute_result"
    }
   ],
   "source": [
    "[i for i in range(5) for j in range(2)]"
   ],
   "metadata": {
    "collapsed": false,
    "pycharm": {
     "name": "#%%\n"
    }
   }
  },
  {
   "cell_type": "code",
   "execution_count": 39,
   "outputs": [
    {
     "name": "stdout",
     "output_type": "stream",
     "text": [
      "4407678912 4407680000\n"
     ]
    }
   ],
   "source": [
    "a = [[1, 2] for _ in range(2)]\n",
    "print(id(a[0]), id(a[1]))"
   ],
   "metadata": {
    "collapsed": false,
    "pycharm": {
     "name": "#%%\n"
    }
   }
  },
  {
   "cell_type": "code",
   "execution_count": 43,
   "outputs": [],
   "source": [
    "{i if i % 2 == 0 else f\"Key_{i}\": i + 1 if i % 2 == 0 else i ** 2 for i in\n",
    " range(10) if i > 5}\n",
    "\n",
    "d = {}\n",
    "for i in range(10):\n",
    "    if i > 5:\n",
    "        if i % 2 == 0:  # Just regular increment\n",
    "            d[i] = i + 1\n",
    "        else:  # I want to use pow there\n",
    "            d[f\"Key_{i}\"] = i ** 2"
   ],
   "metadata": {
    "collapsed": false,
    "pycharm": {
     "name": "#%%\n"
    }
   }
  },
  {
   "cell_type": "code",
   "execution_count": 45,
   "outputs": [
    {
     "name": "stdout",
     "output_type": "stream",
     "text": [
      "<class 'dict'>\n",
      "<class 'set'>\n"
     ]
    }
   ],
   "source": [
    "print(type({1: 1}))\n",
    "print(type({1, 1, 1}))"
   ],
   "metadata": {
    "collapsed": false,
    "pycharm": {
     "name": "#%%\n"
    }
   }
  },
  {
   "cell_type": "markdown",
   "metadata": {
    "id": "4pLbeMl69bgS",
    "pycharm": {
     "name": "#%% md\n"
    }
   },
   "source": [
    "# Функции\n",
    "\n",
    "1.  Часть кода, которому мы даем имя (абстракция)\n",
    "2.  Функцию можно написать один раз и вызывать из разных мест программы (переиспользование)\n",
    "3.  Функции помогают структурировать код, разбив его на отдельные действия\n",
    "4.  Делают код более читабельным и упрощают поиск ошибок\n",
    "\n",
    "Функции в python похожи на обычные функции `z = f(x, ...)`. В программировании функция - это автономный блок кода, который инкапсулирует конкретную задачу или связанную группу задач.\n",
    "\n",
    "Задание фукций:\n",
    "```\n",
    "def <function_name>([<parameters>]):\n",
    "    <statement(s)>\n",
    "```\n",
    "---"
   ]
  },
  {
   "cell_type": "code",
   "execution_count": 49,
   "outputs": [],
   "source": [
    "if False:\n",
    "    pass\n",
    "else:\n",
    "    pass"
   ],
   "metadata": {
    "collapsed": false,
    "pycharm": {
     "name": "#%%\n"
    }
   }
  },
  {
   "cell_type": "code",
   "execution_count": null,
   "outputs": [],
   "source": [
    "\"\"\"\n",
    "def <function_name>([<parameters|arguments]):\n",
    "    <statement(s)>\n",
    "\"\"\""
   ],
   "metadata": {
    "collapsed": false,
    "pycharm": {
     "name": "#%%\n"
    }
   }
  },
  {
   "cell_type": "code",
   "metadata": {
    "id": "zWYTOjhUiX7Y",
    "pycharm": {
     "name": "#%%\n"
    }
   },
   "source": [
    "def foo():\n",
    "    print('Hello from my first')\n",
    "    print(f\"out {input()}\")"
   ],
   "execution_count": 54,
   "outputs": []
  },
  {
   "cell_type": "code",
   "metadata": {
    "colab": {
     "base_uri": "https://localhost:8080/"
    },
    "id": "zRhi1QoMiize",
    "outputId": "bba77036-43fb-4e44-c578-88f551505adc",
    "pycharm": {
     "name": "#%%\n"
    }
   },
   "source": [
    "foo()"
   ],
   "execution_count": 55,
   "outputs": [
    {
     "name": "stdout",
     "output_type": "stream",
     "text": [
      "Hello from my first\n",
      "out Hello\n"
     ]
    }
   ]
  },
  {
   "cell_type": "markdown",
   "metadata": {
    "id": "MURuNW-qH2jl",
    "pycharm": {
     "name": "#%% md\n"
    }
   },
   "source": [
    "## Передача аргументов в функцию\n",
    "\n"
   ]
  },
  {
   "cell_type": "markdown",
   "metadata": {
    "id": "9LFZXpNzH6p-",
    "pycharm": {
     "name": "#%% md\n"
    }
   },
   "source": [
    "\n",
    "### positional agrs\n",
    "Cамый простой способ передать аргументы функции python - использовать позиционные аргументы (также называемые обязательными аргументами). В определении функции вы указываете список параметров, разделенных запятыми, в круглых скобках."
   ]
  },
  {
   "cell_type": "code",
   "metadata": {
    "colab": {
     "base_uri": "https://localhost:8080/"
    },
    "id": "cozd3U5JrZTI",
    "outputId": "b865c75b-4557-4a35-afe1-a86709559193",
    "pycharm": {
     "name": "#%%\n"
    }
   },
   "source": [
    "# positional args\n",
    "\n",
    "def foo(arg1, arg2):\n",
    "    print(f'arg1={arg1}; arg2={arg2}')\n",
    "\n",
    "\n",
    "foo(1, 2)\n",
    "foo(2, 1)"
   ],
   "execution_count": 56,
   "outputs": [
    {
     "name": "stdout",
     "output_type": "stream",
     "text": [
      "arg1=1; arg2=2\n",
      "arg1=2; arg2=1\n"
     ]
    }
   ]
  },
  {
   "cell_type": "code",
   "metadata": {
    "colab": {
     "base_uri": "https://localhost:8080/",
     "height": 158
    },
    "id": "TwWfH0SmjREu",
    "outputId": "ebd1994e-319a-4b8b-d5e8-6b4b842d9c1d",
    "pycharm": {
     "name": "#%%\n"
    }
   },
   "source": [
    "foo()"
   ],
   "execution_count": 57,
   "outputs": [
    {
     "ename": "TypeError",
     "evalue": "foo() missing 2 required positional arguments: 'arg1' and 'arg2'",
     "output_type": "error",
     "traceback": [
      "\u001B[0;31m---------------------------------------------------------------------------\u001B[0m",
      "\u001B[0;31mTypeError\u001B[0m                                 Traceback (most recent call last)",
      "\u001B[0;32m<ipython-input-57-c19b6d9633cf>\u001B[0m in \u001B[0;36m<module>\u001B[0;34m\u001B[0m\n\u001B[0;32m----> 1\u001B[0;31m \u001B[0mfoo\u001B[0m\u001B[0;34m(\u001B[0m\u001B[0;34m)\u001B[0m\u001B[0;34m\u001B[0m\u001B[0;34m\u001B[0m\u001B[0m\n\u001B[0m",
      "\u001B[0;31mTypeError\u001B[0m: foo() missing 2 required positional arguments: 'arg1' and 'arg2'"
     ]
    }
   ]
  },
  {
   "cell_type": "markdown",
   "metadata": {
    "id": "pP-Jvz38G73y",
    "pycharm": {
     "name": "#%% md\n"
    }
   },
   "source": [
    "### keyword args\n",
    "Когда вы вызываете функцию, вы можете указать аргументы в форме `<ключевое слово>=<значение>`. В этом случае каждое `<ключевое слово>` должно соответствовать параметру в определении функции Python. Например, ранее определенная функция `foo()` может быть вызвана с ключевыми аргументами следующим образом:"
   ]
  },
  {
   "cell_type": "code",
   "metadata": {
    "colab": {
     "base_uri": "https://localhost:8080/"
    },
    "id": "2Nq1h4DaGZ94",
    "outputId": "c4666f6d-2dae-41c3-f2fe-46cc45c93191",
    "pycharm": {
     "name": "#%%\n"
    }
   },
   "source": [
    "foo(arg2=2, arg1=1)"
   ],
   "execution_count": 58,
   "outputs": [
    {
     "name": "stdout",
     "output_type": "stream",
     "text": [
      "arg1=1; arg2=2\n"
     ]
    }
   ]
  },
  {
   "cell_type": "markdown",
   "metadata": {
    "id": "mvX_WRISHHCs",
    "pycharm": {
     "name": "#%% md\n"
    }
   },
   "source": [
    "### значения по умолчанию\n",
    "Если параметр, указанный в определении функции python, имеет форму `<имя>=<значение>`, тогда `<значение>` становится значением по умолчанию для этого параметра. Параметры, определенные таким образом, называются параметрами по умолчанию или дополнительными параметрами."
   ]
  },
  {
   "cell_type": "code",
   "metadata": {
    "colab": {
     "base_uri": "https://localhost:8080/"
    },
    "id": "rhMvANOkHDsK",
    "outputId": "ad448500-fc8e-4206-dea0-a5edcbcc7ff2",
    "pycharm": {
     "name": "#%%\n"
    }
   },
   "source": [
    "def foo2(arg1, arg2='default'):\n",
    "    print(f'arg1={arg1}; arg2={arg2}')\n",
    "\n",
    "\n",
    "foo2(1)\n",
    "foo2(1, 2)\n",
    "foo2('hello', arg2='lala')"
   ],
   "execution_count": 59,
   "outputs": [
    {
     "name": "stdout",
     "output_type": "stream",
     "text": [
      "arg1=1; arg2=default\n",
      "arg1=1; arg2=2\n",
      "arg1=hello; arg2=lala\n"
     ]
    }
   ]
  },
  {
   "cell_type": "code",
   "metadata": {
    "colab": {
     "base_uri": "https://localhost:8080/",
     "height": 158
    },
    "id": "X1waMU8ljyIx",
    "outputId": "185278f3-c96e-4392-de81-655ea8c49815",
    "pycharm": {
     "name": "#%%\n"
    }
   },
   "source": [
    "foo2(arg2=1)"
   ],
   "execution_count": 60,
   "outputs": [
    {
     "ename": "TypeError",
     "evalue": "foo2() missing 1 required positional argument: 'arg1'",
     "output_type": "error",
     "traceback": [
      "\u001B[0;31m---------------------------------------------------------------------------\u001B[0m",
      "\u001B[0;31mTypeError\u001B[0m                                 Traceback (most recent call last)",
      "\u001B[0;32m<ipython-input-60-99aff33a0893>\u001B[0m in \u001B[0;36m<module>\u001B[0;34m\u001B[0m\n\u001B[0;32m----> 1\u001B[0;31m \u001B[0mfoo2\u001B[0m\u001B[0;34m(\u001B[0m\u001B[0marg2\u001B[0m\u001B[0;34m=\u001B[0m\u001B[0;36m1\u001B[0m\u001B[0;34m)\u001B[0m\u001B[0;34m\u001B[0m\u001B[0;34m\u001B[0m\u001B[0m\n\u001B[0m",
      "\u001B[0;31mTypeError\u001B[0m: foo2() missing 1 required positional argument: 'arg1'"
     ]
    }
   ]
  },
  {
   "cell_type": "code",
   "metadata": {
    "colab": {
     "base_uri": "https://localhost:8080/",
     "height": 126
    },
    "id": "bdt-nITXHska",
    "outputId": "cdcd65a4-c8d6-45ef-aa64-9a34c01e6e45",
    "pycharm": {
     "name": "#%%\n"
    }
   },
   "source": [
    "foo2(arg1='hello', arg2='lala')"
   ],
   "execution_count": 61,
   "outputs": [
    {
     "ename": "SyntaxError",
     "evalue": "positional argument follows keyword argument (<ipython-input-61-62bffbe07370>, line 1)",
     "output_type": "error",
     "traceback": [
      "\u001B[0;36m  File \u001B[0;32m\"<ipython-input-61-62bffbe07370>\"\u001B[0;36m, line \u001B[0;32m1\u001B[0m\n\u001B[0;31m    foo2(arg1='hello', 'lala')\u001B[0m\n\u001B[0m                       ^\u001B[0m\n\u001B[0;31mSyntaxError\u001B[0m\u001B[0;31m:\u001B[0m positional argument follows keyword argument\n"
     ]
    }
   ]
  },
  {
   "cell_type": "code",
   "execution_count": 63,
   "outputs": [
    {
     "name": "stdout",
     "output_type": "stream",
     "text": [
      "arg1=1; arg2=1\n",
      "arg1=1; arg2=2\n",
      "arg1=1; arg2=2\n",
      "arg1=1; arg2=default\n",
      "arg1=1; arg2=2\n",
      "arg1=1; arg2=2\n",
      "arg1=1; arg2=2\n"
     ]
    }
   ],
   "source": [
    "foo(1, 1)\n",
    "foo(arg1=1, arg2=2)\n",
    "foo(arg2=2, arg1=1)\n",
    "foo2(1)\n",
    "foo2(1, 2)\n",
    "foo2(1, arg2=2)\n",
    "foo2(arg1=1, arg2=2)\n",
    "# foo2(arg1=1, 2)"
   ],
   "metadata": {
    "collapsed": false,
    "pycharm": {
     "name": "#%%\n"
    }
   }
  },
  {
   "cell_type": "code",
   "metadata": {
    "id": "HJuSgCCXkSMR",
    "pycharm": {
     "name": "#%%\n"
    }
   },
   "source": [
    "def foo(a=1, b=2):\n",
    "    print(a, b)\n",
    "    pass"
   ],
   "execution_count": 66,
   "outputs": []
  },
  {
   "cell_type": "code",
   "metadata": {
    "id": "GQcctWzikxKg",
    "pycharm": {
     "name": "#%%\n"
    }
   },
   "source": [
    "foo(2, b=1)"
   ],
   "execution_count": 70,
   "outputs": [
    {
     "name": "stdout",
     "output_type": "stream",
     "text": [
      "2 1\n"
     ]
    }
   ]
  },
  {
   "cell_type": "markdown",
   "metadata": {
    "id": "-ssHn4OdHzkZ",
    "pycharm": {
     "name": "#%% md\n"
    }
   },
   "source": [
    "### изменяемые параметры\n",
    "\n",
    "Будьте осторожны, если ставите изменяемый параметр в значение по умолчанию\n",
    "\n"
   ]
  },
  {
   "cell_type": "code",
   "metadata": {
    "id": "JpSUtrK1Hu7W",
    "pycharm": {
     "name": "#%%\n"
    }
   },
   "source": [
    "def foo(words=[]):\n",
    "    print(f\"input list id = {id(words)}\")\n",
    "    words.append('END')\n",
    "    return words"
   ],
   "execution_count": 78,
   "outputs": []
  },
  {
   "cell_type": "code",
   "metadata": {
    "colab": {
     "base_uri": "https://localhost:8080/"
    },
    "id": "HQjPig7IIz7S",
    "outputId": "5a5596f3-b112-4fee-e464-95a01db3db97",
    "pycharm": {
     "name": "#%%\n"
    }
   },
   "source": [
    "a = [\"Hello\", \"World\"]\n",
    "print(f\"outer a id = {id(a)}\")\n",
    "b = foo(a)\n",
    "print(f\"outer b id = {id(b)}\")\n",
    "print(a, b)"
   ],
   "execution_count": 73,
   "outputs": [
    {
     "name": "stdout",
     "output_type": "stream",
     "text": [
      "outer a id = 4408134080\n",
      "input list id = 4408134080\n",
      "outer b id = 4408134080\n",
      "['Hello', 'World', 'END'] ['Hello', 'World', 'END']\n"
     ]
    }
   ]
  },
  {
   "cell_type": "code",
   "metadata": {
    "colab": {
     "base_uri": "https://localhost:8080/"
    },
    "id": "e9FX3VhLk_bJ",
    "outputId": "917760bf-daee-4584-97b4-5f9a121fded6",
    "pycharm": {
     "name": "#%%\n"
    }
   },
   "source": [
    "foo(['Hello', 'World'])"
   ],
   "execution_count": 75,
   "outputs": [
    {
     "name": "stdout",
     "output_type": "stream",
     "text": [
      "input list id = 4408827968\n"
     ]
    },
    {
     "data": {
      "text/plain": "['Hello', 'World', 'END']"
     },
     "execution_count": 75,
     "metadata": {},
     "output_type": "execute_result"
    }
   ]
  },
  {
   "cell_type": "code",
   "metadata": {
    "colab": {
     "base_uri": "https://localhost:8080/"
    },
    "id": "G-7glwTGI2_u",
    "outputId": "f29c08a7-bb00-477f-b3e5-fc7ff9837a58",
    "pycharm": {
     "name": "#%%\n"
    }
   },
   "source": [
    "foo([])"
   ],
   "execution_count": 76,
   "outputs": [
    {
     "name": "stdout",
     "output_type": "stream",
     "text": [
      "input list id = 4408126784\n"
     ]
    },
    {
     "data": {
      "text/plain": "['END']"
     },
     "execution_count": 76,
     "metadata": {},
     "output_type": "execute_result"
    }
   ]
  },
  {
   "cell_type": "code",
   "metadata": {
    "colab": {
     "base_uri": "https://localhost:8080/"
    },
    "id": "KVexlvajI5LR",
    "outputId": "a3eb5789-a248-4319-a9d7-a942ad3bed18",
    "pycharm": {
     "name": "#%%\n"
    }
   },
   "source": [
    "# Что же не так???\n",
    "print(foo())\n",
    "print(foo())\n",
    "print(foo())"
   ],
   "execution_count": 77,
   "outputs": [
    {
     "name": "stdout",
     "output_type": "stream",
     "text": [
      "input list id = 4408898880\n",
      "['END']\n",
      "input list id = 4408898880\n",
      "['END', 'END']\n",
      "input list id = 4408898880\n",
      "['END', 'END', 'END']\n"
     ]
    }
   ]
  },
  {
   "cell_type": "code",
   "metadata": {
    "id": "-t_trvJ8lHt6",
    "pycharm": {
     "name": "#%%\n"
    }
   },
   "source": [
    "foo()"
   ],
   "execution_count": 79,
   "outputs": [
    {
     "name": "stdout",
     "output_type": "stream",
     "text": [
      "input list id = 4413242112\n"
     ]
    },
    {
     "data": {
      "text/plain": "['END']"
     },
     "execution_count": 79,
     "metadata": {},
     "output_type": "execute_result"
    }
   ]
  },
  {
   "cell_type": "markdown",
   "metadata": {
    "id": "e8vs3v59JGze",
    "pycharm": {
     "name": "#%% md\n"
    }
   },
   "source": [
    "В Python значения параметров по умолчанию определяются только один раз, когда функция определена (то есть, когда выполняется инструкция `def`). Значение по умолчанию не переопределяется каждый раз при вызове функции. Таким образом, каждый раз, когда вы вызываете `f()` без параметра, вы выполняете `.append()` в том же списке."
   ]
  },
  {
   "cell_type": "code",
   "execution_count": 81,
   "outputs": [
    {
     "data": {
      "text/plain": "(False, False)"
     },
     "execution_count": 81,
     "metadata": {},
     "output_type": "execute_result"
    }
   ],
   "source": [
    "bool([]), bool(None)"
   ],
   "metadata": {
    "collapsed": false,
    "pycharm": {
     "name": "#%%\n"
    }
   }
  },
  {
   "cell_type": "code",
   "metadata": {
    "id": "QPyBDOHWJzQI",
    "pycharm": {
     "name": "#%%\n"
    }
   },
   "source": [
    "def foo(words=None):\n",
    "    words = words or []\n",
    "    print(id(words))\n",
    "    words.append('END')\n",
    "    return words"
   ],
   "execution_count": 82,
   "outputs": []
  },
  {
   "cell_type": "code",
   "metadata": {
    "colab": {
     "base_uri": "https://localhost:8080/"
    },
    "id": "PXid6q_3Kday",
    "outputId": "03290c0d-8c0c-4f21-9c4f-ac519bf3de22",
    "pycharm": {
     "name": "#%%\n"
    }
   },
   "source": [
    "foo()\n",
    "foo()\n",
    "foo()"
   ],
   "execution_count": 83,
   "outputs": [
    {
     "name": "stdout",
     "output_type": "stream",
     "text": [
      "4414573312\n",
      "4413883264\n",
      "4408158464\n"
     ]
    },
    {
     "data": {
      "text/plain": "['END']"
     },
     "execution_count": 83,
     "metadata": {},
     "output_type": "execute_result"
    }
   ]
  },
  {
   "cell_type": "markdown",
   "metadata": {
    "id": "JxtZByeONleA",
    "pycharm": {
     "name": "#%% md\n"
    }
   },
   "source": [
    "## Передача значения или ссылки\n",
    "\n",
    "Давайте разберемся, что происходит, когда вы передаете аргумент в функцию (вот очень простым языком написано, читайте [link](https://realpython.com/defining-your-own-python-function/))\n",
    "\n",
    "При вызове функции параметр функции и значение из точки вызова указывают на один объект, но подобно тому, как вы можете присвоить объекту другое значение, интерпретатор присвоит другое значение параметру. Рассмотрим на практике"
   ]
  },
  {
   "cell_type": "code",
   "metadata": {
    "id": "yrxip328KeNo",
    "pycharm": {
     "name": "#%%\n"
    }
   },
   "source": [
    "def foo(arg1):\n",
    "    print(f'initial id(arg1)={id(arg1)}')\n",
    "    arg1 *= 2\n",
    "    print(f'updated id(arg1)={id(arg1)}')\n",
    "\n",
    "\n",
    "x = 350\n",
    "print(f'initial x = {x} with id(x)={id(x)}')\n",
    "foo(x)\n",
    "print(f'final x = {x} with id(x)={id(x)}')"
   ],
   "execution_count": 84,
   "outputs": [
    {
     "name": "stdout",
     "output_type": "stream",
     "text": [
      "initial x = 350 with id(x)=4405002960\n",
      "initial id(arg1)=4405002960\n",
      "updated id(arg1)=4405004176\n",
      "final x = 350 with id(x)=4405002960\n"
     ]
    }
   ]
  },
  {
   "cell_type": "code",
   "metadata": {
    "colab": {
     "base_uri": "https://localhost:8080/"
    },
    "id": "Lo93ExNhOy_t",
    "outputId": "a97c813f-d542-4a0f-81af-bbf3b779a710",
    "pycharm": {
     "name": "#%%\n"
    }
   },
   "source": [
    "def double_elements(inpt_list):\n",
    "    print(f\"[func init] init value = {inpt_list} id = {id(inpt_list)}\")\n",
    "    for i in range(len(inpt_list)):\n",
    "        inpt_list[i] *= 2\n",
    "    print(f\"[func final] init value = {inpt_list} id = {id(inpt_list)}\")\n",
    "\n",
    "\n",
    "my_list = [1, 2, 3]\n",
    "print(f\"init value = {my_list} id = {id(my_list)}\")\n",
    "double_element(my_list)\n",
    "print(f\"final value = {my_list} id = {id(my_list)}\")"
   ],
   "execution_count": 89,
   "outputs": [
    {
     "name": "stdout",
     "output_type": "stream",
     "text": [
      "init value = [1, 2, 3] id = 4413606720\n",
      "[func init] init value = [1, 2, 3] id = 4413606720\n",
      "[func final] init value = [2, 4, 6] id = 4413606720\n",
      "final value = [2, 4, 6] id = 4413606720\n"
     ]
    }
   ]
  },
  {
   "cell_type": "code",
   "execution_count": 91,
   "outputs": [
    {
     "name": "stdout",
     "output_type": "stream",
     "text": [
      "init value = [1, 2, 3] id = 4413336320\n",
      "[func init] init value = [1, 2, 3] id = 4413336320\n",
      "[func final] init value = [2, 4, 6] id = 4414655680\n",
      "final value = [1, 2, 3] id = 4413336320\n"
     ]
    }
   ],
   "source": [
    "def double_elements(inpt_list):\n",
    "    print(f\"[func init] init value = {inpt_list} id = {id(inpt_list)}\")\n",
    "    a = [item * 2 for item in inpt_list]\n",
    "    inpt_list = a\n",
    "    print(f\"[func final] init value = {inpt_list} id = {id(inpt_list)}\")\n",
    "\n",
    "\n",
    "my_list = [1, 2, 3]\n",
    "print(f\"init value = {my_list} id = {id(my_list)}\")\n",
    "double_element(my_list)\n",
    "print(f\"final value = {my_list} id = {id(my_list)}\")"
   ],
   "metadata": {
    "collapsed": false,
    "pycharm": {
     "name": "#%%\n"
    }
   }
  },
  {
   "cell_type": "code",
   "execution_count": null,
   "outputs": [],
   "source": [
    "def double_elements_return():\n",
    "    pass"
   ],
   "metadata": {
    "collapsed": false,
    "pycharm": {
     "name": "#%%\n"
    }
   }
  },
  {
   "cell_type": "markdown",
   "metadata": {
    "id": "k1yvu12UOAq8",
    "pycharm": {
     "name": "#%% md\n"
    }
   },
   "source": [
    "Ключевой вывод здесь заключается в том, что функция python не может изменить значение аргумента, переназначив соответствующий параметр чему-то другому."
   ]
  },
  {
   "cell_type": "markdown",
   "metadata": {
    "id": "QWoFrOllORoZ",
    "pycharm": {
     "name": "#%% md\n"
    }
   },
   "source": [
    "Резюмируя. Передача неизменяемого объекта, такого как `int`, `str`, `tuple` или `frozenset`, в функцию python действует как передача по значению. Функция не может изменять объект в вызывающей среде.\n",
    "\n",
    "Передача изменяемого объекта, такого как `list`, `dict` или `set`, действует в некоторой степени, но не в точности, как передача по ссылке. Функция не может переназначить объект целиком, но она может изменять элементы на месте внутри объекта, и эти изменения будут отражены в вызывающей среде."
   ]
  },
  {
   "cell_type": "code",
   "metadata": {
    "colab": {
     "base_uri": "https://localhost:8080/"
    },
    "id": "Lpoz_MNjQnhK",
    "outputId": "e9c46553-146e-4435-96ba-ceeda090573d",
    "pycharm": {
     "name": "#%%\n"
    }
   },
   "source": [
    "def foo(number):\n",
    "    print(id(number))\n",
    "    number = number + 2\n",
    "    print(id(number))\n",
    "\n",
    "\n",
    "a = 1\n",
    "print(id(a))\n",
    "foo(a)"
   ],
   "execution_count": null,
   "outputs": []
  },
  {
   "cell_type": "code",
   "metadata": {
    "colab": {
     "base_uri": "https://localhost:8080/"
    },
    "id": "gOdhthCVRU8e",
    "outputId": "9effc764-beb9-4800-f5e0-42014d7d8b51",
    "pycharm": {
     "name": "#%%\n"
    }
   },
   "source": [
    "def avg(numbers):\n",
    "    print(numbers)\n",
    "    # ...\n",
    "\n",
    "\n",
    "a = [1, 2, 3]\n",
    "avg_val = avg(a)\n",
    "print(avg_val)"
   ],
   "execution_count": 92,
   "outputs": [
    {
     "name": "stdout",
     "output_type": "stream",
     "text": [
      "[1, 2, 3]\n",
      "None\n"
     ]
    }
   ]
  },
  {
   "cell_type": "markdown",
   "metadata": {
    "id": "jz_cOoIXO6Sg",
    "pycharm": {
     "name": "#%% md\n"
    }
   },
   "source": [
    "## Return\n",
    "\n",
    "Оператор `return` делает две вещи:\n",
    "1.  Он немедленно завершает функцию и передает управление выполнением обратно вызывающей стороне.\n",
    "2.  Он предоставляет механизм, с помощью которого функция может передавать данные обратно вызывающей стороне.\n"
   ]
  },
  {
   "cell_type": "code",
   "execution_count": 95,
   "outputs": [
    {
     "data": {
      "text/plain": "int"
     },
     "execution_count": 95,
     "metadata": {},
     "output_type": "execute_result"
    }
   ],
   "source": [],
   "metadata": {
    "collapsed": false,
    "pycharm": {
     "name": "#%%\n"
    }
   }
  },
  {
   "cell_type": "code",
   "metadata": {
    "id": "M52V2KnqRfU9",
    "colab": {
     "base_uri": "https://localhost:8080/"
    },
    "outputId": "58a49f15-0714-4847-d75f-262c5f2d0a96",
    "pycharm": {
     "name": "#%%\n"
    }
   },
   "source": [
    "def foo(arg1):\n",
    "    if isinstance(arg1, int):\n",
    "        return arg1 + 100\n",
    "    else:\n",
    "        return arg1\n",
    "\n",
    "\n",
    "print(f'arg=123 -> {foo(123)}')\n",
    "print(f'arg=\"abc\" -> {foo(\"abc\")}')\n",
    "a = foo(123)\n",
    "print(a + 100)"
   ],
   "execution_count": 98,
   "outputs": [
    {
     "name": "stdout",
     "output_type": "stream",
     "text": [
      "arg=123 -> 223\n",
      "arg=\"abc\" -> abc\n",
      "323\n"
     ]
    }
   ]
  },
  {
   "cell_type": "code",
   "metadata": {
    "colab": {
     "base_uri": "https://localhost:8080/"
    },
    "id": "y9nhX8HmSQL7",
    "outputId": "0a5fa5d5-7d0e-4306-979a-d5a5b26227d1",
    "pycharm": {
     "name": "#%%\n"
    }
   },
   "source": [
    "def foo():\n",
    "    i = 0\n",
    "    while i < 10:\n",
    "        print(f'step={i}')\n",
    "        if i > 2:\n",
    "            return 'done'\n",
    "        i += 1\n",
    "        print('end step')\n",
    "\n",
    "\n",
    "print('start')\n",
    "foo()\n",
    "print('end')"
   ],
   "execution_count": 100,
   "outputs": [
    {
     "name": "stdout",
     "output_type": "stream",
     "text": [
      "start\n",
      "step=0\n",
      "end step\n",
      "step=1\n",
      "end step\n",
      "step=2\n",
      "end step\n",
      "step=3\n",
      "end\n"
     ]
    }
   ]
  },
  {
   "cell_type": "code",
   "metadata": {
    "id": "imZWpccCQPlv",
    "colab": {
     "base_uri": "https://localhost:8080/"
    },
    "outputId": "a0490c18-1306-4ece-e35d-f51161d89d51",
    "pycharm": {
     "name": "#%%\n"
    }
   },
   "source": [
    "def foo2(arg1):\n",
    "    if isinstance(arg1, str):\n",
    "        return\n",
    "    return arg1\n",
    "\n",
    "\n",
    "print(f'arg=\"abc\" -> {foo2(\"abc\")}')"
   ],
   "execution_count": 101,
   "outputs": [
    {
     "name": "stdout",
     "output_type": "stream",
     "text": [
      "arg=\"abc\" -> None\n"
     ]
    }
   ]
  },
  {
   "cell_type": "code",
   "metadata": {
    "id": "CYPju-bvQ8Xu",
    "colab": {
     "base_uri": "https://localhost:8080/"
    },
    "outputId": "6a78fed5-a80f-445e-e5fb-24c9e12fb45c",
    "pycharm": {
     "name": "#%%\n"
    }
   },
   "source": [
    "def foo21():\n",
    "    print(\"Ha ha\")\n",
    "\n",
    "\n",
    "def foo22():\n",
    "    return\n",
    "\n",
    "\n",
    "a = foo21\n",
    "\n",
    "a()"
   ],
   "execution_count": 105,
   "outputs": [
    {
     "name": "stdout",
     "output_type": "stream",
     "text": [
      "Ha ha\n"
     ]
    }
   ]
  },
  {
   "cell_type": "code",
   "metadata": {
    "id": "VarQ5P3jQhDb",
    "colab": {
     "base_uri": "https://localhost:8080/"
    },
    "outputId": "196bf2d0-5e25-4b3e-fde0-af4acc48960d",
    "pycharm": {
     "name": "#%%\n"
    }
   },
   "source": [
    "def foo3(arg1):\n",
    "    return arg1, arg1 + 'aa', arg1 + 'bb'\n",
    "\n",
    "\n",
    "print(f'arg=\"abc\" -> {foo3(\"abc\")}')"
   ],
   "execution_count": 106,
   "outputs": [
    {
     "name": "stdout",
     "output_type": "stream",
     "text": [
      "arg=\"abc\" -> ('abc', 'abcaa', 'abcbb')\n"
     ]
    }
   ]
  },
  {
   "cell_type": "code",
   "metadata": {
    "colab": {
     "base_uri": "https://localhost:8080/"
    },
    "id": "50IFvON2TKzf",
    "outputId": "421254a8-5101-4764-ae00-7ac8ac5c8339",
    "pycharm": {
     "name": "#%%\n"
    }
   },
   "source": [
    "type(foo3(\"abc\"))"
   ],
   "execution_count": 107,
   "outputs": [
    {
     "data": {
      "text/plain": "tuple"
     },
     "execution_count": 107,
     "metadata": {},
     "output_type": "execute_result"
    }
   ]
  },
  {
   "cell_type": "code",
   "metadata": {
    "colab": {
     "base_uri": "https://localhost:8080/"
    },
    "id": "CTQDSI2lTTXg",
    "outputId": "7f148225-4b72-4b78-e5a4-36f31a2e2d24",
    "pycharm": {
     "name": "#%%\n"
    }
   },
   "source": [
    "i, j, _ = foo3(\"abc\")\n",
    "print(_)\n",
    "print(i, j)"
   ],
   "execution_count": 108,
   "outputs": [
    {
     "name": "stdout",
     "output_type": "stream",
     "text": [
      "abcbb\n",
      "abc abcaa\n"
     ]
    }
   ]
  },
  {
   "cell_type": "code",
   "metadata": {
    "id": "TdniR6eDT5ib",
    "pycharm": {
     "name": "#%%\n"
    }
   },
   "source": [],
   "execution_count": 108,
   "outputs": []
  },
  {
   "cell_type": "markdown",
   "metadata": {
    "id": "KHz2wMpIQJkj",
    "pycharm": {
     "name": "#%% md\n"
    }
   },
   "source": [
    "## Динамические аргументы\n",
    "\n",
    "Что если мы хотим написать функцию, которая берет на вход 4 аргумента (числа) и возвращает среднее"
   ]
  },
  {
   "cell_type": "code",
   "metadata": {
    "id": "U_lJ9FsedouB",
    "colab": {
     "base_uri": "https://localhost:8080/",
     "height": 195
    },
    "outputId": "d288e324-0492-462a-a114-5642a7c1edb5",
    "pycharm": {
     "name": "#%%\n"
    }
   },
   "source": [
    "def avg(a, b, c, d):\n",
    "    return (a + b + c + d) / 4\n",
    "\n",
    "\n",
    "print(avg(1, 2, 1, 1))"
   ],
   "execution_count": 110,
   "outputs": [
    {
     "name": "stdout",
     "output_type": "stream",
     "text": [
      "1.25\n"
     ]
    }
   ]
  },
  {
   "cell_type": "markdown",
   "metadata": {
    "id": "6qA7U03De4rd",
    "pycharm": {
     "name": "#%% md\n"
    }
   },
   "source": [
    "Теперь мы хотим, чтобы `b`, `c`, `d` были опциональными"
   ]
  },
  {
   "cell_type": "code",
   "metadata": {
    "id": "-GeGcmnSep7V",
    "colab": {
     "base_uri": "https://localhost:8080/"
    },
    "outputId": "533f85fd-d186-4717-ea76-527ab9cf35d5",
    "pycharm": {
     "name": "#%%\n"
    }
   },
   "source": [
    "def avg(a, b, c=2, d=2):\n",
    "    return (a + b + c + d) / 4\n",
    "\n",
    "\n",
    "# понятно, что это неверно\n",
    "print(avg(2, 2))"
   ],
   "execution_count": 113,
   "outputs": [
    {
     "name": "stdout",
     "output_type": "stream",
     "text": [
      "2.0\n"
     ]
    }
   ]
  },
  {
   "cell_type": "code",
   "execution_count": 117,
   "outputs": [
    {
     "data": {
      "text/plain": "1"
     },
     "execution_count": 117,
     "metadata": {},
     "output_type": "execute_result"
    }
   ],
   "source": [
    "int(bool(10))"
   ],
   "metadata": {
    "collapsed": false,
    "pycharm": {
     "name": "#%%\n"
    }
   }
  },
  {
   "cell_type": "code",
   "metadata": {
    "colab": {
     "base_uri": "https://localhost:8080/"
    },
    "id": "iVRsXQnoUfBg",
    "outputId": "7fdac29e-7675-475e-eb91-03d76f8c8766",
    "pycharm": {
     "name": "#%%\n"
    }
   },
   "source": [
    "def avg(a, b=None, c=None, d=None, e=None):\n",
    "    denominator = sum([int(item is not None) for item in (a, b, c, d, e)])\n",
    "    denominator = denominator or 1\n",
    "    b = b or 0\n",
    "    c = c or 0\n",
    "    d = d or 0\n",
    "    e = e or 0\n",
    "    return (a + b + c + d + e) / denominator\n",
    "\n",
    "\n",
    "avg(0, 1, 2)"
   ],
   "execution_count": 118,
   "outputs": [
    {
     "data": {
      "text/plain": "1.0"
     },
     "execution_count": 118,
     "metadata": {},
     "output_type": "execute_result"
    }
   ]
  },
  {
   "cell_type": "markdown",
   "metadata": {
    "id": "v-4zUMZOfpFs",
    "pycharm": {
     "name": "#%% md\n"
    }
   },
   "source": [
    "Сейчас мы знаем, что могли бы решить это проблему просто передавая список"
   ]
  },
  {
   "cell_type": "code",
   "metadata": {
    "id": "oZNA3koNXDrj",
    "pycharm": {
     "name": "#%%\n"
    }
   },
   "source": [
    "def avg(numbers):\n",
    "    if numbers:\n",
    "        return sum(numbers) / len(numbers)\n",
    "    else:\n",
    "        return"
   ],
   "execution_count": 122,
   "outputs": []
  },
  {
   "cell_type": "code",
   "metadata": {
    "colab": {
     "base_uri": "https://localhost:8080/"
    },
    "id": "mb9t76zpXRRH",
    "outputId": "d778dcd6-cbfc-41e8-a3d6-d15fdb2fa42e",
    "pycharm": {
     "name": "#%%\n"
    }
   },
   "source": [
    "avg([1, 2])"
   ],
   "execution_count": 123,
   "outputs": [
    {
     "data": {
      "text/plain": "1.5"
     },
     "execution_count": 123,
     "metadata": {},
     "output_type": "execute_result"
    }
   ]
  },
  {
   "cell_type": "code",
   "metadata": {
    "id": "056dNd6IXUu0",
    "pycharm": {
     "name": "#%%\n"
    }
   },
   "source": [
    "avg([])"
   ],
   "execution_count": 124,
   "outputs": []
  },
  {
   "cell_type": "markdown",
   "metadata": {
    "id": "r4jYIW9-fzgo",
    "pycharm": {
     "name": "#%% md\n"
    }
   },
   "source": [
    "Но есть более элегантный способ. Упаковать все аргументы в кортеж, для этого мы воспользуемся звездочками"
   ]
  },
  {
   "cell_type": "code",
   "metadata": {
    "id": "ETTkwSdfgA9E",
    "colab": {
     "base_uri": "https://localhost:8080/"
    },
    "outputId": "c222a171-d244-437a-8a12-7fabe702cde5",
    "pycharm": {
     "name": "#%%\n"
    }
   },
   "source": [
    "def avg(*args):\n",
    "    print(args)\n",
    "    print(type(args), len(args))\n",
    "    if args:\n",
    "        return sum(args) / len(args)\n",
    "\n",
    "\n",
    "b = (2, 2, 5, 2, 2, 2, 4)\n",
    "avg(*b)"
   ],
   "execution_count": 128,
   "outputs": [
    {
     "name": "stdout",
     "output_type": "stream",
     "text": [
      "(2, 2, 5, 2, 2, 2, 4)\n",
      "<class 'tuple'> 7\n"
     ]
    },
    {
     "data": {
      "text/plain": "2.7142857142857144"
     },
     "execution_count": 128,
     "metadata": {},
     "output_type": "execute_result"
    }
   ]
  },
  {
   "cell_type": "code",
   "execution_count": null,
   "outputs": [],
   "source": [],
   "metadata": {
    "collapsed": false,
    "pycharm": {
     "name": "#%%\n"
    }
   }
  },
  {
   "cell_type": "code",
   "metadata": {
    "id": "pTuxLGTxYRWX",
    "pycharm": {
     "name": "#%%\n"
    }
   },
   "source": [
    "def concat(*args):\n",
    "    # args - tuple of strs\n",
    "    # return: str - joined strs from args with separator = '//'\n",
    "    return '//'.join(args)"
   ],
   "execution_count": 129,
   "outputs": []
  },
  {
   "cell_type": "code",
   "metadata": {
    "colab": {
     "base_uri": "https://localhost:8080/"
    },
    "id": "vmykrnKCaSi_",
    "outputId": "a23924c4-c8e9-4369-f5e6-d08b434a31b0",
    "pycharm": {
     "name": "#%%\n"
    }
   },
   "source": [
    "concat('str1', 'str2', 'str3') == 'str1//str2//str3'"
   ],
   "execution_count": 130,
   "outputs": [
    {
     "data": {
      "text/plain": "True"
     },
     "execution_count": 130,
     "metadata": {},
     "output_type": "execute_result"
    }
   ]
  },
  {
   "cell_type": "code",
   "metadata": {
    "id": "B4eRXW65aRPQ",
    "pycharm": {
     "name": "#%%\n"
    }
   },
   "source": [
    "tuple_strs = ('str1', 'str2', 'str3')"
   ],
   "execution_count": 131,
   "outputs": []
  },
  {
   "cell_type": "code",
   "metadata": {
    "colab": {
     "base_uri": "https://localhost:8080/",
     "height": 35
    },
    "id": "YgALeMpCaUrS",
    "outputId": "1d3f6a39-eb81-470f-dfbc-11c0126b073d",
    "pycharm": {
     "name": "#%%\n"
    }
   },
   "source": [
    "concat(tuple_strs[0], tuple_strs[1], tuple_strs[2])"
   ],
   "execution_count": 132,
   "outputs": [
    {
     "data": {
      "text/plain": "'str1//str2//str3'"
     },
     "execution_count": 132,
     "metadata": {},
     "output_type": "execute_result"
    }
   ]
  },
  {
   "cell_type": "code",
   "metadata": {
    "colab": {
     "base_uri": "https://localhost:8080/",
     "height": 35
    },
    "id": "hgRNXo9SaZ47",
    "outputId": "a7dc3baa-dc18-409a-b970-d72731d1a607",
    "pycharm": {
     "name": "#%%\n"
    }
   },
   "source": [
    "concat(*tuple_strs)"
   ],
   "execution_count": 133,
   "outputs": [
    {
     "data": {
      "text/plain": "'str1//str2//str3'"
     },
     "execution_count": 133,
     "metadata": {},
     "output_type": "execute_result"
    }
   ]
  },
  {
   "cell_type": "code",
   "metadata": {
    "id": "brpjp5fzandz",
    "pycharm": {
     "name": "#%%\n"
    }
   },
   "source": [
    "# concat(tuple_strs[0], tuple_strs[1], tuple_strs[2])"
   ],
   "execution_count": null,
   "outputs": []
  },
  {
   "cell_type": "markdown",
   "metadata": {
    "id": "mpmyIloggtMj",
    "pycharm": {
     "name": "#%% md\n"
    }
   },
   "source": [
    "Мы умеем работать с неограниченными числом параметров, но как вызвать данную функцию, если у меня имеется готовый список?"
   ]
  },
  {
   "cell_type": "code",
   "metadata": {
    "id": "ccTj99_WgEl7",
    "pycharm": {
     "name": "#%%\n"
    }
   },
   "source": [
    "a = [2, 2, 5]\n",
    "avg(*a)"
   ],
   "execution_count": 134,
   "outputs": [
    {
     "name": "stdout",
     "output_type": "stream",
     "text": [
      "(2, 2, 5)\n",
      "<class 'tuple'> 3\n"
     ]
    },
    {
     "data": {
      "text/plain": "3.0"
     },
     "execution_count": 134,
     "metadata": {},
     "output_type": "execute_result"
    }
   ]
  },
  {
   "cell_type": "markdown",
   "metadata": {
    "id": "tmCK8rEthF3y",
    "pycharm": {
     "name": "#%% md\n"
    }
   },
   "source": [
    "То же самое для словарей, только словари обеспечивают нам keywords структуру."
   ]
  },
  {
   "cell_type": "code",
   "metadata": {
    "id": "bWf-e2Daa3Cs",
    "pycharm": {
     "name": "#%%\n"
    }
   },
   "source": [
    "config = {\n",
    "    'path': 'path/to/dir',\n",
    "}"
   ],
   "execution_count": 135,
   "outputs": []
  },
  {
   "cell_type": "code",
   "metadata": {
    "id": "q0effRdVg9Qe",
    "colab": {
     "base_uri": "https://localhost:8080/"
    },
    "outputId": "82a009fa-4ae0-4011-8872-793406068e9f",
    "pycharm": {
     "name": "#%%\n"
    }
   },
   "source": [
    "def server(timeout, path):\n",
    "    print(f'timeout={timeout}')\n",
    "    print(f'path={path}')\n",
    "\n",
    "\n",
    "server(10, 'abc')"
   ],
   "execution_count": 137,
   "outputs": [
    {
     "name": "stdout",
     "output_type": "stream",
     "text": [
      "timeout=10\n",
      "path=abc\n"
     ]
    }
   ]
  },
  {
   "cell_type": "code",
   "metadata": {
    "colab": {
     "base_uri": "https://localhost:8080/"
    },
    "id": "c-reg5mcbReS",
    "outputId": "448f573e-b60e-40b5-f134-013fc1a0662e",
    "pycharm": {
     "name": "#%%\n"
    }
   },
   "source": [
    "config['timeout'] = \"10\"\n",
    "\n",
    "server(timeout=config['timeout'], path=config['path'])"
   ],
   "execution_count": 138,
   "outputs": [
    {
     "name": "stdout",
     "output_type": "stream",
     "text": [
      "timeout=10\n",
      "path=path/to/dir\n"
     ]
    }
   ]
  },
  {
   "cell_type": "code",
   "metadata": {
    "colab": {
     "base_uri": "https://localhost:8080/",
     "height": 195
    },
    "id": "VGPGu4SzbaOA",
    "outputId": "bf2dbaa1-ac13-4835-98fc-f3e90842fcf4",
    "pycharm": {
     "name": "#%%\n"
    }
   },
   "source": [
    "# **var\n",
    "# key=value, key=value\n",
    "config[\"abc\"] = 10\n",
    "\n",
    "server(**config)\n",
    "# server(path='path/to/dir'. timeout=value)"
   ],
   "execution_count": 140,
   "outputs": [
    {
     "ename": "TypeError",
     "evalue": "server() got an unexpected keyword argument 'abc'",
     "output_type": "error",
     "traceback": [
      "\u001B[0;31m---------------------------------------------------------------------------\u001B[0m",
      "\u001B[0;31mTypeError\u001B[0m                                 Traceback (most recent call last)",
      "\u001B[0;32m<ipython-input-140-f0fa081d982b>\u001B[0m in \u001B[0;36m<module>\u001B[0;34m\u001B[0m\n\u001B[1;32m      3\u001B[0m \u001B[0mconfig\u001B[0m\u001B[0;34m[\u001B[0m\u001B[0;34m\"abc\"\u001B[0m\u001B[0;34m]\u001B[0m \u001B[0;34m=\u001B[0m \u001B[0;36m10\u001B[0m\u001B[0;34m\u001B[0m\u001B[0;34m\u001B[0m\u001B[0m\n\u001B[1;32m      4\u001B[0m \u001B[0;34m\u001B[0m\u001B[0m\n\u001B[0;32m----> 5\u001B[0;31m \u001B[0mserver\u001B[0m\u001B[0;34m(\u001B[0m\u001B[0;34m**\u001B[0m\u001B[0mconfig\u001B[0m\u001B[0;34m)\u001B[0m\u001B[0;34m\u001B[0m\u001B[0;34m\u001B[0m\u001B[0m\n\u001B[0m\u001B[1;32m      6\u001B[0m \u001B[0;31m# server(path='path/to/dir'. timeout=value)\u001B[0m\u001B[0;34m\u001B[0m\u001B[0;34m\u001B[0m\u001B[0;34m\u001B[0m\u001B[0m\n",
      "\u001B[0;31mTypeError\u001B[0m: server() got an unexpected keyword argument 'abc'"
     ]
    }
   ]
  },
  {
   "cell_type": "markdown",
   "metadata": {
    "id": "26HxzpSwcogK",
    "pycharm": {
     "name": "#%% md\n"
    }
   },
   "source": [
    "```\n",
    "def register(obj):\n",
    "  if obj содержит атрибут:\n",
    "     поведение 1\n",
    "  else:\n",
    "     поведение 2\n",
    "```"
   ]
  },
  {
   "cell_type": "code",
   "metadata": {
    "colab": {
     "base_uri": "https://localhost:8080/"
    },
    "id": "3-8ruDi4cEDX",
    "outputId": "4cd40380-d9b5-4395-83f9-a2724c37004c",
    "pycharm": {
     "name": "#%%\n"
    }
   },
   "source": [
    "def register(**kwargs):\n",
    "    print(kwargs)\n",
    "\n",
    "\n",
    "register(name=\"Ilya\")"
   ],
   "execution_count": 143,
   "outputs": [
    {
     "name": "stdout",
     "output_type": "stream",
     "text": [
      "{'name': 'Ilya'}\n"
     ]
    }
   ]
  },
  {
   "cell_type": "markdown",
   "metadata": {
    "id": "hyb6OJW2d3W4",
    "pycharm": {
     "name": "#%% md\n"
    }
   },
   "source": [
    "```\n",
    "Input:\n",
    "  {'a': 1, 'b': 2}\n",
    "Output:\n",
    "  {1: 'a', 2: 'b'}\n",
    "```"
   ]
  },
  {
   "cell_type": "code",
   "metadata": {
    "id": "om5R3Kb4driF",
    "pycharm": {
     "name": "#%%\n"
    }
   },
   "source": [
    "def swapper(**kwargs):\n",
    "    if not kwargs:\n",
    "        return\n",
    "    return dict([(value, key) for key, value in kwargs.items()])"
   ],
   "execution_count": null,
   "outputs": []
  },
  {
   "cell_type": "code",
   "metadata": {
    "colab": {
     "base_uri": "https://localhost:8080/"
    },
    "id": "WhPg7RUAdrfL",
    "outputId": "de1b4b9f-0958-44bf-8c19-8c2950149cf3",
    "pycharm": {
     "name": "#%%\n"
    }
   },
   "source": [
    "print(swapper(a=1, b=2, c=3))\n",
    "print(swapper(b=2, tt='abc'))\n",
    "print(swapper(a=True, b=12, oo=11, bb=11))"
   ],
   "execution_count": null,
   "outputs": []
  },
  {
   "cell_type": "markdown",
   "metadata": {
    "id": "qcHMgastiDR7",
    "pycharm": {
     "name": "#%% md\n"
    }
   },
   "source": [
    "Если хотим смешать два типа параметров, необходимо помнить, что позиционные (а `args` именное позиционные) агрументы идут перед ключ-значение параметрами"
   ]
  },
  {
   "cell_type": "code",
   "metadata": {
    "id": "QxPWQTdbh20K",
    "colab": {
     "base_uri": "https://localhost:8080/",
     "height": 128
    },
    "outputId": "1d9e57da-e605-4be0-811d-1d2522f7b53e",
    "pycharm": {
     "name": "#%%\n"
    }
   },
   "source": [
    "# код\n",
    "def foo(**b, *a):\n",
    "    print(a)\n",
    "    print(b)\n",
    "\n",
    "\n",
    "foo(b=1, 1, 1)"
   ],
   "execution_count": null,
   "outputs": []
  },
  {
   "cell_type": "markdown",
   "metadata": {
    "id": "9oVXVwo_ig2V",
    "pycharm": {
     "name": "#%% md\n"
    }
   },
   "source": [
    "## Комментарии\n",
    "\n",
    "Когда первая инструкция в теле функции Python является строковым литералом, она называется строкой документации функции. Строка документации используется для предоставления документации для функции. Он может содержать назначение функции, аргументы, которые она принимает, информацию о возвращаемых значениях или любую другую информацию, которая, по вашему мнению, будет полезной."
   ]
  },
  {
   "cell_type": "code",
   "metadata": {
    "id": "i6EPHiXRigOz",
    "pycharm": {
     "name": "#%%\n"
    }
   },
   "source": [
    "def foo(a, b):\n",
    "    \"\"\"\n",
    "    a: int - first integer\n",
    "    b: int - second integer\n",
    "    \"\"\"\n",
    "    return a + b"
   ],
   "execution_count": null,
   "outputs": []
  },
  {
   "cell_type": "markdown",
   "metadata": {
    "id": "76w-NTmYjKHU",
    "pycharm": {
     "name": "#%% md\n"
    }
   },
   "source": [
    "## Аннотации"
   ]
  },
  {
   "cell_type": "code",
   "metadata": {
    "id": "7qYHEwAGjMBk",
    "pycharm": {
     "name": "#%%\n"
    }
   },
   "source": [],
   "execution_count": null,
   "outputs": []
  },
  {
   "cell_type": "markdown",
   "metadata": {
    "id": "X7cAMZYZjbyR",
    "pycharm": {
     "name": "#%% md\n"
    }
   },
   "source": [
    "https://realpython.com/defining-your-own-python-function/"
   ]
  },
  {
   "cell_type": "code",
   "metadata": {
    "id": "5RGt0-w6QM1K",
    "pycharm": {
     "name": "#%%\n"
    }
   },
   "source": [],
   "execution_count": null,
   "outputs": []
  },
  {
   "cell_type": "code",
   "metadata": {
    "id": "ZqBWSOrDUBbs",
    "pycharm": {
     "name": "#%%\n"
    }
   },
   "source": [],
   "execution_count": null,
   "outputs": []
  }
 ]
}